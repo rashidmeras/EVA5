{
  "nbformat": 4,
  "nbformat_minor": 0,
  "metadata": {
    "colab": {
      "name": "EVA5: Submission - Session 7-Final.ipynb",
      "provenance": [],
      "collapsed_sections": [],
      "authorship_tag": "ABX9TyMpOGfNS+nVFmdYFk/Tmf8p",
      "include_colab_link": true
    },
    "kernelspec": {
      "name": "python3",
      "display_name": "Python 3"
    },
    "accelerator": "GPU",
    "widgets": {
      "application/vnd.jupyter.widget-state+json": {
        "037378a1b3d94300879f0400f9f5417c": {
          "model_module": "@jupyter-widgets/controls",
          "model_name": "HBoxModel",
          "state": {
            "_view_name": "HBoxView",
            "_dom_classes": [],
            "_model_name": "HBoxModel",
            "_view_module": "@jupyter-widgets/controls",
            "_model_module_version": "1.5.0",
            "_view_count": null,
            "_view_module_version": "1.5.0",
            "box_style": "",
            "layout": "IPY_MODEL_a6870fdf6abb4272925001aa3822b0f8",
            "_model_module": "@jupyter-widgets/controls",
            "children": [
              "IPY_MODEL_9a0d62f41a714d61bf935587c9068901",
              "IPY_MODEL_1e39141afc6c4a57960b774d59e66b71"
            ]
          }
        },
        "a6870fdf6abb4272925001aa3822b0f8": {
          "model_module": "@jupyter-widgets/base",
          "model_name": "LayoutModel",
          "state": {
            "_view_name": "LayoutView",
            "grid_template_rows": null,
            "right": null,
            "justify_content": null,
            "_view_module": "@jupyter-widgets/base",
            "overflow": null,
            "_model_module_version": "1.2.0",
            "_view_count": null,
            "flex_flow": null,
            "width": null,
            "min_width": null,
            "border": null,
            "align_items": null,
            "bottom": null,
            "_model_module": "@jupyter-widgets/base",
            "top": null,
            "grid_column": null,
            "overflow_y": null,
            "overflow_x": null,
            "grid_auto_flow": null,
            "grid_area": null,
            "grid_template_columns": null,
            "flex": null,
            "_model_name": "LayoutModel",
            "justify_items": null,
            "grid_row": null,
            "max_height": null,
            "align_content": null,
            "visibility": null,
            "align_self": null,
            "height": null,
            "min_height": null,
            "padding": null,
            "grid_auto_rows": null,
            "grid_gap": null,
            "max_width": null,
            "order": null,
            "_view_module_version": "1.2.0",
            "grid_template_areas": null,
            "object_position": null,
            "object_fit": null,
            "grid_auto_columns": null,
            "margin": null,
            "display": null,
            "left": null
          }
        },
        "9a0d62f41a714d61bf935587c9068901": {
          "model_module": "@jupyter-widgets/controls",
          "model_name": "FloatProgressModel",
          "state": {
            "_view_name": "ProgressView",
            "style": "IPY_MODEL_da95ab0c94744cd0b71884268824fad5",
            "_dom_classes": [],
            "description": "",
            "_model_name": "FloatProgressModel",
            "bar_style": "success",
            "max": 1,
            "_view_module": "@jupyter-widgets/controls",
            "_model_module_version": "1.5.0",
            "value": 1,
            "_view_count": null,
            "_view_module_version": "1.5.0",
            "orientation": "horizontal",
            "min": 0,
            "description_tooltip": null,
            "_model_module": "@jupyter-widgets/controls",
            "layout": "IPY_MODEL_063dd4ae1c6c425999323c5c9426c68e"
          }
        },
        "1e39141afc6c4a57960b774d59e66b71": {
          "model_module": "@jupyter-widgets/controls",
          "model_name": "HTMLModel",
          "state": {
            "_view_name": "HTMLView",
            "style": "IPY_MODEL_47af609eea5b4c5b8b8ccc9c16e47c13",
            "_dom_classes": [],
            "description": "",
            "_model_name": "HTMLModel",
            "placeholder": "​",
            "_view_module": "@jupyter-widgets/controls",
            "_model_module_version": "1.5.0",
            "value": " 170500096/? [00:08&lt;00:00, 21098976.43it/s]",
            "_view_count": null,
            "_view_module_version": "1.5.0",
            "description_tooltip": null,
            "_model_module": "@jupyter-widgets/controls",
            "layout": "IPY_MODEL_889a37a19d2949bfbe0d7a299a7e0c70"
          }
        },
        "da95ab0c94744cd0b71884268824fad5": {
          "model_module": "@jupyter-widgets/controls",
          "model_name": "ProgressStyleModel",
          "state": {
            "_view_name": "StyleView",
            "_model_name": "ProgressStyleModel",
            "description_width": "initial",
            "_view_module": "@jupyter-widgets/base",
            "_model_module_version": "1.5.0",
            "_view_count": null,
            "_view_module_version": "1.2.0",
            "bar_color": null,
            "_model_module": "@jupyter-widgets/controls"
          }
        },
        "063dd4ae1c6c425999323c5c9426c68e": {
          "model_module": "@jupyter-widgets/base",
          "model_name": "LayoutModel",
          "state": {
            "_view_name": "LayoutView",
            "grid_template_rows": null,
            "right": null,
            "justify_content": null,
            "_view_module": "@jupyter-widgets/base",
            "overflow": null,
            "_model_module_version": "1.2.0",
            "_view_count": null,
            "flex_flow": null,
            "width": null,
            "min_width": null,
            "border": null,
            "align_items": null,
            "bottom": null,
            "_model_module": "@jupyter-widgets/base",
            "top": null,
            "grid_column": null,
            "overflow_y": null,
            "overflow_x": null,
            "grid_auto_flow": null,
            "grid_area": null,
            "grid_template_columns": null,
            "flex": null,
            "_model_name": "LayoutModel",
            "justify_items": null,
            "grid_row": null,
            "max_height": null,
            "align_content": null,
            "visibility": null,
            "align_self": null,
            "height": null,
            "min_height": null,
            "padding": null,
            "grid_auto_rows": null,
            "grid_gap": null,
            "max_width": null,
            "order": null,
            "_view_module_version": "1.2.0",
            "grid_template_areas": null,
            "object_position": null,
            "object_fit": null,
            "grid_auto_columns": null,
            "margin": null,
            "display": null,
            "left": null
          }
        },
        "47af609eea5b4c5b8b8ccc9c16e47c13": {
          "model_module": "@jupyter-widgets/controls",
          "model_name": "DescriptionStyleModel",
          "state": {
            "_view_name": "StyleView",
            "_model_name": "DescriptionStyleModel",
            "description_width": "",
            "_view_module": "@jupyter-widgets/base",
            "_model_module_version": "1.5.0",
            "_view_count": null,
            "_view_module_version": "1.2.0",
            "_model_module": "@jupyter-widgets/controls"
          }
        },
        "889a37a19d2949bfbe0d7a299a7e0c70": {
          "model_module": "@jupyter-widgets/base",
          "model_name": "LayoutModel",
          "state": {
            "_view_name": "LayoutView",
            "grid_template_rows": null,
            "right": null,
            "justify_content": null,
            "_view_module": "@jupyter-widgets/base",
            "overflow": null,
            "_model_module_version": "1.2.0",
            "_view_count": null,
            "flex_flow": null,
            "width": null,
            "min_width": null,
            "border": null,
            "align_items": null,
            "bottom": null,
            "_model_module": "@jupyter-widgets/base",
            "top": null,
            "grid_column": null,
            "overflow_y": null,
            "overflow_x": null,
            "grid_auto_flow": null,
            "grid_area": null,
            "grid_template_columns": null,
            "flex": null,
            "_model_name": "LayoutModel",
            "justify_items": null,
            "grid_row": null,
            "max_height": null,
            "align_content": null,
            "visibility": null,
            "align_self": null,
            "height": null,
            "min_height": null,
            "padding": null,
            "grid_auto_rows": null,
            "grid_gap": null,
            "max_width": null,
            "order": null,
            "_view_module_version": "1.2.0",
            "grid_template_areas": null,
            "object_position": null,
            "object_fit": null,
            "grid_auto_columns": null,
            "margin": null,
            "display": null,
            "left": null
          }
        }
      }
    }
  },
  "cells": [
    {
      "cell_type": "markdown",
      "metadata": {
        "id": "view-in-github",
        "colab_type": "text"
      },
      "source": [
        "<a href=\"https://colab.research.google.com/github/rashidmeras/EVA5/blob/master/S7/EVA5_Submission_Session_7_Final.ipynb\" target=\"_parent\"><img src=\"https://colab.research.google.com/assets/colab-badge.svg\" alt=\"Open In Colab\"/></a>"
      ]
    },
    {
      "cell_type": "markdown",
      "metadata": {
        "id": "UfBYawbxEBwh",
        "colab_type": "text"
      },
      "source": [
        "* Objective: Take given code and meet the following targets:\n",
        "\n",
        "\n",
        ">> 1. change the code such that it uses GPU\n",
        "2. change the architecture to C1C2C3C40 (basically 3 MPs)\n",
        "3. total RF must be more than 44\n",
        "4. one of the layers must use Depthwise Separable Convolution\n",
        "5. one of the layers must use Dilated Convolution\n",
        "6. use GAP (compulsory):- add FC after GAP to target #of classes (optional)\n",
        "7. achieve 80% accuracy, as many epochs as you want. \n",
        "8. Total Params to be less than 1M. \n",
        "\n",
        "\n",
        "Submitted By: \n",
        "* `Meras Pillai Rashid`\n",
        "* `Samir Prasad`"
      ]
    },
    {
      "cell_type": "markdown",
      "metadata": {
        "id": "2FBxnsHrE-Dh",
        "colab_type": "text"
      },
      "source": [
        "Import `pytorch` libraries and modules:"
      ]
    },
    {
      "cell_type": "code",
      "metadata": {
        "id": "SD35M-SQSDAl",
        "colab_type": "code",
        "colab": {}
      },
      "source": [
        "import torch\n",
        "import torchvision\n",
        "import torchvision.transforms as transforms"
      ],
      "execution_count": 1,
      "outputs": []
    },
    {
      "cell_type": "markdown",
      "metadata": {
        "id": "q5ugc3VBE1VZ",
        "colab_type": "text"
      },
      "source": [
        "Clone the repo"
      ]
    },
    {
      "cell_type": "code",
      "metadata": {
        "id": "PQVyASR3SHc3",
        "colab_type": "code",
        "colab": {
          "base_uri": "https://localhost:8080/",
          "height": 134
        },
        "outputId": "f7f9b197-cea3-4e27-f824-4d1423e422ad"
      },
      "source": [
        "!git clone https://github.com/rashidmeras/EVA5.git"
      ],
      "execution_count": 2,
      "outputs": [
        {
          "output_type": "stream",
          "text": [
            "Cloning into 'EVA5'...\n",
            "remote: Enumerating objects: 128, done.\u001b[K\n",
            "remote: Counting objects: 100% (128/128), done.\u001b[K\n",
            "remote: Compressing objects: 100% (125/125), done.\u001b[K\n",
            "remote: Total 128 (delta 71), reused 0 (delta 0), pack-reused 0\u001b[K\n",
            "Receiving objects: 100% (128/128), 213.86 KiB | 10.69 MiB/s, done.\n",
            "Resolving deltas: 100% (71/71), done.\n"
          ],
          "name": "stdout"
        }
      ]
    },
    {
      "cell_type": "markdown",
      "metadata": {
        "id": "n5_h6urHFCjc",
        "colab_type": "text"
      },
      "source": [
        "change the code such that it uses GPU"
      ]
    },
    {
      "cell_type": "code",
      "metadata": {
        "id": "EV3x1W0MSPNC",
        "colab_type": "code",
        "colab": {
          "base_uri": "https://localhost:8080/",
          "height": 34
        },
        "outputId": "f8691fb3-fb4e-4ed2-c51b-09718cab0f24"
      },
      "source": [
        "use_cuda = torch.cuda.is_available()\n",
        "device = torch.device(\"cuda\" if use_cuda else \"cpu\")\n",
        "print(\"Device : \", device)"
      ],
      "execution_count": 3,
      "outputs": [
        {
          "output_type": "stream",
          "text": [
            "Device :  cuda\n"
          ],
          "name": "stdout"
        }
      ]
    },
    {
      "cell_type": "code",
      "metadata": {
        "id": "txfow0PbANK5",
        "colab_type": "code",
        "colab": {
          "base_uri": "https://localhost:8080/",
          "height": 133,
          "referenced_widgets": [
            "037378a1b3d94300879f0400f9f5417c",
            "a6870fdf6abb4272925001aa3822b0f8",
            "9a0d62f41a714d61bf935587c9068901",
            "1e39141afc6c4a57960b774d59e66b71",
            "da95ab0c94744cd0b71884268824fad5",
            "063dd4ae1c6c425999323c5c9426c68e",
            "47af609eea5b4c5b8b8ccc9c16e47c13",
            "889a37a19d2949bfbe0d7a299a7e0c70"
          ]
        },
        "outputId": "7a260dbe-47d5-4fd0-8bf8-f516d5212574"
      },
      "source": [
        "from EVA5.S7 import initialize_train_test_loader_cifar10\n",
        "train_loader, test_loader = initialize_train_test_loader_cifar10.train_test_loader()\n",
        "\n",
        "# train_loader, test_loader = train_test_loader()\n",
        "classes = ('plane', 'car', 'bird', 'cat', 'deer', 'dog', 'frog', 'horse', 'ship', 'truck')"
      ],
      "execution_count": 4,
      "outputs": [
        {
          "output_type": "stream",
          "text": [
            "\n",
            " Initialize train and test loader with Batch Size:4\n",
            "Downloading https://www.cs.toronto.edu/~kriz/cifar-10-python.tar.gz to ./data/cifar-10-python.tar.gz\n"
          ],
          "name": "stdout"
        },
        {
          "output_type": "display_data",
          "data": {
            "application/vnd.jupyter.widget-view+json": {
              "model_id": "037378a1b3d94300879f0400f9f5417c",
              "version_minor": 0,
              "version_major": 2
            },
            "text/plain": [
              "HBox(children=(FloatProgress(value=1.0, bar_style='info', max=1.0), HTML(value='')))"
            ]
          },
          "metadata": {
            "tags": []
          }
        },
        {
          "output_type": "stream",
          "text": [
            "Extracting ./data/cifar-10-python.tar.gz to ./data\n",
            "Files already downloaded and verified\n"
          ],
          "name": "stdout"
        }
      ]
    },
    {
      "cell_type": "code",
      "metadata": {
        "id": "BedqwCnGRoz2",
        "colab_type": "code",
        "colab": {
          "base_uri": "https://localhost:8080/",
          "height": 189
        },
        "outputId": "924fb5ed-5c24-4919-e719-03b649a4b7ed"
      },
      "source": [
        "import matplotlib.pyplot as plt\n",
        "import numpy as np\n",
        "\n",
        "# functions to show an image\n",
        "def imshow(img):\n",
        "    img = img / 2 + 0.5     # unnormalize\n",
        "    npimg = img.numpy()\n",
        "    plt.imshow(np.transpose(npimg, (1, 2, 0)))\n",
        "\n",
        "# get some random training images\n",
        "dataiter = iter(train_loader)\n",
        "images, labels = dataiter.next()\n",
        "\n",
        "# show images\n",
        "imshow(torchvision.utils.make_grid(images))\n",
        "\n",
        "# print labels\n",
        "print(' '.join('%5s' % classes[labels[j]] for j in range(4)))"
      ],
      "execution_count": 5,
      "outputs": [
        {
          "output_type": "stream",
          "text": [
            "Clipping input data to the valid range for imshow with RGB data ([0..1] for floats or [0..255] for integers).\n"
          ],
          "name": "stderr"
        },
        {
          "output_type": "stream",
          "text": [
            "horse   dog   cat plane\n"
          ],
          "name": "stdout"
        },
        {
          "output_type": "display_data",
          "data": {
            "image/png": "[encoded data removed]",
            "text/plain": [
              "<Figure size 432x288 with 1 Axes>"
            ]
          },
          "metadata": {
            "tags": [],
            "needs_background": "light"
          }
        },
        {
          "output_type": "stream",
          "text": [
            "\n"
          ],
          "name": "stdout"
        }
      ]
    },
    {
      "cell_type": "code",
      "metadata": {
        "id": "E8iuEXMASR34",
        "colab_type": "code",
        "colab": {
          "base_uri": "https://localhost:8080/",
          "height": 34
        },
        "outputId": "284f332f-a3fa-462a-ba0b-7f2bd9bde78f"
      },
      "source": [
        "from EVA5.S7 import customS7Model\n",
        "model = customS7Model.Net().to(device)\n",
        "print(\"Model Loaded Successfully \")"
      ],
      "execution_count": 6,
      "outputs": [
        {
          "output_type": "stream",
          "text": [
            "Model Loaded Successfully \n"
          ],
          "name": "stdout"
        }
      ]
    },
    {
      "cell_type": "code",
      "metadata": {
        "id": "gWu-jF364JoQ",
        "colab_type": "code",
        "colab": {
          "base_uri": "https://localhost:8080/",
          "height": 588
        },
        "outputId": "de52caef-44f4-40f4-82ba-4ac4886035c5"
      },
      "source": [
        "!pip install torchsummary\n",
        "from torchsummary import summary\n",
        "\n",
        "# model = Net().to(device)\n",
        "summary(model, input_size=(3, 32, 32))"
      ],
      "execution_count": 7,
      "outputs": [
        {
          "output_type": "stream",
          "text": [
            "Requirement already satisfied: torchsummary in /usr/local/lib/python3.6/dist-packages (1.5.1)\n",
            "----------------------------------------------------------------\n",
            "        Layer (type)               Output Shape         Param #\n",
            "================================================================\n",
            "            Conv2d-1           [-1, 32, 32, 32]             896\n",
            "              ReLU-2           [-1, 32, 32, 32]               0\n",
            "       BatchNorm2d-3           [-1, 32, 32, 32]              64\n",
            "            Conv2d-4          [-1, 128, 32, 32]           1,280\n",
            "              ReLU-5          [-1, 128, 32, 32]               0\n",
            "       BatchNorm2d-6          [-1, 128, 32, 32]             256\n",
            "         MaxPool2d-7          [-1, 128, 16, 16]               0\n",
            "            Conv2d-8          [-1, 160, 14, 14]         184,480\n",
            "              ReLU-9          [-1, 160, 14, 14]               0\n",
            "      BatchNorm2d-10          [-1, 160, 14, 14]             320\n",
            "        MaxPool2d-11            [-1, 160, 7, 7]               0\n",
            "           Conv2d-12            [-1, 320, 9, 9]         461,120\n",
            "             ReLU-13            [-1, 320, 9, 9]               0\n",
            "      BatchNorm2d-14            [-1, 320, 9, 9]             640\n",
            "        MaxPool2d-15            [-1, 320, 4, 4]               0\n",
            "           Conv2d-16             [-1, 96, 4, 4]         276,576\n",
            "             ReLU-17             [-1, 96, 4, 4]               0\n",
            "      BatchNorm2d-18             [-1, 96, 4, 4]             192\n",
            "           Conv2d-19             [-1, 10, 4, 4]             970\n",
            "        AvgPool2d-20             [-1, 10, 1, 1]               0\n",
            "================================================================\n",
            "Total params: 926,794\n",
            "Trainable params: 926,794\n",
            "Non-trainable params: 0\n",
            "----------------------------------------------------------------\n",
            "Input size (MB): 0.01\n",
            "Forward/backward pass size (MB): 5.45\n",
            "Params size (MB): 3.54\n",
            "Estimated Total Size (MB): 8.99\n",
            "----------------------------------------------------------------\n"
          ],
          "name": "stdout"
        }
      ]
    },
    {
      "cell_type": "code",
      "metadata": {
        "id": "zYtKr-mPuZIw",
        "colab_type": "code",
        "colab": {
          "base_uri": "https://localhost:8080/",
          "height": 454
        },
        "outputId": "aecb85c1-dbb3-42f2-c651-19248fd9d61b"
      },
      "source": [
        "from EVA5.S7 import trainingSetupCifar10\n",
        "\n",
        "trainingSetupCifar10.initiate_training(model, device, train_loader, 25)"
      ],
      "execution_count": 8,
      "outputs": [
        {
          "output_type": "stream",
          "text": [
            "(*)[1,  2000] loss: 1.915 (*)[1,  4000] loss: 1.664 (*)[1,  6000] loss: 1.497 (*)[1,  8000] loss: 1.406 (*)[1, 10000] loss: 1.311 (*)[1, 12000] loss: 1.284\n",
            "(*)[2,  2000] loss: 1.216 (*)[2,  4000] loss: 1.189 (*)[2,  6000] loss: 1.121 (*)[2,  8000] loss: 1.129 (*)[2, 10000] loss: 1.057 (*)[2, 12000] loss: 1.038\n",
            "(*)[3,  2000] loss: 1.011 (*)[3,  4000] loss: 1.001 (*)[3,  6000] loss: 1.001 (*)[3,  8000] loss: 0.971 (*)[3, 10000] loss: 0.986 (*)[3, 12000] loss: 0.928\n",
            "(*)[4,  2000] loss: 0.899 (*)[4,  4000] loss: 0.919 (*)[4,  6000] loss: 0.903 (*)[4,  8000] loss: 0.864 (*)[4, 10000] loss: 0.885 (*)[4, 12000] loss: 0.866\n",
            "(*)[5,  2000] loss: 0.819 (*)[5,  4000] loss: 0.825 (*)[5,  6000] loss: 0.838 (*)[5,  8000] loss: 0.826 (*)[5, 10000] loss: 0.834 (*)[5, 12000] loss: 0.838\n",
            "(*)[6,  2000] loss: 0.801 (*)[6,  4000] loss: 0.774 (*)[6,  6000] loss: 0.802 (*)[6,  8000] loss: 0.780 (*)[6, 10000] loss: 0.774 (*)[6, 12000] loss: 0.782\n",
            "(*)[7,  2000] loss: 0.746 (*)[7,  4000] loss: 0.747 (*)[7,  6000] loss: 0.749 (*)[7,  8000] loss: 0.727 (*)[7, 10000] loss: 0.736 (*)[7, 12000] loss: 0.739\n",
            "(*)[8,  2000] loss: 0.708 (*)[8,  4000] loss: 0.722 (*)[8,  6000] loss: 0.709 (*)[8,  8000] loss: 0.694 (*)[8, 10000] loss: 0.736 (*)[8, 12000] loss: 0.722\n",
            "(*)[9,  2000] loss: 0.669 (*)[9,  4000] loss: 0.687 (*)[9,  6000] loss: 0.686 (*)[9,  8000] loss: 0.711 (*)[9, 10000] loss: 0.676 (*)[9, 12000] loss: 0.678\n",
            "(*)[10,  2000] loss: 0.620 (*)[10,  4000] loss: 0.676 (*)[10,  6000] loss: 0.654 (*)[10,  8000] loss: 0.677 (*)[10, 10000] loss: 0.639 (*)[10, 12000] loss: 0.668\n",
            "(*)[11,  2000] loss: 0.620 (*)[11,  4000] loss: 0.642 (*)[11,  6000] loss: 0.646 (*)[11,  8000] loss: 0.641 (*)[11, 10000] loss: 0.614 (*)[11, 12000] loss: 0.664\n",
            "(*)[12,  2000] loss: 0.637 (*)[12,  4000] loss: 0.628 (*)[12,  6000] loss: 0.599 (*)[12,  8000] loss: 0.613 (*)[12, 10000] loss: 0.642 (*)[12, 12000] loss: 0.620\n",
            "(*)[13,  2000] loss: 0.595 (*)[13,  4000] loss: 0.610 (*)[13,  6000] loss: 0.615 (*)[13,  8000] loss: 0.576 (*)[13, 10000] loss: 0.637 (*)[13, 12000] loss: 0.619\n",
            "(*)[14,  2000] loss: 0.588 (*)[14,  4000] loss: 0.597 (*)[14,  6000] loss: 0.589 (*)[14,  8000] loss: 0.574 (*)[14, 10000] loss: 0.621 (*)[14, 12000] loss: 0.578\n",
            "(*)[15,  2000] loss: 0.569 (*)[15,  4000] loss: 0.576 (*)[15,  6000] loss: 0.558 (*)[15,  8000] loss: 0.563 (*)[15, 10000] loss: 0.596 (*)[15, 12000] loss: 0.580\n",
            "(*)[16,  2000] loss: 0.553 (*)[16,  4000] loss: 0.555 (*)[16,  6000] loss: 0.552 (*)[16,  8000] loss: 0.558 (*)[16, 10000] loss: 0.568 (*)[16, 12000] loss: 0.567\n",
            "(*)[17,  2000] loss: 0.535 (*)[17,  4000] loss: 0.564 (*)[17,  6000] loss: 0.568 (*)[17,  8000] loss: 0.541 (*)[17, 10000] loss: 0.554 (*)[17, 12000] loss: 0.546\n",
            "(*)[18,  2000] loss: 0.525 (*)[18,  4000] loss: 0.550 (*)[18,  6000] loss: 0.551 (*)[18,  8000] loss: 0.515 (*)[18, 10000] loss: 0.543 (*)[18, 12000] loss: 0.545\n",
            "(*)[19,  2000] loss: 0.517 (*)[19,  4000] loss: 0.548 (*)[19,  6000] loss: 0.538 (*)[19,  8000] loss: 0.521 (*)[19, 10000] loss: 0.504 (*)[19, 12000] loss: 0.509\n",
            "(*)[20,  2000] loss: 0.507 (*)[20,  4000] loss: 0.540 (*)[20,  6000] loss: 0.521 (*)[20,  8000] loss: 0.514 (*)[20, 10000] loss: 0.525 (*)[20, 12000] loss: 0.499\n",
            "(*)[21,  2000] loss: 0.505 (*)[21,  4000] loss: 0.460 (*)[21,  6000] loss: 0.511 (*)[21,  8000] loss: 0.504 (*)[21, 10000] loss: 0.520 (*)[21, 12000] loss: 0.512\n",
            "(*)[22,  2000] loss: 0.486 (*)[22,  4000] loss: 0.497 (*)[22,  6000] loss: 0.498 (*)[22,  8000] loss: 0.494 (*)[22, 10000] loss: 0.517 (*)[22, 12000] loss: 0.493\n",
            "(*)[23,  2000] loss: 0.479 (*)[23,  4000] loss: 0.501 (*)[23,  6000] loss: 0.469 (*)[23,  8000] loss: 0.494 (*)[23, 10000] loss: 0.481 (*)[23, 12000] loss: 0.469\n",
            "(*)[24,  2000] loss: 0.482 (*)[24,  4000] loss: 0.464 (*)[24,  6000] loss: 0.479 (*)[24,  8000] loss: 0.461 (*)[24, 10000] loss: 0.491 (*)[24, 12000] loss: 0.474\n",
            "(*)[25,  2000] loss: 0.458 (*)[25,  4000] loss: 0.442 (*)[25,  6000] loss: 0.461 (*)[25,  8000] loss: 0.461 (*)[25, 10000] loss: 0.459 (*)[25, 12000] loss: 0.480\n",
            "Finished Training\n"
          ],
          "name": "stdout"
        }
      ]
    },
    {
      "cell_type": "code",
      "metadata": {
        "id": "zlH9DuWwg-_y",
        "colab_type": "code",
        "colab": {
          "base_uri": "https://localhost:8080/",
          "height": 172
        },
        "outputId": "e3104f9a-e259-47a6-ad76-379ba9d2a509"
      },
      "source": [
        "dataiter = iter(test_loader)\n",
        "images, labels = dataiter.next()\n",
        "\n",
        "# print images\n",
        "imshow(torchvision.utils.make_grid(images))\n",
        "print('GroundTruth: ', ' '.join('%5s' % classes[labels[j]] for j in range(4)))"
      ],
      "execution_count": 9,
      "outputs": [
        {
          "output_type": "stream",
          "text": [
            "Clipping input data to the valid range for imshow with RGB data ([0..1] for floats or [0..255] for integers).\n"
          ],
          "name": "stderr"
        },
        {
          "output_type": "stream",
          "text": [
            "GroundTruth:    cat  ship  ship plane\n"
          ],
          "name": "stdout"
        },
        {
          "output_type": "display_data",
          "data": {
            "image/png": "[encoded data removed]",
            "text/plain": [
              "<Figure size 432x288 with 1 Axes>"
            ]
          },
          "metadata": {
            "tags": [],
            "needs_background": "light"
          }
        }
      ]
    },
    {
      "cell_type": "markdown",
      "metadata": {
        "id": "q27nBzpRhfem",
        "colab_type": "text"
      },
      "source": [
        "Accuracy of the network on the 10000 test images"
      ]
    },
    {
      "cell_type": "code",
      "metadata": {
        "id": "ns-Bv2bU1Bqu",
        "colab_type": "code",
        "colab": {
          "base_uri": "https://localhost:8080/",
          "height": 34
        },
        "outputId": "a683b324-2cc4-4050-8e0a-f1cd3ebc04c3"
      },
      "source": [
        "cifar10CheckLib.check_test_accuracy(model, device, test_loader)"
      ],
      "execution_count": 13,
      "outputs": [
        {
          "output_type": "stream",
          "text": [
            "Accuracy of the network on the 10000 test images: 81 %\n"
          ],
          "name": "stdout"
        }
      ]
    },
    {
      "cell_type": "markdown",
      "metadata": {
        "id": "V1tA_cMQimor",
        "colab_type": "text"
      },
      "source": [
        "Classwise evaluation"
      ]
    },
    {
      "cell_type": "code",
      "metadata": {
        "id": "B9QWK7l11i01",
        "colab_type": "code",
        "colab": {
          "base_uri": "https://localhost:8080/",
          "height": 185
        },
        "outputId": "0b20a3db-1721-4840-e0aa-8701edc6755e"
      },
      "source": [
        "cifar10CheckLib.check_classwise_accuracy(model, device, test_loader, classes)"
      ],
      "execution_count": 14,
      "outputs": [
        {
          "output_type": "stream",
          "text": [
            "Accuracy of plane : 87 %\n",
            "Accuracy of   car : 90 %\n",
            "Accuracy of  bird : 71 %\n",
            "Accuracy of   cat : 61 %\n",
            "Accuracy of  deer : 73 %\n",
            "Accuracy of   dog : 68 %\n",
            "Accuracy of  frog : 89 %\n",
            "Accuracy of horse : 86 %\n",
            "Accuracy of  ship : 91 %\n",
            "Accuracy of truck : 91 %\n"
          ],
          "name": "stdout"
        }
      ]
    },
    {
      "cell_type": "markdown",
      "metadata": {
        "id": "OVzkWbWUFONh",
        "colab_type": "text"
      },
      "source": [
        "Summary:\n",
        "\n",
        "A model was created meeting the given targets with and trained for 25 epochs\n",
        "* Total params: 926,794\n",
        "* Accuracy of the network on the 10000 test images: 81 %"
      ]
    }
  ]
}