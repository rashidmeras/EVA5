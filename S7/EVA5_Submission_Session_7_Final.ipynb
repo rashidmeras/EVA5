{
  "nbformat": 4,
  "nbformat_minor": 0,
  "metadata": {
    "colab": {
      "name": "EVA5: Submission - Session 7-Final.ipynb",
      "provenance": [],
      "collapsed_sections": [],
      "authorship_tag": "ABX9TyPKQoIFh0wMQI7QbN4OhdzR",
      "include_colab_link": true
    },
    "kernelspec": {
      "name": "python3",
      "display_name": "Python 3"
    },
    "accelerator": "GPU",
    "widgets": {
      "application/vnd.jupyter.widget-state+json": {
        "df19f45474f24fafba9efd41615d5058": {
          "model_module": "@jupyter-widgets/controls",
          "model_name": "HBoxModel",
          "state": {
            "_view_name": "HBoxView",
            "_dom_classes": [],
            "_model_name": "HBoxModel",
            "_view_module": "@jupyter-widgets/controls",
            "_model_module_version": "1.5.0",
            "_view_count": null,
            "_view_module_version": "1.5.0",
            "box_style": "",
            "layout": "IPY_MODEL_3e753967869c46ab8b53ed696591bc4c",
            "_model_module": "@jupyter-widgets/controls",
            "children": [
              "IPY_MODEL_239590ab8e16495ea302b6ce401fb7b7",
              "IPY_MODEL_3e2db39f67dd4208a08e8b1c2f2a556b"
            ]
          }
        },
        "3e753967869c46ab8b53ed696591bc4c": {
          "model_module": "@jupyter-widgets/base",
          "model_name": "LayoutModel",
          "state": {
            "_view_name": "LayoutView",
            "grid_template_rows": null,
            "right": null,
            "justify_content": null,
            "_view_module": "@jupyter-widgets/base",
            "overflow": null,
            "_model_module_version": "1.2.0",
            "_view_count": null,
            "flex_flow": null,
            "width": null,
            "min_width": null,
            "border": null,
            "align_items": null,
            "bottom": null,
            "_model_module": "@jupyter-widgets/base",
            "top": null,
            "grid_column": null,
            "overflow_y": null,
            "overflow_x": null,
            "grid_auto_flow": null,
            "grid_area": null,
            "grid_template_columns": null,
            "flex": null,
            "_model_name": "LayoutModel",
            "justify_items": null,
            "grid_row": null,
            "max_height": null,
            "align_content": null,
            "visibility": null,
            "align_self": null,
            "height": null,
            "min_height": null,
            "padding": null,
            "grid_auto_rows": null,
            "grid_gap": null,
            "max_width": null,
            "order": null,
            "_view_module_version": "1.2.0",
            "grid_template_areas": null,
            "object_position": null,
            "object_fit": null,
            "grid_auto_columns": null,
            "margin": null,
            "display": null,
            "left": null
          }
        },
        "239590ab8e16495ea302b6ce401fb7b7": {
          "model_module": "@jupyter-widgets/controls",
          "model_name": "FloatProgressModel",
          "state": {
            "_view_name": "ProgressView",
            "style": "IPY_MODEL_b2a99a1cc66b492d8a7b82856a00b24a",
            "_dom_classes": [],
            "description": "",
            "_model_name": "FloatProgressModel",
            "bar_style": "info",
            "max": 1,
            "_view_module": "@jupyter-widgets/controls",
            "_model_module_version": "1.5.0",
            "value": 1,
            "_view_count": null,
            "_view_module_version": "1.5.0",
            "orientation": "horizontal",
            "min": 0,
            "description_tooltip": null,
            "_model_module": "@jupyter-widgets/controls",
            "layout": "IPY_MODEL_3cf75ee4fa1748cfbc9cad0b1b9c632d"
          }
        },
        "3e2db39f67dd4208a08e8b1c2f2a556b": {
          "model_module": "@jupyter-widgets/controls",
          "model_name": "HTMLModel",
          "state": {
            "_view_name": "HTMLView",
            "style": "IPY_MODEL_7249fc22ac2742238f43abb15a2863e0",
            "_dom_classes": [],
            "description": "",
            "_model_name": "HTMLModel",
            "placeholder": "​",
            "_view_module": "@jupyter-widgets/controls",
            "_model_module_version": "1.5.0",
            "value": " 170500096/? [00:20&lt;00:00, 29693812.39it/s]",
            "_view_count": null,
            "_view_module_version": "1.5.0",
            "description_tooltip": null,
            "_model_module": "@jupyter-widgets/controls",
            "layout": "IPY_MODEL_b57017fb895847a584cb57674ce7f4fb"
          }
        },
        "b2a99a1cc66b492d8a7b82856a00b24a": {
          "model_module": "@jupyter-widgets/controls",
          "model_name": "ProgressStyleModel",
          "state": {
            "_view_name": "StyleView",
            "_model_name": "ProgressStyleModel",
            "description_width": "initial",
            "_view_module": "@jupyter-widgets/base",
            "_model_module_version": "1.5.0",
            "_view_count": null,
            "_view_module_version": "1.2.0",
            "bar_color": null,
            "_model_module": "@jupyter-widgets/controls"
          }
        },
        "3cf75ee4fa1748cfbc9cad0b1b9c632d": {
          "model_module": "@jupyter-widgets/base",
          "model_name": "LayoutModel",
          "state": {
            "_view_name": "LayoutView",
            "grid_template_rows": null,
            "right": null,
            "justify_content": null,
            "_view_module": "@jupyter-widgets/base",
            "overflow": null,
            "_model_module_version": "1.2.0",
            "_view_count": null,
            "flex_flow": null,
            "width": null,
            "min_width": null,
            "border": null,
            "align_items": null,
            "bottom": null,
            "_model_module": "@jupyter-widgets/base",
            "top": null,
            "grid_column": null,
            "overflow_y": null,
            "overflow_x": null,
            "grid_auto_flow": null,
            "grid_area": null,
            "grid_template_columns": null,
            "flex": null,
            "_model_name": "LayoutModel",
            "justify_items": null,
            "grid_row": null,
            "max_height": null,
            "align_content": null,
            "visibility": null,
            "align_self": null,
            "height": null,
            "min_height": null,
            "padding": null,
            "grid_auto_rows": null,
            "grid_gap": null,
            "max_width": null,
            "order": null,
            "_view_module_version": "1.2.0",
            "grid_template_areas": null,
            "object_position": null,
            "object_fit": null,
            "grid_auto_columns": null,
            "margin": null,
            "display": null,
            "left": null
          }
        },
        "7249fc22ac2742238f43abb15a2863e0": {
          "model_module": "@jupyter-widgets/controls",
          "model_name": "DescriptionStyleModel",
          "state": {
            "_view_name": "StyleView",
            "_model_name": "DescriptionStyleModel",
            "description_width": "",
            "_view_module": "@jupyter-widgets/base",
            "_model_module_version": "1.5.0",
            "_view_count": null,
            "_view_module_version": "1.2.0",
            "_model_module": "@jupyter-widgets/controls"
          }
        },
        "b57017fb895847a584cb57674ce7f4fb": {
          "model_module": "@jupyter-widgets/base",
          "model_name": "LayoutModel",
          "state": {
            "_view_name": "LayoutView",
            "grid_template_rows": null,
            "right": null,
            "justify_content": null,
            "_view_module": "@jupyter-widgets/base",
            "overflow": null,
            "_model_module_version": "1.2.0",
            "_view_count": null,
            "flex_flow": null,
            "width": null,
            "min_width": null,
            "border": null,
            "align_items": null,
            "bottom": null,
            "_model_module": "@jupyter-widgets/base",
            "top": null,
            "grid_column": null,
            "overflow_y": null,
            "overflow_x": null,
            "grid_auto_flow": null,
            "grid_area": null,
            "grid_template_columns": null,
            "flex": null,
            "_model_name": "LayoutModel",
            "justify_items": null,
            "grid_row": null,
            "max_height": null,
            "align_content": null,
            "visibility": null,
            "align_self": null,
            "height": null,
            "min_height": null,
            "padding": null,
            "grid_auto_rows": null,
            "grid_gap": null,
            "max_width": null,
            "order": null,
            "_view_module_version": "1.2.0",
            "grid_template_areas": null,
            "object_position": null,
            "object_fit": null,
            "grid_auto_columns": null,
            "margin": null,
            "display": null,
            "left": null
          }
        }
      }
    }
  },
  "cells": [
    {
      "cell_type": "markdown",
      "metadata": {
        "id": "view-in-github",
        "colab_type": "text"
      },
      "source": [
        "<a href=\"https://colab.research.google.com/github/rashidmeras/EVA5/blob/master/S7/EVA5_Submission_Session_7_Final.ipynb\" target=\"_parent\"><img src=\"https://colab.research.google.com/assets/colab-badge.svg\" alt=\"Open In Colab\"/></a>"
      ]
    },
    {
      "cell_type": "markdown",
      "metadata": {
        "id": "UfBYawbxEBwh",
        "colab_type": "text"
      },
      "source": [
        "* Objective: Take given code and meet the following targets:\n",
        "\n",
        "\n",
        ">> 1. change the code such that it uses GPU\n",
        "2. change the architecture to C1C2C3C40 (basically 3 MPs)\n",
        "3. total RF must be more than 44\n",
        "4. one of the layers must use Depthwise Separable Convolution\n",
        "5. one of the layers must use Dilated Convolution\n",
        "6. use GAP (compulsory):- add FC after GAP to target #of classes (optional)\n",
        "7. achieve 80% accuracy, as many epochs as you want. \n",
        "8. Total Params to be less than 1M. \n",
        "\n",
        "\n",
        "Submitted By: \n",
        "* `Meras Pillai Rashid`\n",
        "* `Samir Prasad`"
      ]
    },
    {
      "cell_type": "markdown",
      "metadata": {
        "id": "2FBxnsHrE-Dh",
        "colab_type": "text"
      },
      "source": [
        "Import `pytorch` libraries and modules:"
      ]
    },
    {
      "cell_type": "code",
      "metadata": {
        "id": "SD35M-SQSDAl",
        "colab_type": "code",
        "colab": {}
      },
      "source": [
        "import torch\n",
        "import torchvision\n",
        "import torchvision.transforms as transforms"
      ],
      "execution_count": 1,
      "outputs": []
    },
    {
      "cell_type": "markdown",
      "metadata": {
        "id": "q5ugc3VBE1VZ",
        "colab_type": "text"
      },
      "source": [
        "Clone the repo"
      ]
    },
    {
      "cell_type": "code",
      "metadata": {
        "id": "PQVyASR3SHc3",
        "colab_type": "code",
        "colab": {
          "base_uri": "https://localhost:8080/",
          "height": 134
        },
        "outputId": "8dcaa4b8-3314-4840-c169-218e573c687c"
      },
      "source": [
        "!git clone https://github.com/rashidmeras/EVA5.git"
      ],
      "execution_count": 2,
      "outputs": [
        {
          "output_type": "stream",
          "text": [
            "Cloning into 'EVA5'...\n",
            "remote: Enumerating objects: 104, done.\u001b[K\n",
            "remote: Counting objects: 100% (104/104), done.\u001b[K\n",
            "remote: Compressing objects: 100% (101/101), done.\u001b[K\n",
            "remote: Total 104 (delta 54), reused 0 (delta 0), pack-reused 0\u001b[K\n",
            "Receiving objects: 100% (104/104), 120.81 KiB | 719.00 KiB/s, done.\n",
            "Resolving deltas: 100% (54/54), done.\n"
          ],
          "name": "stdout"
        }
      ]
    },
    {
      "cell_type": "markdown",
      "metadata": {
        "id": "n5_h6urHFCjc",
        "colab_type": "text"
      },
      "source": [
        "change the code such that it uses GPU"
      ]
    },
    {
      "cell_type": "code",
      "metadata": {
        "id": "EV3x1W0MSPNC",
        "colab_type": "code",
        "colab": {
          "base_uri": "https://localhost:8080/",
          "height": 34
        },
        "outputId": "08bf0c3c-9960-461b-9e1b-c1e8a7c3c1d5"
      },
      "source": [
        "use_cuda = torch.cuda.is_available()\n",
        "device = torch.device(\"cuda\" if use_cuda else \"cpu\")\n",
        "print(\"Device : \", device)"
      ],
      "execution_count": 3,
      "outputs": [
        {
          "output_type": "stream",
          "text": [
            "Device :  cuda\n"
          ],
          "name": "stdout"
        }
      ]
    },
    {
      "cell_type": "code",
      "metadata": {
        "id": "txfow0PbANK5",
        "colab_type": "code",
        "colab": {
          "base_uri": "https://localhost:8080/",
          "height": 133,
          "referenced_widgets": [
            "df19f45474f24fafba9efd41615d5058",
            "3e753967869c46ab8b53ed696591bc4c",
            "239590ab8e16495ea302b6ce401fb7b7",
            "3e2db39f67dd4208a08e8b1c2f2a556b",
            "b2a99a1cc66b492d8a7b82856a00b24a",
            "3cf75ee4fa1748cfbc9cad0b1b9c632d",
            "7249fc22ac2742238f43abb15a2863e0",
            "b57017fb895847a584cb57674ce7f4fb"
          ]
        },
        "outputId": "dd337d86-6d59-4d90-b9c9-1f436643ffde"
      },
      "source": [
        "from EVA5.S7 import initialize_train_test_loader_cifar10\n",
        "train_loader, test_loader = initialize_train_test_loader_cifar10.train_test_loader()\n",
        "\n",
        "# train_loader, test_loader = train_test_loader()\n",
        "classes = ('plane', 'car', 'bird', 'cat', 'deer', 'dog', 'frog', 'horse', 'ship', 'truck')"
      ],
      "execution_count": 4,
      "outputs": [
        {
          "output_type": "stream",
          "text": [
            "\n",
            " Initialize train and test loader with Batch Size:4\n",
            "Downloading https://www.cs.toronto.edu/~kriz/cifar-10-python.tar.gz to ./data/cifar-10-python.tar.gz\n"
          ],
          "name": "stdout"
        },
        {
          "output_type": "display_data",
          "data": {
            "application/vnd.jupyter.widget-view+json": {
              "model_id": "df19f45474f24fafba9efd41615d5058",
              "version_minor": 0,
              "version_major": 2
            },
            "text/plain": [
              "HBox(children=(FloatProgress(value=1.0, bar_style='info', max=1.0), HTML(value='')))"
            ]
          },
          "metadata": {
            "tags": []
          }
        },
        {
          "output_type": "stream",
          "text": [
            "Extracting ./data/cifar-10-python.tar.gz to ./data\n",
            "Files already downloaded and verified\n"
          ],
          "name": "stdout"
        }
      ]
    },
    {
      "cell_type": "code",
      "metadata": {
        "id": "BedqwCnGRoz2",
        "colab_type": "code",
        "colab": {
          "base_uri": "https://localhost:8080/",
          "height": 172
        },
        "outputId": "2a966454-1e17-44de-93f5-b95a6eaa3c47"
      },
      "source": [
        "import matplotlib.pyplot as plt\n",
        "import numpy as np\n",
        "\n",
        "# functions to show an image\n",
        "def imshow(img):\n",
        "    img = img / 2 + 0.5     # unnormalize\n",
        "    npimg = img.numpy()\n",
        "    plt.imshow(np.transpose(npimg, (1, 2, 0)))\n",
        "\n",
        "# get some random training images\n",
        "dataiter = iter(train_loader)\n",
        "images, labels = dataiter.next()\n",
        "\n",
        "# show images\n",
        "imshow(torchvision.utils.make_grid(images))\n",
        "\n",
        "# print labels\n",
        "print(' '.join('%5s' % classes[labels[j]] for j in range(4)))"
      ],
      "execution_count": 5,
      "outputs": [
        {
          "output_type": "stream",
          "text": [
            "Clipping input data to the valid range for imshow with RGB data ([0..1] for floats or [0..255] for integers).\n"
          ],
          "name": "stderr"
        },
        {
          "output_type": "stream",
          "text": [
            "horse   dog   cat plane\n"
          ],
          "name": "stdout"
        },
        {
          "output_type": "display_data",
          "data": {
            "image/png": "[encoded data removed]",
            "text/plain": [
              "<Figure size 432x288 with 1 Axes>"
            ]
          },
          "metadata": {
            "tags": [],
            "needs_background": "light"
          }
        }
      ]
    },
    {
      "cell_type": "code",
      "metadata": {
        "id": "E8iuEXMASR34",
        "colab_type": "code",
        "colab": {
          "base_uri": "https://localhost:8080/",
          "height": 34
        },
        "outputId": "2bccbeae-e0a9-4967-be98-13daf373390b"
      },
      "source": [
        "from EVA5.S7 import customS7Model\n",
        "model = customS7Model.Net().to(device)\n",
        "print(\"Model Loaded Successfully \")"
      ],
      "execution_count": 6,
      "outputs": [
        {
          "output_type": "stream",
          "text": [
            "Model Loaded Successfully \n"
          ],
          "name": "stdout"
        }
      ]
    },
    {
      "cell_type": "code",
      "metadata": {
        "id": "gWu-jF364JoQ",
        "colab_type": "code",
        "colab": {
          "base_uri": "https://localhost:8080/",
          "height": 622
        },
        "outputId": "1f70aa50-b933-4593-bfa4-76a93ed199ec"
      },
      "source": [
        "!pip install torchsummary\n",
        "from torchsummary import summary\n",
        "\n",
        "# model = Net().to(device)\n",
        "summary(model, input_size=(3, 32, 32))"
      ],
      "execution_count": 7,
      "outputs": [
        {
          "output_type": "stream",
          "text": [
            "Requirement already satisfied: torchsummary in /usr/local/lib/python3.6/dist-packages (1.5.1)\n",
            "----------------------------------------------------------------\n",
            "        Layer (type)               Output Shape         Param #\n",
            "================================================================\n",
            "            Conv2d-1           [-1, 32, 32, 32]             896\n",
            "              ReLU-2           [-1, 32, 32, 32]               0\n",
            "       BatchNorm2d-3           [-1, 32, 32, 32]              64\n",
            "            Conv2d-4          [-1, 128, 32, 32]           1,280\n",
            "              ReLU-5          [-1, 128, 32, 32]               0\n",
            "       BatchNorm2d-6          [-1, 128, 32, 32]             256\n",
            "         MaxPool2d-7          [-1, 128, 16, 16]               0\n",
            "            Conv2d-8          [-1, 160, 14, 14]         184,480\n",
            "              ReLU-9          [-1, 160, 14, 14]               0\n",
            "      BatchNorm2d-10          [-1, 160, 14, 14]             320\n",
            "        MaxPool2d-11            [-1, 160, 7, 7]               0\n",
            "           Conv2d-12            [-1, 320, 9, 9]         461,120\n",
            "             ReLU-13            [-1, 320, 9, 9]               0\n",
            "      BatchNorm2d-14            [-1, 320, 9, 9]             640\n",
            "        MaxPool2d-15            [-1, 320, 4, 4]               0\n",
            "           Conv2d-16             [-1, 96, 4, 4]         276,576\n",
            "             ReLU-17             [-1, 96, 4, 4]               0\n",
            "      BatchNorm2d-18             [-1, 96, 4, 4]             192\n",
            "           Conv2d-19             [-1, 10, 4, 4]             970\n",
            "        AvgPool2d-20             [-1, 10, 1, 1]               0\n",
            "================================================================\n",
            "Total params: 926,794\n",
            "Trainable params: 926,794\n",
            "Non-trainable params: 0\n",
            "----------------------------------------------------------------\n",
            "Input size (MB): 0.01\n",
            "Forward/backward pass size (MB): 5.45\n",
            "Params size (MB): 3.54\n",
            "Estimated Total Size (MB): 8.99\n",
            "----------------------------------------------------------------\n"
          ],
          "name": "stdout"
        },
        {
          "output_type": "stream",
          "text": [
            "/content/EVA5/S7/customS7Model.py:49: UserWarning: Implicit dimension choice for log_softmax has been deprecated. Change the call to include dim=X as an argument.\n",
            "  return F.log_softmax(x)\n"
          ],
          "name": "stderr"
        }
      ]
    },
    {
      "cell_type": "code",
      "metadata": {
        "id": "zYtKr-mPuZIw",
        "colab_type": "code",
        "colab": {
          "base_uri": "https://localhost:8080/",
          "height": 1000
        },
        "outputId": "e23eb90b-c1fb-4ed8-ca27-0b62ce919ab0"
      },
      "source": [
        "from EVA5.S7 import trainingSetupCifar10\n",
        "\n",
        "trainingSetupCifar10.initiate_training(model, device, train_loader, 25)"
      ],
      "execution_count": 16,
      "outputs": [
        {
          "output_type": "stream",
          "text": [
            "/content/EVA5/S7/customS7Model.py:49: UserWarning: Implicit dimension choice for log_softmax has been deprecated. Change the call to include dim=X as an argument.\n",
            "  return F.log_softmax(x)\n"
          ],
          "name": "stderr"
        },
        {
          "output_type": "stream",
          "text": [
            "[1,  2000] loss: 2.320\n",
            "[1,  4000] loss: 2.313\n",
            "[1,  6000] loss: 2.312\n",
            "[1,  8000] loss: 2.311\n",
            "[1, 10000] loss: 2.321\n",
            "[1, 12000] loss: 2.312\n",
            "[2,  2000] loss: 2.313\n",
            "[2,  4000] loss: 2.316\n",
            "[2,  6000] loss: 2.311\n",
            "[2,  8000] loss: 2.313\n",
            "[2, 10000] loss: 2.320\n",
            "[2, 12000] loss: 2.325\n",
            "[3,  2000] loss: 2.303\n",
            "[3,  4000] loss: 2.319\n",
            "[3,  6000] loss: 2.313\n",
            "[3,  8000] loss: 2.317\n",
            "[3, 10000] loss: 2.312\n",
            "[3, 12000] loss: 2.317\n",
            "[4,  2000] loss: 2.320\n",
            "[4,  4000] loss: 2.316\n",
            "[4,  6000] loss: 2.316\n",
            "[4,  8000] loss: 2.318\n",
            "[4, 10000] loss: 2.324\n",
            "[4, 12000] loss: 2.318\n",
            "[5,  2000] loss: 2.311\n",
            "[5,  4000] loss: 2.317\n",
            "[5,  6000] loss: 2.316\n",
            "[5,  8000] loss: 2.323\n",
            "[5, 10000] loss: 2.316\n",
            "[5, 12000] loss: 2.319\n",
            "[6,  2000] loss: 2.310\n",
            "[6,  4000] loss: 2.313\n",
            "[6,  6000] loss: 2.313\n",
            "[6,  8000] loss: 2.309\n",
            "[6, 10000] loss: 2.316\n",
            "[6, 12000] loss: 2.324\n",
            "[7,  2000] loss: 2.316\n",
            "[7,  4000] loss: 2.308\n",
            "[7,  6000] loss: 2.318\n",
            "[7,  8000] loss: 2.318\n",
            "[7, 10000] loss: 2.304\n",
            "[7, 12000] loss: 2.310\n",
            "[8,  2000] loss: 2.315\n",
            "[8,  4000] loss: 2.306\n",
            "[8,  6000] loss: 2.328\n",
            "[8,  8000] loss: 2.316\n",
            "[8, 10000] loss: 2.302\n",
            "[8, 12000] loss: 2.324\n",
            "[9,  2000] loss: 2.318\n",
            "[9,  4000] loss: 2.312\n",
            "[9,  6000] loss: 2.325\n",
            "[9,  8000] loss: 2.322\n",
            "[9, 10000] loss: 2.323\n",
            "[9, 12000] loss: 2.300\n",
            "[10,  2000] loss: 2.319\n",
            "[10,  4000] loss: 2.313\n",
            "[10,  6000] loss: 2.312\n",
            "[10,  8000] loss: 2.318\n",
            "[10, 10000] loss: 2.311\n",
            "[10, 12000] loss: 2.313\n",
            "[11,  2000] loss: 2.325\n",
            "[11,  4000] loss: 2.327\n",
            "[11,  6000] loss: 2.323\n",
            "[11,  8000] loss: 2.323\n",
            "[11, 10000] loss: 2.310\n",
            "[11, 12000] loss: 2.308\n",
            "[12,  2000] loss: 2.314\n",
            "[12,  4000] loss: 2.318\n",
            "[12,  6000] loss: 2.321\n",
            "[12,  8000] loss: 2.308\n",
            "[12, 10000] loss: 2.316\n",
            "[12, 12000] loss: 2.295\n",
            "[13,  2000] loss: 2.312\n",
            "[13,  4000] loss: 2.307\n",
            "[13,  6000] loss: 2.306\n",
            "[13,  8000] loss: 2.316\n",
            "[13, 10000] loss: 2.312\n",
            "[13, 12000] loss: 2.313\n",
            "[14,  2000] loss: 2.311\n",
            "[14,  4000] loss: 2.314\n",
            "[14,  6000] loss: 2.314\n",
            "[14,  8000] loss: 2.318\n",
            "[14, 10000] loss: 2.325\n",
            "[14, 12000] loss: 2.305\n",
            "[15,  2000] loss: 2.308\n",
            "[15,  4000] loss: 2.310\n",
            "[15,  6000] loss: 2.317\n",
            "[15,  8000] loss: 2.320\n",
            "[15, 10000] loss: 2.318\n",
            "[15, 12000] loss: 2.329\n",
            "[16,  2000] loss: 2.327\n",
            "[16,  4000] loss: 2.317\n",
            "[16,  6000] loss: 2.318\n",
            "[16,  8000] loss: 2.312\n",
            "[16, 10000] loss: 2.301\n",
            "[16, 12000] loss: 2.312\n",
            "[17,  2000] loss: 2.307\n",
            "[17,  4000] loss: 2.313\n",
            "[17,  6000] loss: 2.306\n",
            "[17,  8000] loss: 2.315\n",
            "[17, 10000] loss: 2.318\n",
            "[17, 12000] loss: 2.324\n",
            "[18,  2000] loss: 2.309\n",
            "[18,  4000] loss: 2.312\n",
            "[18,  6000] loss: 2.315\n",
            "[18,  8000] loss: 2.321\n",
            "[18, 10000] loss: 2.310\n",
            "[18, 12000] loss: 2.319\n",
            "[19,  2000] loss: 2.314\n",
            "[19,  4000] loss: 2.329\n",
            "[19,  6000] loss: 2.313\n",
            "[19,  8000] loss: 2.323\n",
            "[19, 10000] loss: 2.323\n",
            "[19, 12000] loss: 2.314\n",
            "[20,  2000] loss: 2.306\n",
            "[20,  4000] loss: 2.309\n",
            "[20,  6000] loss: 2.319\n",
            "[20,  8000] loss: 2.321\n",
            "[20, 10000] loss: 2.313\n",
            "[20, 12000] loss: 2.311\n",
            "[21,  2000] loss: 2.324\n",
            "[21,  4000] loss: 2.312\n",
            "[21,  6000] loss: 2.321\n",
            "[21,  8000] loss: 2.312\n",
            "[21, 10000] loss: 2.306\n",
            "[21, 12000] loss: 2.316\n",
            "[22,  2000] loss: 2.316\n",
            "[22,  4000] loss: 2.314\n",
            "[22,  6000] loss: 2.312\n",
            "[22,  8000] loss: 2.327\n",
            "[22, 10000] loss: 2.316\n",
            "[22, 12000] loss: 2.311\n",
            "[23,  2000] loss: 2.320\n",
            "[23,  4000] loss: 2.312\n",
            "[23,  6000] loss: 2.324\n",
            "[23,  8000] loss: 2.310\n",
            "[23, 10000] loss: 2.322\n",
            "[23, 12000] loss: 2.325\n",
            "[24,  2000] loss: 2.320\n",
            "[24,  4000] loss: 2.308\n",
            "[24,  6000] loss: 2.317\n",
            "[24,  8000] loss: 2.315\n",
            "[24, 10000] loss: 2.321\n",
            "[24, 12000] loss: 2.317\n",
            "[25,  2000] loss: 2.304\n",
            "[25,  4000] loss: 2.306\n",
            "[25,  6000] loss: 2.323\n",
            "[25,  8000] loss: 2.324\n",
            "[25, 10000] loss: 2.312\n",
            "[25, 12000] loss: 2.314\n",
            "Finished Training\n"
          ],
          "name": "stdout"
        }
      ]
    },
    {
      "cell_type": "code",
      "metadata": {
        "id": "zlH9DuWwg-_y",
        "colab_type": "code",
        "colab": {
          "base_uri": "https://localhost:8080/",
          "height": 172
        },
        "outputId": "adb6e58d-7675-4355-dae8-e67e9f1ebc5c"
      },
      "source": [
        "dataiter = iter(test_loader)\n",
        "images, labels = dataiter.next()\n",
        "\n",
        "# print images\n",
        "imshow(torchvision.utils.make_grid(images))\n",
        "print('GroundTruth: ', ' '.join('%5s' % classes[labels[j]] for j in range(4)))"
      ],
      "execution_count": 17,
      "outputs": [
        {
          "output_type": "stream",
          "text": [
            "Clipping input data to the valid range for imshow with RGB data ([0..1] for floats or [0..255] for integers).\n"
          ],
          "name": "stderr"
        },
        {
          "output_type": "stream",
          "text": [
            "GroundTruth:    cat  ship  ship plane\n"
          ],
          "name": "stdout"
        },
        {
          "output_type": "display_data",
          "data": {
            "image/png": "[encoded data removed]",
            "text/plain": [
              "<Figure size 432x288 with 1 Axes>"
            ]
          },
          "metadata": {
            "tags": [],
            "needs_background": "light"
          }
        }
      ]
    },
    {
      "cell_type": "code",
      "metadata": {
        "id": "rMdfCA-V29Cq",
        "colab_type": "code",
        "colab": {}
      },
      "source": [
        "from EVA5.S7 import cifar10CheckLib\n",
        "net = customS7Model.Net().to(device)"
      ],
      "execution_count": 18,
      "outputs": []
    },
    {
      "cell_type": "markdown",
      "metadata": {
        "id": "q27nBzpRhfem",
        "colab_type": "text"
      },
      "source": [
        "Accuracy of the network on the 10000 test images"
      ]
    },
    {
      "cell_type": "code",
      "metadata": {
        "id": "ns-Bv2bU1Bqu",
        "colab_type": "code",
        "colab": {
          "base_uri": "https://localhost:8080/",
          "height": 67
        },
        "outputId": "6f71ccb9-e9cf-41cf-f231-24010fd3725e"
      },
      "source": [
        "cifar10CheckLib.check_test_accuracy(net, device, test_loader)"
      ],
      "execution_count": 21,
      "outputs": [
        {
          "output_type": "stream",
          "text": [
            "/content/EVA5/S7/customS7Model.py:49: UserWarning: Implicit dimension choice for log_softmax has been deprecated. Change the call to include dim=X as an argument.\n",
            "  return F.log_softmax(x)\n"
          ],
          "name": "stderr"
        },
        {
          "output_type": "stream",
          "text": [
            "Accuracy of the network on the 10000 test images: 9 %\n"
          ],
          "name": "stdout"
        }
      ]
    },
    {
      "cell_type": "markdown",
      "metadata": {
        "id": "V1tA_cMQimor",
        "colab_type": "text"
      },
      "source": [
        "Classwise evaluation"
      ]
    },
    {
      "cell_type": "code",
      "metadata": {
        "id": "B9QWK7l11i01",
        "colab_type": "code",
        "colab": {
          "base_uri": "https://localhost:8080/",
          "height": 218
        },
        "outputId": "e9e3cbe0-0cb8-4b6f-9176-ff4680145b3c"
      },
      "source": [
        "cifar10CheckLib.check_classwise_accuracy(net, device, test_loader, classes)"
      ],
      "execution_count": 20,
      "outputs": [
        {
          "output_type": "stream",
          "text": [
            "/content/EVA5/S7/customS7Model.py:49: UserWarning: Implicit dimension choice for log_softmax has been deprecated. Change the call to include dim=X as an argument.\n",
            "  return F.log_softmax(x)\n"
          ],
          "name": "stderr"
        },
        {
          "output_type": "stream",
          "text": [
            "Accuracy of plane :  4 %\n",
            "Accuracy of   car :  1 %\n",
            "Accuracy of  bird : 17 %\n",
            "Accuracy of   cat : 12 %\n",
            "Accuracy of  deer : 10 %\n",
            "Accuracy of   dog :  1 %\n",
            "Accuracy of  frog : 29 %\n",
            "Accuracy of horse :  5 %\n",
            "Accuracy of  ship :  8 %\n",
            "Accuracy of truck :  1 %\n"
          ],
          "name": "stdout"
        }
      ]
    },
    {
      "cell_type": "markdown",
      "metadata": {
        "id": "OVzkWbWUFONh",
        "colab_type": "text"
      },
      "source": [
        "Summary:\n",
        "\n",
        "A model was created meeting the given targets with and trained for 25 epochs\n",
        "* Total params: 926,794\n",
        "* Accuracy of the network on the 10000 test images: 9 %"
      ]
    }
  ]
}