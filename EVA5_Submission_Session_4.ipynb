{
  "nbformat": 4,
  "nbformat_minor": 0,
  "metadata": {
    "colab": {
      "name": "EVA5: Submission - Session 4.ipynb",
      "provenance": [],
      "collapsed_sections": [],
      "include_colab_link": true
    },
    "kernelspec": {
      "name": "python3",
      "display_name": "Python 3"
    },
    "accelerator": "GPU"
  },
  "cells": [
    {
      "cell_type": "markdown",
      "metadata": {
        "id": "view-in-github",
        "colab_type": "text"
      },
      "source": [
        "<a href=\"https://colab.research.google.com/github/rashidmeras/EVA5/blob/master/EVA5_Submission_Session_4.ipynb\" target=\"_parent\"><img src=\"https://colab.research.google.com/assets/colab-badge.svg\" alt=\"Open In Colab\"/></a>"
      ]
    },
    {
      "cell_type": "markdown",
      "metadata": {
        "id": "yIoLfcqixi1T",
        "colab_type": "text"
      },
      "source": [
        "EVA5 Phase1 Assignment 4:\n",
        "\n",
        "Objective: To train the network and achieve the targeted accuracy with the constranints mentioned below:\n",
        "\n",
        "* 99.4% validation accuracy\n",
        "* Less than 20k Parameters\n",
        "* You can use anything from above you want. \n",
        "* Less than 20 Epochs\n",
        "* No fully connected layer\n",
        "\n",
        "\n"
      ]
    },
    {
      "cell_type": "markdown",
      "metadata": {
        "id": "VXflWln0leU4",
        "colab_type": "text"
      },
      "source": [
        "Import `pytorch` libraries and modules "
      ]
    },
    {
      "cell_type": "code",
      "metadata": {
        "id": "0m2JWFliFfKT",
        "colab_type": "code",
        "colab": {}
      },
      "source": [
        "from __future__ import print_function\n",
        "import torch\n",
        "#import nueral net model in the torch\n",
        "import torch.nn as nn\n",
        "import torch.nn.functional as F\n",
        "import torch.optim as optim\n",
        "#torchvision is the libraray in torch that has many features\n",
        "#and we are using datasets and transforms from this library \n",
        "from torchvision import datasets, transforms"
      ],
      "execution_count": null,
      "outputs": []
    },
    {
      "cell_type": "markdown",
      "metadata": {
        "id": "wVWpKj9LmyGD",
        "colab_type": "text"
      },
      "source": [
        "Define the structure of the network"
      ]
    },
    {
      "cell_type": "code",
      "metadata": {
        "id": "BBJXPEi4qCvn",
        "colab_type": "code",
        "colab": {}
      },
      "source": [
        "# create the instance of the class\n",
        "class Net(nn.Module):\n",
        "\n",
        "    #construct the class\n",
        "    def __init__(self):\n",
        "       \n",
        "        #call parent class and initilize\n",
        "        super(Net, self).__init__()\n",
        "\n",
        "        #Layer1: Cov->BN->DO i/p:|28x28x1|Conv(3x3x1)x8| o/p:|26x26x8|   \n",
        "        self.conv1 = nn.Sequential (\n",
        "            nn.Conv2d(1, 32, 3),\n",
        "            nn.ReLU()\n",
        "            ,nn.BatchNorm2d(32)\n",
        "            ,nn.Dropout(0.1)\n",
        "        )\n",
        "\n",
        "        #Layer2: Cov->BN->DO i/p:|26x26x8|Conv(3x3x8)x4| o/p:|24x24x4|    \n",
        "        self.conv2 = nn.Sequential (\n",
        "            nn.Conv2d(32, 16, 3),\n",
        "            nn.ReLU()\n",
        "            ,nn.BatchNorm2d(16)\n",
        "            ,nn.Dropout(0.1)\n",
        "        )\n",
        " \n",
        "        #Layer3: Cov->BN->DO i/p:|24x24x4|Conv(3x3x4)x4| o/p:|22x22x4|    \n",
        "        self.conv3 = nn.Sequential (\n",
        "            nn.Conv2d(16, 16, 3),\n",
        "            nn.ReLU()\n",
        "            ,nn.BatchNorm2d(16)\n",
        "            ,nn.Dropout(0.1)\n",
        "        )\n",
        "\n",
        "        #Layer4: Cov->BN->DO i/p:|22x22x4|Conv(1x1x4)x3| o/p:|22x22x3|    \n",
        "        self.conv4 = nn.Sequential (\n",
        "            nn.Conv2d(16, 12, 1),\n",
        "            nn.ReLU()\n",
        "            ,nn.BatchNorm2d(12)\n",
        "            ,nn.Dropout(0.1)\n",
        "        )        \n",
        "\n",
        "        # Layer5 - Max-Pooling layer \n",
        "        self.pool1 = nn.MaxPool2d(2, 2)\n",
        "\n",
        "        #Layer6: Cov->BN->DO i/p:|11x11x3|Conv(3x3x3)x16| o/p:|9x9x16|\n",
        "        self.conv6 = nn.Sequential (\n",
        "            nn.Conv2d(12, 16, 3),\n",
        "            nn.ReLU()\n",
        "            ,nn.BatchNorm2d(16)\n",
        "            ,nn.Dropout(0.1)\n",
        "        )\n",
        "\n",
        "        #Layer7: Cov->BN->DO i/p:|9x9x16|Conv(3x3x16)x16| o/p:|7x7x16|\n",
        "        self.conv7 = nn.Sequential (\n",
        "            nn.Conv2d(16, 16, 3),\n",
        "            nn.ReLU()\n",
        "            ,nn.BatchNorm2d(16)\n",
        "            ,nn.Dropout(0.1)\n",
        "        )\n",
        "\n",
        "        #Layer8: Cov->BN->DO i/p:|7x7x16|Conv(7x7x16)x10| o/p:|1x1x10|\n",
        "        self.conv8 = nn.Sequential (\n",
        "            nn.Conv2d(16, 10, 7)\n",
        "            ,nn.BatchNorm2d(10)\n",
        "            ,nn.Dropout(0.1)\n",
        "        )        \n",
        "\n",
        "    # defines the strcuture of the class\n",
        "    def forward(self, x):\n",
        "       \n",
        "        x = self.conv1(x)\n",
        "        x = self.conv2(x)\n",
        "        x = self.conv3(x)\n",
        "        x = self.conv4(x)\n",
        "        x = self.pool1(x)\n",
        "        x = self.conv6(x)\n",
        "        x = self.conv7(x)\n",
        "        x = self.conv8(x)\n",
        "\n",
        "        x = x.view(-1, 10)\n",
        "        return F.log_softmax(x, dim=1)"
      ],
      "execution_count": 8,
      "outputs": []
    },
    {
      "cell_type": "markdown",
      "metadata": {
        "id": "u5mCDVaPMiBI",
        "colab_type": "text"
      },
      "source": [
        "Setup to print model summary"
      ]
    },
    {
      "cell_type": "code",
      "metadata": {
        "colab_type": "code",
        "id": "xdydjYTZFyi3",
        "colab": {
          "base_uri": "https://localhost:8080/",
          "height": 722
        },
        "outputId": "241a27b1-def2-4348-87b0-5522661c2a8d"
      },
      "source": [
        "!pip install torchsummary\n",
        "from torchsummary import summary\n",
        "use_cuda = torch.cuda.is_available()\n",
        "device = torch.device(\"cuda\" if use_cuda else \"cpu\")\n",
        "\n",
        "model = Net().to(device)\n",
        "summary(model, input_size=(1, 28, 28))"
      ],
      "execution_count": 9,
      "outputs": [
        {
          "output_type": "stream",
          "text": [
            "Requirement already satisfied: torchsummary in /usr/local/lib/python3.6/dist-packages (1.5.1)\n",
            "----------------------------------------------------------------\n",
            "        Layer (type)               Output Shape         Param #\n",
            "================================================================\n",
            "            Conv2d-1           [-1, 32, 26, 26]             320\n",
            "              ReLU-2           [-1, 32, 26, 26]               0\n",
            "       BatchNorm2d-3           [-1, 32, 26, 26]              64\n",
            "           Dropout-4           [-1, 32, 26, 26]               0\n",
            "            Conv2d-5           [-1, 16, 24, 24]           4,624\n",
            "              ReLU-6           [-1, 16, 24, 24]               0\n",
            "       BatchNorm2d-7           [-1, 16, 24, 24]              32\n",
            "           Dropout-8           [-1, 16, 24, 24]               0\n",
            "            Conv2d-9           [-1, 16, 22, 22]           2,320\n",
            "             ReLU-10           [-1, 16, 22, 22]               0\n",
            "      BatchNorm2d-11           [-1, 16, 22, 22]              32\n",
            "          Dropout-12           [-1, 16, 22, 22]               0\n",
            "           Conv2d-13           [-1, 12, 22, 22]             204\n",
            "             ReLU-14           [-1, 12, 22, 22]               0\n",
            "      BatchNorm2d-15           [-1, 12, 22, 22]              24\n",
            "          Dropout-16           [-1, 12, 22, 22]               0\n",
            "        MaxPool2d-17           [-1, 12, 11, 11]               0\n",
            "           Conv2d-18             [-1, 16, 9, 9]           1,744\n",
            "             ReLU-19             [-1, 16, 9, 9]               0\n",
            "      BatchNorm2d-20             [-1, 16, 9, 9]              32\n",
            "          Dropout-21             [-1, 16, 9, 9]               0\n",
            "           Conv2d-22             [-1, 16, 7, 7]           2,320\n",
            "             ReLU-23             [-1, 16, 7, 7]               0\n",
            "      BatchNorm2d-24             [-1, 16, 7, 7]              32\n",
            "          Dropout-25             [-1, 16, 7, 7]               0\n",
            "           Conv2d-26             [-1, 10, 1, 1]           7,850\n",
            "      BatchNorm2d-27             [-1, 10, 1, 1]              20\n",
            "          Dropout-28             [-1, 10, 1, 1]               0\n",
            "================================================================\n",
            "Total params: 19,618\n",
            "Trainable params: 19,618\n",
            "Non-trainable params: 0\n",
            "----------------------------------------------------------------\n",
            "Input size (MB): 0.00\n",
            "Forward/backward pass size (MB): 1.43\n",
            "Params size (MB): 0.07\n",
            "Estimated Total Size (MB): 1.51\n",
            "----------------------------------------------------------------\n"
          ],
          "name": "stdout"
        }
      ]
    },
    {
      "cell_type": "markdown",
      "metadata": {
        "id": "aBdLuY3pg62K",
        "colab_type": "text"
      },
      "source": [
        "Load the testing and training data"
      ]
    },
    {
      "cell_type": "code",
      "metadata": {
        "id": "DqTWLaM5GHgH",
        "colab_type": "code",
        "colab": {}
      },
      "source": [
        "torch.manual_seed(1)\n",
        "batch_size = 128\n",
        "\n",
        "kwargs = {'num_workers': 1, 'pin_memory': True} if use_cuda else {}\n",
        "train_loader = torch.utils.data.DataLoader(\n",
        "    datasets.MNIST('../data', train=True, download=True,\n",
        "                    transform=transforms.Compose([\n",
        "                        transforms.ToTensor(),\n",
        "                        transforms.Normalize((0.1307,), (0.3081,))\n",
        "                    ])),\n",
        "    batch_size=batch_size, shuffle=True, **kwargs)\n",
        "test_loader = torch.utils.data.DataLoader(\n",
        "    datasets.MNIST('../data', train=False, transform=transforms.Compose([\n",
        "                        transforms.ToTensor(),\n",
        "                        transforms.Normalize((0.1307,), (0.3081,))\n",
        "                    ])),\n",
        "    batch_size=batch_size, shuffle=True, **kwargs)\n"
      ],
      "execution_count": 10,
      "outputs": []
    },
    {
      "cell_type": "code",
      "metadata": {
        "id": "8fDefDhaFlwH",
        "colab_type": "code",
        "colab": {}
      },
      "source": [
        "from tqdm import tqdm\n",
        "def train(model, device, train_loader, optimizer, epoch):\n",
        "    model.train()\n",
        "    pbar = tqdm(train_loader)\n",
        "    for batch_idx, (data, target) in enumerate(pbar):\n",
        "        data, target = data.to(device), target.to(device)\n",
        "        optimizer.zero_grad()\n",
        "        output = model(data)\n",
        "        loss = F.nll_loss(output, target)\n",
        "        loss.backward()\n",
        "        optimizer.step()\n",
        "        pbar.set_description(desc= f'loss={loss.item()} batch_id={batch_idx}')\n",
        "\n",
        "\n",
        "def test(model, device, test_loader):\n",
        "    model.eval()\n",
        "    test_loss = 0\n",
        "    correct = 0\n",
        "    with torch.no_grad():\n",
        "        for data, target in test_loader:\n",
        "            data, target = data.to(device), target.to(device)\n",
        "            output = model(data)\n",
        "            test_loss += F.nll_loss(output, target, reduction='sum').item()  # sum up batch loss\n",
        "            pred = output.argmax(dim=1, keepdim=True)  # get the index of the max log-probability\n",
        "            correct += pred.eq(target.view_as(pred)).sum().item()\n",
        "\n",
        "    test_loss /= len(test_loader.dataset)\n",
        "\n",
        "    print('\\nTest set: Average loss: {:.4f}, Accuracy: {}/{} ({:.3f}%)\\n'.format(\n",
        "        test_loss, correct, len(test_loader.dataset),\n",
        "        100. * correct / len(test_loader.dataset)))"
      ],
      "execution_count": 11,
      "outputs": []
    },
    {
      "cell_type": "markdown",
      "metadata": {
        "id": "jK3LSTankGhy",
        "colab_type": "text"
      },
      "source": [
        "Start tarining"
      ]
    },
    {
      "cell_type": "code",
      "metadata": {
        "id": "MMWbLWO6FuHb",
        "colab_type": "code",
        "colab": {
          "base_uri": "https://localhost:8080/",
          "height": 622
        },
        "outputId": "c0276d70-fd15-4256-b145-86e53f9a3388"
      },
      "source": [
        "# model = Net().to(device)\n",
        "optimizer = optim.SGD(model.parameters(), lr=0.01, momentum=0.9)\n",
        "\n",
        "for epoch in range(1, 10):\n",
        "    train(model, device, train_loader, optimizer, epoch)\n",
        "    test(model, device, test_loader)"
      ],
      "execution_count": 15,
      "outputs": [
        {
          "output_type": "stream",
          "text": [
            "loss=0.1245097890496254 batch_id=468: 100%|██████████| 469/469 [00:23<00:00, 19.77it/s]\n",
            "  0%|          | 0/469 [00:00<?, ?it/s]"
          ],
          "name": "stderr"
        },
        {
          "output_type": "stream",
          "text": [
            "\n",
            "Test set: Average loss: 0.0197, Accuracy: 9941/10000 (99.410%)\n",
            "\n"
          ],
          "name": "stdout"
        },
        {
          "output_type": "stream",
          "text": [
            "loss=0.10026098042726517 batch_id=468: 100%|██████████| 469/469 [00:23<00:00, 19.85it/s]\n",
            "  0%|          | 0/469 [00:00<?, ?it/s]"
          ],
          "name": "stderr"
        },
        {
          "output_type": "stream",
          "text": [
            "\n",
            "Test set: Average loss: 0.0193, Accuracy: 9943/10000 (99.430%)\n",
            "\n"
          ],
          "name": "stdout"
        },
        {
          "output_type": "stream",
          "text": [
            "loss=0.0752437487244606 batch_id=468: 100%|██████████| 469/469 [00:23<00:00, 19.70it/s]\n",
            "  0%|          | 0/469 [00:00<?, ?it/s]"
          ],
          "name": "stderr"
        },
        {
          "output_type": "stream",
          "text": [
            "\n",
            "Test set: Average loss: 0.0196, Accuracy: 9941/10000 (99.410%)\n",
            "\n"
          ],
          "name": "stdout"
        },
        {
          "output_type": "stream",
          "text": [
            "loss=0.04546496272087097 batch_id=468: 100%|██████████| 469/469 [00:23<00:00, 19.75it/s]\n",
            "  0%|          | 0/469 [00:00<?, ?it/s]"
          ],
          "name": "stderr"
        },
        {
          "output_type": "stream",
          "text": [
            "\n",
            "Test set: Average loss: 0.0206, Accuracy: 9944/10000 (99.440%)\n",
            "\n"
          ],
          "name": "stdout"
        },
        {
          "output_type": "stream",
          "text": [
            "loss=0.10029550641775131 batch_id=468: 100%|██████████| 469/469 [00:23<00:00, 19.67it/s]\n",
            "  0%|          | 0/469 [00:00<?, ?it/s]"
          ],
          "name": "stderr"
        },
        {
          "output_type": "stream",
          "text": [
            "\n",
            "Test set: Average loss: 0.0189, Accuracy: 9944/10000 (99.440%)\n",
            "\n"
          ],
          "name": "stdout"
        },
        {
          "output_type": "stream",
          "text": [
            "loss=0.10606008023023605 batch_id=468: 100%|██████████| 469/469 [00:23<00:00, 19.83it/s]\n",
            "  0%|          | 0/469 [00:00<?, ?it/s]"
          ],
          "name": "stderr"
        },
        {
          "output_type": "stream",
          "text": [
            "\n",
            "Test set: Average loss: 0.0200, Accuracy: 9944/10000 (99.440%)\n",
            "\n"
          ],
          "name": "stdout"
        },
        {
          "output_type": "stream",
          "text": [
            "loss=0.11324780434370041 batch_id=468: 100%|██████████| 469/469 [00:23<00:00, 19.66it/s]\n",
            "  0%|          | 0/469 [00:00<?, ?it/s]"
          ],
          "name": "stderr"
        },
        {
          "output_type": "stream",
          "text": [
            "\n",
            "Test set: Average loss: 0.0186, Accuracy: 9946/10000 (99.460%)\n",
            "\n"
          ],
          "name": "stdout"
        },
        {
          "output_type": "stream",
          "text": [
            "loss=0.20367346704006195 batch_id=468: 100%|██████████| 469/469 [00:23<00:00, 19.80it/s]\n",
            "  0%|          | 0/469 [00:00<?, ?it/s]"
          ],
          "name": "stderr"
        },
        {
          "output_type": "stream",
          "text": [
            "\n",
            "Test set: Average loss: 0.0193, Accuracy: 9948/10000 (99.480%)\n",
            "\n"
          ],
          "name": "stdout"
        },
        {
          "output_type": "stream",
          "text": [
            "loss=0.09504666179418564 batch_id=468: 100%|██████████| 469/469 [00:23<00:00, 19.78it/s]\n"
          ],
          "name": "stderr"
        },
        {
          "output_type": "stream",
          "text": [
            "\n",
            "Test set: Average loss: 0.0200, Accuracy: 9945/10000 (99.450%)\n",
            "\n"
          ],
          "name": "stdout"
        }
      ]
    },
    {
      "cell_type": "markdown",
      "metadata": {
        "id": "SUjX6O8qxWd9",
        "colab_type": "text"
      },
      "source": [
        "## Summary:\n",
        "\n",
        "A network was modelled and trained and an accuracy of 99.44% was achieved in 20 epochs. The network was designed with the constranints mentioned below:\n",
        "\n",
        "* 99.4% validation accuracy\n",
        "* Less than 20k Parameters\n",
        "* You can use anything from above you want. \n",
        "* Less than 20 Epochs\n",
        "* No fully connected layer\n",
        "\n",
        "\n",
        "# Results:\n",
        "* Total params: 19,618\n",
        "* Epochs = 10\n",
        "* Accuracy = `99.45%`\n",
        "\n"
      ]
    }
  ]
}