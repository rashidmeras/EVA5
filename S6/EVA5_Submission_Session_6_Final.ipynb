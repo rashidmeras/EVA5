{
  "nbformat": 4,
  "nbformat_minor": 0,
  "metadata": {
    "colab": {
      "name": "EVA5: Submission - Session 6-Final.ipynb",
      "provenance": [],
      "collapsed_sections": [
        "KEgSJRHhdjdJ",
        "mwNFJKT-jid_",
        "fkAa1D3csHO2"
      ],
      "authorship_tag": "ABX9TyPcSkdpSwlXBy3DszS3wsBP",
      "include_colab_link": true
    },
    "kernelspec": {
      "name": "python3",
      "display_name": "Python 3"
    }
  },
  "cells": [
    {
      "cell_type": "markdown",
      "metadata": {
        "id": "view-in-github",
        "colab_type": "text"
      },
      "source": [
        "<a href=\"https://colab.research.google.com/github/rashidmeras/EVA5/blob/master/S6/EVA5_Submission_Session_6_Final.ipynb\" target=\"_parent\"><img src=\"https://colab.research.google.com/assets/colab-badge.svg\" alt=\"Open In Colab\"/></a>"
      ]
    },
    {
      "cell_type": "markdown",
      "metadata": {
        "id": "d0aHYYuPdlGa",
        "colab_type": "text"
      },
      "source": [
        "* Objective take best 5th code, and run bellow versions for 25 epochs and report findings:\n",
        "\n",
        ">> 1. with L1 + BN\n",
        "2. with L2 + BN\n",
        "3. with L1 and L2 with BN\n",
        "4. with GBN\n",
        "5. with L1 and L2 with GBN\n",
        "\n",
        "\n",
        "* *You need to write a single loop or iterator to iterate through these conditions.*\n",
        "\n",
        "* Draw ONE graph to show the validation accuracy curves for all 5 jobs above. This graph must have proper legends and it should be clear what we are looking at.\n",
        "\n",
        "* Draw ONE graph to show the loss change curves for all 5 jobs above. This graph must have proper legends and it should be clear what we are looking at.\n",
        "\n",
        "* Find any 25 misclassified images (combined into single image) for \"with GBN\" model. You should be using the saved model from the above jobs.  You MUST show the actual and predicted class names.\n",
        "\n",
        "\n",
        "Submitted By: \n",
        "* `Meras Pillai Rashid`\n",
        "* `Samir Prasad`\n"
      ]
    },
    {
      "cell_type": "markdown",
      "metadata": {
        "id": "KEgSJRHhdjdJ",
        "colab_type": "text"
      },
      "source": [
        "## Import `pytorch` libraries and modules:"
      ]
    },
    {
      "cell_type": "code",
      "metadata": {
        "id": "f0gQABsxc9vC",
        "colab_type": "code",
        "colab": {}
      },
      "source": [
        "from __future__ import print_function\n",
        "import torch\n",
        "#import nueral net model in the torch\n",
        "import torch.nn as nn\n",
        "import torch.nn.functional as F\n",
        "import torch.optim as optim\n",
        "#torchvision is the libraray in torch that has many features\n",
        "#and we are using datasets and transforms from this library \n",
        "from torchvision import datasets, transforms"
      ],
      "execution_count": 1,
      "outputs": []
    },
    {
      "cell_type": "code",
      "metadata": {
        "id": "E0KZnc579qxQ",
        "colab_type": "code",
        "colab": {}
      },
      "source": [
        "%matplotlib inline\n",
        "import matplotlib.pyplot as plt"
      ],
      "execution_count": 2,
      "outputs": []
    },
    {
      "cell_type": "code",
      "metadata": {
        "id": "kWTNd6P_svjy",
        "colab_type": "code",
        "colab": {
          "base_uri": "https://localhost:8080/",
          "height": 205
        },
        "outputId": "952ecd96-09a0-4323-da42-da06504bab44"
      },
      "source": [
        "from google.colab import drive\n",
        "drive.mount('/content/gdrive')\n",
        "\n",
        "!ls /content/gdrive/My\\ Drive/Colab\\ Notebooks/EVA5/"
      ],
      "execution_count": 3,
      "outputs": [
        {
          "output_type": "stream",
          "text": [
            "Go to this URL in a browser: https://accounts.google.com/o/oauth2/auth?client_id=947318989803-6bn6qk8qdgf4n4g3pfee6491hc0brc4i.apps.googleusercontent.com&redirect_uri=urn%3aietf%3awg%3aoauth%3a2.0%3aoob&scope=email%20https%3a%2f%2fwww.googleapis.com%2fauth%2fdocs.test%20https%3a%2f%2fwww.googleapis.com%2fauth%2fdrive%20https%3a%2f%2fwww.googleapis.com%2fauth%2fdrive.photos.readonly%20https%3a%2f%2fwww.googleapis.com%2fauth%2fpeopleapi.readonly&response_type=code\n",
            "\n",
            "Enter your authorization code:\n",
            "··········\n",
            "Mounted at /content/gdrive\n",
            "'EVA5: Submission - Session 2.ipynb'\n",
            "'EVA5: Submission - Session3: PyTorch101.ipynb'\n",
            "'EVA5: Submission - Session 4.ipynb'\n",
            " EVA5:Submission-Session_6_Model-BatchNormalization.pt\n",
            " EVA5:Submission-Session_6_Model-GhostBatchNormalization.pt\n"
          ],
          "name": "stdout"
        }
      ]
    },
    {
      "cell_type": "code",
      "metadata": {
        "id": "_WmDblPl9ynq",
        "colab_type": "code",
        "colab": {
          "base_uri": "https://localhost:8080/",
          "height": 34
        },
        "outputId": "0df5dae0-4fea-492b-bb81-d0bfc57c2b24"
      },
      "source": [
        "!pip install torchsummary\n",
        "from torchsummary import summary\n",
        "use_cuda = torch.cuda.is_available()\n",
        "device = torch.device(\"cuda\" if use_cuda else \"cpu\")"
      ],
      "execution_count": 4,
      "outputs": [
        {
          "output_type": "stream",
          "text": [
            "Requirement already satisfied: torchsummary in /usr/local/lib/python3.6/dist-packages (1.5.1)\n"
          ],
          "name": "stdout"
        }
      ]
    },
    {
      "cell_type": "markdown",
      "metadata": {
        "id": "mwNFJKT-jid_",
        "colab_type": "text"
      },
      "source": [
        "## Project Library:\n",
        "\n",
        "*   Ghost Batch Normalization\n",
        "*   Misclassified image collection\n",
        "*   Load the testing and training data with configurabe *batch_size*\n",
        "*   Plot the Loss and Accuracy Graph\n",
        "*   Define the structure of the network\n",
        "*   Setup to create model and summary\n",
        "*   Load the testing and training data with configurabe *batch_size*\n",
        "*   Define test and train functions\n",
        "*   Create a function to *initiate_training* for all conditions\n",
        "\n",
        "\n",
        "\n"
      ]
    },
    {
      "cell_type": "markdown",
      "metadata": {
        "id": "NjA0H9MvxK5_",
        "colab_type": "text"
      },
      "source": [
        "**Ghost Batch Normalization**: \n",
        "\n",
        "A technique originally developed for training with very large batch sizes across many accelerators. "
      ]
    },
    {
      "cell_type": "code",
      "metadata": {
        "id": "b1_ZAeo3xL3M",
        "colab_type": "code",
        "colab": {}
      },
      "source": [
        "class BatchNorm(nn.BatchNorm2d):\n",
        "    def __init__(self, num_features, eps=1e-05, momentum=0.1, weight=True, bias=True):\n",
        "        super().__init__(num_features, eps=eps, momentum=momentum)\n",
        "        self.weight.data.fill_(1.0)\n",
        "        self.bias.data.fill_(0.0)\n",
        "        self.weight.requires_grad = weight\n",
        "        self.bias.requires_grad = bias\n",
        "        \n",
        "class GhostBatchNorm(BatchNorm):\n",
        "    def __init__(self, num_features, num_splits, **kw):\n",
        "        super().__init__(num_features, **kw)\n",
        "        self.num_splits = num_splits\n",
        "        self.register_buffer('running_mean', torch.zeros(num_features * self.num_splits))\n",
        "        self.register_buffer('running_var', torch.ones(num_features * self.num_splits))\n",
        "\n",
        "    def train(self, mode=True):\n",
        "        if (self.training is True) and (mode is False):  # lazily collate stats when we are going to use them\n",
        "            self.running_mean = torch.mean(self.running_mean.view(self.num_splits, self.num_features), dim=0).repeat(\n",
        "                self.num_splits)\n",
        "            self.running_var = torch.mean(self.running_var.view(self.num_splits, self.num_features), dim=0).repeat(\n",
        "                self.num_splits)\n",
        "        return super().train(mode)\n",
        "\n",
        "    def forward(self, input):\n",
        "        N, C, H, W = input.shape\n",
        "        if self.training or not self.track_running_stats:\n",
        "            return F.batch_norm(\n",
        "                input.view(-1, C * self.num_splits, H, W), self.running_mean, self.running_var,\n",
        "                self.weight.repeat(self.num_splits), self.bias.repeat(self.num_splits),\n",
        "                True, self.momentum, self.eps).view(N, C, H, W)\n",
        "        else:\n",
        "            return F.batch_norm(\n",
        "                input, self.running_mean[:self.num_features], self.running_var[:self.num_features],\n",
        "                self.weight, self.bias, False, self.momentum, self.eps)"
      ],
      "execution_count": 5,
      "outputs": []
    },
    {
      "cell_type": "markdown",
      "metadata": {
        "id": "-a6UwbhpkJ1y",
        "colab_type": "text"
      },
      "source": [
        "**Collecting Misclassified Images**"
      ]
    },
    {
      "cell_type": "code",
      "metadata": {
        "id": "_egQ6FDKkP2u",
        "colab_type": "code",
        "colab": {}
      },
      "source": [
        "def find_misclassified_image(model, model_path, device, train_loader, image_num, msg):\n",
        "    \n",
        "    data_iter = iter(test_loader)\n",
        "    figure = plt.figure()\n",
        "\n",
        "    plt.title('Misclassified Images: With {}'.format(msg))\n",
        "   \n",
        "    for _i in range(image_num):\n",
        "          data, target = data_iter.next()\n",
        "\n",
        "          model.load_state_dict(torch.load(model_path)) \n",
        "          model.eval()\n",
        "\n",
        "          data, target = data.to(device), target.to(device)\n",
        "\n",
        "          output = model(data)\n",
        "          pred = output.argmax(dim=1, keepdim=True) \n",
        "\n",
        "          for a in range(256):\n",
        "              if(pred[a]!=target[a]):\n",
        "                  \n",
        "                  plt.subplot(5,5,_i+1)\n",
        "                  plt.axis('off')\n",
        "                  plt.imshow(data[a].cpu().numpy().squeeze(),cmap='gray_r')                   "
      ],
      "execution_count": 6,
      "outputs": []
    },
    {
      "cell_type": "markdown",
      "metadata": {
        "id": "l1_4BwyZX-Oh",
        "colab_type": "text"
      },
      "source": [
        "Plot the Loss and Accuracy Graph"
      ]
    },
    {
      "cell_type": "code",
      "metadata": {
        "id": "W4s4oGPvX_KM",
        "colab_type": "code",
        "colab": {}
      },
      "source": [
        "def plot_stat(stat_list, msg):\n",
        "    plt.figure(figsize=(20,12))\n",
        "    plt.plot(stat_list[0],color='Green',   label='With L1+BN')\n",
        "    plt.plot(stat_list[1],color='Red',     label='With L2+BN')\n",
        "    plt.plot(stat_list[2],color='Blue',    label='With L1 and L2 with BN')\n",
        "    plt.plot(stat_list[3],color='Yellow',  label='With GBN')\n",
        "    plt.plot(stat_list[4],color='Magenta', label='With L1 and L2 with GBN')\n",
        "        \n",
        "    plt.xlabel(' Epochs ')\n",
        "\n",
        "    if msg == 'Loss':\n",
        "        plt.ylabel(' Loss ')\n",
        "        plt.title('Total losses vs Epochs')\n",
        "    elif msg == 'Acc':\n",
        "        plt.ylabel(' Accuracy ')\n",
        "        plt.title('Total accuracy vs Epochs')\n",
        "\n",
        "    plt.legend(loc = 'upper left' , bbox_to_anchor = (1,1))\n",
        "    plt.legend()\n",
        "    \n",
        "    plt.show()"
      ],
      "execution_count": 7,
      "outputs": []
    },
    {
      "cell_type": "markdown",
      "metadata": {
        "id": "5IV_0psCd_er",
        "colab_type": "text"
      },
      "source": [
        "Define the structure of the network"
      ]
    },
    {
      "cell_type": "code",
      "metadata": {
        "id": "WQKJsA3yd_Bm",
        "colab_type": "code",
        "colab": {}
      },
      "source": [
        "# create the instance of the class\n",
        "class Net(nn.Module):\n",
        "\n",
        "    #construct the class\n",
        "    def __init__(self, gbn_en):\n",
        "\n",
        "        #call parent class and initilize\n",
        "        super(Net, self).__init__()\n",
        "        self.gbn_en = gbn_en\n",
        "\n",
        "        print(\"Create the instance of the Net class with GBN = {}\".format(gbn_en))\n",
        "\n",
        "        # Layer1:\n",
        "        if gbn_en:\n",
        "            self.conv1 = nn.Sequential (nn.Conv2d(1, 32, 3, padding=1),GhostBatchNorm(32,2),nn.ReLU())\n",
        "        else:  \n",
        "            self.conv1 = nn.Sequential (nn.Conv2d(1, 32, 3, padding=1),nn.BatchNorm2d(32),nn.ReLU())\n",
        "\n",
        "        # Layer2: \n",
        "        if gbn_en:\n",
        "            self.conv2 = nn.Sequential (nn.Conv2d(32, 16, 3),GhostBatchNorm(16,2),nn.ReLU())\n",
        "        else:             \n",
        "            self.conv2 = nn.Sequential (nn.Conv2d(32, 16, 3),nn.BatchNorm2d(16),nn.ReLU())\n",
        "\n",
        "        # Max-Pooling layer \n",
        "        self.pool1 = nn.MaxPool2d(2, 2)        \n",
        "\n",
        "        # Layer3:\n",
        "        if gbn_en:\n",
        "            self.conv3 = nn.Sequential (nn.Conv2d(16, 8, 1),GhostBatchNorm(8,2),nn.ReLU(),nn.Dropout(0.1))\n",
        "        else:               \n",
        "            self.conv3 = nn.Sequential (nn.Conv2d(16, 8, 1),nn.BatchNorm2d(8),nn.ReLU(),nn.Dropout(0.1))\n",
        "\n",
        "        # Layer4:\n",
        "        if gbn_en:\n",
        "            self.conv4 = nn.Sequential (nn.Conv2d(8, 16, 3),GhostBatchNorm(16,2),nn.ReLU())\n",
        "        else:               \n",
        "            self.conv4 = nn.Sequential (nn.Conv2d(8, 16, 3),nn.BatchNorm2d(16),nn.ReLU())\n",
        "            \n",
        "        # Layer5:\n",
        "        if gbn_en:\n",
        "            self.conv5 = nn.Sequential (nn.Conv2d(16, 14, 3),GhostBatchNorm(14,2),nn.ReLU())\n",
        "        else:          \n",
        "            self.conv5 = nn.Sequential (nn.Conv2d(16, 14, 3),nn.BatchNorm2d(14),nn.ReLU())\n",
        "\n",
        "        # Layer6:\n",
        "        if gbn_en:\n",
        "            self.conv6 = nn.Sequential (nn.Conv2d(14, 10, 3),GhostBatchNorm(10,2),nn.ReLU())\n",
        "        else:           \n",
        "            self.conv6 = nn.Sequential (nn.Conv2d(14, 10, 3),nn.BatchNorm2d(10),nn.ReLU())\n",
        "\n",
        "        # Layer7:\n",
        "        self.conv7 = nn.Sequential (nn.Conv2d(10, 10, 1))            \n",
        "\n",
        "        # GAP Layer\n",
        "        self.gap = nn.Sequential(nn.AvgPool2d(kernel_size=7)) # output_size = 1     \n",
        "\n",
        "    # defines the strcuture of the class\n",
        "    def forward(self, x):\n",
        "       \n",
        "        x = self.conv1(x)\n",
        "        x = self.conv2(x)\n",
        "        x = self.pool1(x)\n",
        "        x = self.conv3(x)\n",
        "        x = self.conv4(x)\n",
        "        x = self.conv5(x)\n",
        "        x = self.conv6(x)\n",
        "        x = self.conv7(x)\n",
        "        x = self.gap(x)\n",
        "\n",
        "        x = x.view(-1, 10)\n",
        "        return F.log_softmax(x, dim=1)"
      ],
      "execution_count": 8,
      "outputs": []
    },
    {
      "cell_type": "markdown",
      "metadata": {
        "id": "OZnYvmv4i3kV",
        "colab_type": "text"
      },
      "source": [
        "Setup to create model and summary"
      ]
    },
    {
      "cell_type": "code",
      "metadata": {
        "id": "0zBZmMhvi4Zx",
        "colab_type": "code",
        "colab": {}
      },
      "source": [
        "def create_model(device, gbn_en):\n",
        "    model = Net(gbn_en).to(device)\n",
        "    summary(model, input_size=(1, 28, 28))\n",
        "    return model"
      ],
      "execution_count": 9,
      "outputs": []
    },
    {
      "cell_type": "markdown",
      "metadata": {
        "id": "LnrI4dHLuXn2",
        "colab_type": "text"
      },
      "source": [
        "Load the testing and training data with configurabe *batch_size*"
      ]
    },
    {
      "cell_type": "code",
      "metadata": {
        "id": "v6RAQyGbmF5R",
        "colab_type": "code",
        "colab": {}
      },
      "source": [
        "def initialize_train_test_loader(batch_size = 128):\n",
        "\n",
        "    print(\"\\n Initialize train and test loader with Batch Size:{}\".format(batch_size))\n",
        "\n",
        "    torch.manual_seed(22)\n",
        "    \n",
        "    kwargs = {'num_workers': 1, 'pin_memory': True} if use_cuda else {}\n",
        "    train_loader = torch.utils.data.DataLoader(\n",
        "        datasets.MNIST('../data', train=True, download=True,\n",
        "                        transform=transforms.Compose([\n",
        "                            transforms.ColorJitter(brightness=0.10, contrast=0.1, saturation=0.10, hue=0.1),\n",
        "                            transforms.RandomAffine(degrees=10, translate=(0.1,0.1), scale=(0.9, 1.1)),\n",
        "                            transforms.RandomRotation((-7.0,7.0), fill=(1,)),                          \n",
        "                            transforms.ToTensor(),\n",
        "                            transforms.Normalize((0.1307,), (0.3081,))\n",
        "                        ])), batch_size=batch_size, shuffle=True, **kwargs)\n",
        "       \n",
        "    test_loader = torch.utils.data.DataLoader(\n",
        "        datasets.MNIST('../data', train=False, transform=transforms.Compose([\n",
        "                            transforms.ToTensor(),\n",
        "                            transforms.Normalize((0.1307,), (0.3081,))\n",
        "                        ])), batch_size=batch_size, shuffle=True, **kwargs)\n",
        "    \n",
        "    return train_loader, test_loader\n",
        "\n"
      ],
      "execution_count": 10,
      "outputs": []
    },
    {
      "cell_type": "markdown",
      "metadata": {
        "id": "hxB3rvKfx62p",
        "colab_type": "text"
      },
      "source": [
        "Define test and train functions"
      ]
    },
    {
      "cell_type": "code",
      "metadata": {
        "id": "UqfCXNm5x9l1",
        "colab_type": "code",
        "colab": {}
      },
      "source": [
        "from tqdm import tqdm\n",
        "\n",
        "# Loss train & test\n",
        "train_losses = []\n",
        "test_losses = []\n",
        "\n",
        "# Accuracy train & test\n",
        "train_acc = []\n",
        "test_acc = []\n",
        "\n",
        "# Total Loss & Accuracy\n",
        "total_losses = []\n",
        "total_accuracies = []\n",
        "\n",
        "def train(model, device, train_loader, optimizer, epoch, l1_lambda=None):\n",
        "  model.train()\n",
        "  pbar = tqdm(train_loader)\n",
        "  correct = 0\n",
        "  processed = 0\n",
        "  for batch_idx, (data, target) in enumerate(pbar):\n",
        "    # get samples\n",
        "    data, target = data.to(device), target.to(device)\n",
        "\n",
        "    # Init\n",
        "    optimizer.zero_grad()\n",
        "\n",
        "    # Predict\n",
        "    y_pred = model(data)\n",
        "\n",
        "    # Calculate loss\n",
        "    loss = F.nll_loss(y_pred, target)\n",
        "\n",
        "    # l1 regularization\n",
        "    if l1_lambda:\n",
        "        with torch.enable_grad():\n",
        "            l1_loss=0\n",
        "            for param in model.parameters():\n",
        "                l1_loss+=torch.sum(param.abs())\n",
        "            loss+=l1_lambda*l1_loss  \n",
        "\n",
        "    train_losses.append(loss)\n",
        "\n",
        "    # Backpropagation\n",
        "    loss.backward()\n",
        "    optimizer.step()\n",
        "\n",
        "    # Update pbar-tqdm\n",
        "    pred = y_pred.argmax(dim=1, keepdim=True)  # get the index of the max log-probability\n",
        "    correct += pred.eq(target.view_as(pred)).sum().item()\n",
        "    processed += len(data)\n",
        "\n",
        "    pbar.set_description(desc= f'Loss={loss.item()} Batch_id={batch_idx} Accuracy={100*correct/processed:0.2f}')\n",
        "    train_acc.append(100*correct/processed)\n",
        "\n",
        "def test(model, device, test_loader):\n",
        "    model.eval()\n",
        "    test_loss = 0\n",
        "    correct = 0\n",
        "    with torch.no_grad():\n",
        "        for data, target in test_loader:\n",
        "            data, target = data.to(device), target.to(device)\n",
        "            output = model(data)\n",
        "            test_loss += F.nll_loss(output, target, reduction='sum').item()  # sum up batch loss\n",
        "            pred = output.argmax(dim=1, keepdim=True)  # get the index of the max log-probability\n",
        "            correct += pred.eq(target.view_as(pred)).sum().item()\n",
        "\n",
        "    test_loss /= len(test_loader.dataset)\n",
        "    test_losses.append(test_loss)\n",
        "\n",
        "    print('\\nTest set: Average loss: {:.4f}, Accuracy: {}/{} ({:.2f}%)\\n'.format(\n",
        "        test_loss, correct, len(test_loader.dataset),\n",
        "        100. * correct / len(test_loader.dataset)))\n",
        "    \n",
        "    test_acc.append(100. * correct / len(test_loader.dataset))    "
      ],
      "execution_count": 11,
      "outputs": []
    },
    {
      "cell_type": "markdown",
      "metadata": {
        "id": "LisKLRn-OSaO",
        "colab_type": "text"
      },
      "source": [
        "Create a function to *initiate_training* for all conditions"
      ]
    },
    {
      "cell_type": "code",
      "metadata": {
        "id": "QgDmlexZOTZy",
        "colab_type": "code",
        "colab": {}
      },
      "source": [
        "from torch.optim.lr_scheduler import StepLR\n",
        "\n",
        "def initiate_training(model, device, train_loader, epochs, step_lr=True, l1_lambda=None, l2_en=False):\n",
        "\n",
        "    if l2_en:\n",
        "        optimizer = optim.SGD(model.parameters(), lr=0.01, momentum=0.9, dampening=0, weight_decay=1e-5, nesterov=False)\n",
        "    else:\n",
        "        optimizer = optim.SGD(model.parameters(), lr=0.01, momentum=0.9)\n",
        "\n",
        "    if step_lr:\n",
        "        scheduler = StepLR(optimizer, step_size=5, gamma=0.1)\n",
        "    \n",
        "    for epoch in range(epochs):\n",
        "\n",
        "        train(model, device, train_loader, optimizer, epoch, l1_lambda)\n",
        "\n",
        "        if step_lr:\n",
        "            scheduler.step()\n",
        "\n",
        "        print('\\n Epoch {}, lr {}'.format(epoch, optimizer.param_groups[0]['lr']))\n",
        "        test(model, device, test_loader)    "
      ],
      "execution_count": 12,
      "outputs": []
    },
    {
      "cell_type": "markdown",
      "metadata": {
        "id": "fkAa1D3csHO2",
        "colab_type": "text"
      },
      "source": [
        "## Run: Initialization and trainings"
      ]
    },
    {
      "cell_type": "markdown",
      "metadata": {
        "id": "Sc39elzDeJHj",
        "colab_type": "text"
      },
      "source": [
        "Create the model with normal BatchNormalization"
      ]
    },
    {
      "cell_type": "code",
      "metadata": {
        "id": "fzffz2YOd9oi",
        "colab_type": "code",
        "colab": {
          "base_uri": "https://localhost:8080/",
          "height": 638
        },
        "outputId": "072ef225-d4ca-49b3-e7cc-728d5ff6711f"
      },
      "source": [
        "model = create_model(device, gbn_en=False)\n",
        "model_name_bn = \"EVA5:Submission-Session_6_Model-BatchNormalization.pt\"\n",
        "save_path_bn = F\"/content/gdrive/My Drive/Colab Notebooks/EVA5/{model_name_bn}\"\n",
        "torch.save(model.state_dict(), save_path_bn)\n",
        "print(\"Model Saved: {}\".format(model_name_bn))\n",
        "\n",
        "# Set the Epoch\n",
        "EPOCHS = 25"
      ],
      "execution_count": 23,
      "outputs": [
        {
          "output_type": "stream",
          "text": [
            "Create the instance of the Net class with GBN = False\n",
            "----------------------------------------------------------------\n",
            "        Layer (type)               Output Shape         Param #\n",
            "================================================================\n",
            "            Conv2d-1           [-1, 32, 28, 28]             320\n",
            "       BatchNorm2d-2           [-1, 32, 28, 28]              64\n",
            "              ReLU-3           [-1, 32, 28, 28]               0\n",
            "            Conv2d-4           [-1, 16, 26, 26]           4,624\n",
            "       BatchNorm2d-5           [-1, 16, 26, 26]              32\n",
            "              ReLU-6           [-1, 16, 26, 26]               0\n",
            "         MaxPool2d-7           [-1, 16, 13, 13]               0\n",
            "            Conv2d-8            [-1, 8, 13, 13]             136\n",
            "       BatchNorm2d-9            [-1, 8, 13, 13]              16\n",
            "             ReLU-10            [-1, 8, 13, 13]               0\n",
            "          Dropout-11            [-1, 8, 13, 13]               0\n",
            "           Conv2d-12           [-1, 16, 11, 11]           1,168\n",
            "      BatchNorm2d-13           [-1, 16, 11, 11]              32\n",
            "             ReLU-14           [-1, 16, 11, 11]               0\n",
            "           Conv2d-15             [-1, 14, 9, 9]           2,030\n",
            "      BatchNorm2d-16             [-1, 14, 9, 9]              28\n",
            "             ReLU-17             [-1, 14, 9, 9]               0\n",
            "           Conv2d-18             [-1, 10, 7, 7]           1,270\n",
            "      BatchNorm2d-19             [-1, 10, 7, 7]              20\n",
            "             ReLU-20             [-1, 10, 7, 7]               0\n",
            "           Conv2d-21             [-1, 10, 7, 7]             110\n",
            "        AvgPool2d-22             [-1, 10, 1, 1]               0\n",
            "================================================================\n",
            "Total params: 9,850\n",
            "Trainable params: 9,850\n",
            "Non-trainable params: 0\n",
            "----------------------------------------------------------------\n",
            "Input size (MB): 0.00\n",
            "Forward/backward pass size (MB): 0.97\n",
            "Params size (MB): 0.04\n",
            "Estimated Total Size (MB): 1.01\n",
            "----------------------------------------------------------------\n",
            "Model Saved: EVA5:Submission-Session_6_Model-BatchNormalization.pt\n"
          ],
          "name": "stdout"
        }
      ]
    },
    {
      "cell_type": "markdown",
      "metadata": {
        "id": "lei6fCbPtV1J",
        "colab_type": "text"
      },
      "source": [
        "1. with L1 + BN\n"
      ]
    },
    {
      "cell_type": "code",
      "metadata": {
        "id": "j-wKbBqWsH69",
        "colab_type": "code",
        "colab": {
          "base_uri": "https://localhost:8080/",
          "height": 1000
        },
        "outputId": "33012ada-91d3-49b2-c66f-0de022788f10"
      },
      "source": [
        "train_loader, test_loader = initialize_train_test_loader()\n",
        "\n",
        "# with L1 and BN\n",
        "initiate_training(model, device, train_loader, EPOCHS, False, 1e-5, False)\n",
        "\n",
        "total_losses.extend([test_losses])\n",
        "test_losses = []\n",
        "\n",
        "total_accuracies.extend([test_acc])\n",
        "test_acc = []"
      ],
      "execution_count": 24,
      "outputs": [
        {
          "output_type": "stream",
          "text": [
            "\r  0%|          | 0/469 [00:00<?, ?it/s]"
          ],
          "name": "stderr"
        },
        {
          "output_type": "stream",
          "text": [
            "\n",
            " Initialize train and test loader with Batch Size:128\n"
          ],
          "name": "stdout"
        },
        {
          "output_type": "stream",
          "text": [
            "Loss=0.3611919581890106 Batch_id=468 Accuracy=68.82: 100%|██████████| 469/469 [02:25<00:00,  3.23it/s]\n"
          ],
          "name": "stderr"
        },
        {
          "output_type": "stream",
          "text": [
            "\n",
            " Epoch 0, lr 0.01\n"
          ],
          "name": "stdout"
        },
        {
          "output_type": "stream",
          "text": [
            "\r  0%|          | 0/469 [00:00<?, ?it/s]"
          ],
          "name": "stderr"
        },
        {
          "output_type": "stream",
          "text": [
            "\n",
            "Test set: Average loss: 0.1860, Accuracy: 9536/10000 (95.36%)\n",
            "\n"
          ],
          "name": "stdout"
        },
        {
          "output_type": "stream",
          "text": [
            "Loss=0.21791507303714752 Batch_id=468 Accuracy=94.39: 100%|██████████| 469/469 [02:26<00:00,  3.20it/s]\n"
          ],
          "name": "stderr"
        },
        {
          "output_type": "stream",
          "text": [
            "\n",
            " Epoch 1, lr 0.01\n"
          ],
          "name": "stdout"
        },
        {
          "output_type": "stream",
          "text": [
            "\r  0%|          | 0/469 [00:00<?, ?it/s]"
          ],
          "name": "stderr"
        },
        {
          "output_type": "stream",
          "text": [
            "\n",
            "Test set: Average loss: 0.1492, Accuracy: 9569/10000 (95.69%)\n",
            "\n"
          ],
          "name": "stdout"
        },
        {
          "output_type": "stream",
          "text": [
            "Loss=0.07254964858293533 Batch_id=468 Accuracy=95.97: 100%|██████████| 469/469 [02:26<00:00,  3.21it/s]\n"
          ],
          "name": "stderr"
        },
        {
          "output_type": "stream",
          "text": [
            "\n",
            " Epoch 2, lr 0.01\n"
          ],
          "name": "stdout"
        },
        {
          "output_type": "stream",
          "text": [
            "\r  0%|          | 0/469 [00:00<?, ?it/s]"
          ],
          "name": "stderr"
        },
        {
          "output_type": "stream",
          "text": [
            "\n",
            "Test set: Average loss: 0.0656, Accuracy: 9828/10000 (98.28%)\n",
            "\n"
          ],
          "name": "stdout"
        },
        {
          "output_type": "stream",
          "text": [
            "Loss=0.07323131710290909 Batch_id=468 Accuracy=96.51: 100%|██████████| 469/469 [02:25<00:00,  3.22it/s]\n"
          ],
          "name": "stderr"
        },
        {
          "output_type": "stream",
          "text": [
            "\n",
            " Epoch 3, lr 0.01\n"
          ],
          "name": "stdout"
        },
        {
          "output_type": "stream",
          "text": [
            "\r  0%|          | 0/469 [00:00<?, ?it/s]"
          ],
          "name": "stderr"
        },
        {
          "output_type": "stream",
          "text": [
            "\n",
            "Test set: Average loss: 0.0596, Accuracy: 9825/10000 (98.25%)\n",
            "\n"
          ],
          "name": "stdout"
        },
        {
          "output_type": "stream",
          "text": [
            "Loss=0.11049054563045502 Batch_id=468 Accuracy=96.86: 100%|██████████| 469/469 [02:26<00:00,  3.20it/s]\n"
          ],
          "name": "stderr"
        },
        {
          "output_type": "stream",
          "text": [
            "\n",
            " Epoch 4, lr 0.01\n"
          ],
          "name": "stdout"
        },
        {
          "output_type": "stream",
          "text": [
            "\r  0%|          | 0/469 [00:00<?, ?it/s]"
          ],
          "name": "stderr"
        },
        {
          "output_type": "stream",
          "text": [
            "\n",
            "Test set: Average loss: 0.0410, Accuracy: 9881/10000 (98.81%)\n",
            "\n"
          ],
          "name": "stdout"
        },
        {
          "output_type": "stream",
          "text": [
            "Loss=0.13049668073654175 Batch_id=468 Accuracy=97.30: 100%|██████████| 469/469 [02:27<00:00,  3.17it/s]\n"
          ],
          "name": "stderr"
        },
        {
          "output_type": "stream",
          "text": [
            "\n",
            " Epoch 5, lr 0.01\n"
          ],
          "name": "stdout"
        },
        {
          "output_type": "stream",
          "text": [
            "\r  0%|          | 0/469 [00:00<?, ?it/s]"
          ],
          "name": "stderr"
        },
        {
          "output_type": "stream",
          "text": [
            "\n",
            "Test set: Average loss: 0.0447, Accuracy: 9869/10000 (98.69%)\n",
            "\n"
          ],
          "name": "stdout"
        },
        {
          "output_type": "stream",
          "text": [
            "Loss=0.11518131196498871 Batch_id=468 Accuracy=97.39: 100%|██████████| 469/469 [02:28<00:00,  3.15it/s]\n"
          ],
          "name": "stderr"
        },
        {
          "output_type": "stream",
          "text": [
            "\n",
            " Epoch 6, lr 0.01\n"
          ],
          "name": "stdout"
        },
        {
          "output_type": "stream",
          "text": [
            "\r  0%|          | 0/469 [00:00<?, ?it/s]"
          ],
          "name": "stderr"
        },
        {
          "output_type": "stream",
          "text": [
            "\n",
            "Test set: Average loss: 0.0339, Accuracy: 9902/10000 (99.02%)\n",
            "\n"
          ],
          "name": "stdout"
        },
        {
          "output_type": "stream",
          "text": [
            "Loss=0.08327609300613403 Batch_id=468 Accuracy=97.52: 100%|██████████| 469/469 [02:26<00:00,  3.21it/s]\n"
          ],
          "name": "stderr"
        },
        {
          "output_type": "stream",
          "text": [
            "\n",
            " Epoch 7, lr 0.01\n"
          ],
          "name": "stdout"
        },
        {
          "output_type": "stream",
          "text": [
            "\r  0%|          | 0/469 [00:00<?, ?it/s]"
          ],
          "name": "stderr"
        },
        {
          "output_type": "stream",
          "text": [
            "\n",
            "Test set: Average loss: 0.0364, Accuracy: 9889/10000 (98.89%)\n",
            "\n"
          ],
          "name": "stdout"
        },
        {
          "output_type": "stream",
          "text": [
            "Loss=0.04642203077673912 Batch_id=468 Accuracy=97.61: 100%|██████████| 469/469 [02:25<00:00,  3.22it/s]\n"
          ],
          "name": "stderr"
        },
        {
          "output_type": "stream",
          "text": [
            "\n",
            " Epoch 8, lr 0.01\n"
          ],
          "name": "stdout"
        },
        {
          "output_type": "stream",
          "text": [
            "\r  0%|          | 0/469 [00:00<?, ?it/s]"
          ],
          "name": "stderr"
        },
        {
          "output_type": "stream",
          "text": [
            "\n",
            "Test set: Average loss: 0.0363, Accuracy: 9885/10000 (98.85%)\n",
            "\n"
          ],
          "name": "stdout"
        },
        {
          "output_type": "stream",
          "text": [
            "Loss=0.150848388671875 Batch_id=468 Accuracy=97.73: 100%|██████████| 469/469 [02:26<00:00,  3.20it/s]\n"
          ],
          "name": "stderr"
        },
        {
          "output_type": "stream",
          "text": [
            "\n",
            " Epoch 9, lr 0.01\n"
          ],
          "name": "stdout"
        },
        {
          "output_type": "stream",
          "text": [
            "\r  0%|          | 0/469 [00:00<?, ?it/s]"
          ],
          "name": "stderr"
        },
        {
          "output_type": "stream",
          "text": [
            "\n",
            "Test set: Average loss: 0.0343, Accuracy: 9873/10000 (98.73%)\n",
            "\n"
          ],
          "name": "stdout"
        },
        {
          "output_type": "stream",
          "text": [
            "Loss=0.0551535040140152 Batch_id=468 Accuracy=97.76: 100%|██████████| 469/469 [02:26<00:00,  3.21it/s]\n"
          ],
          "name": "stderr"
        },
        {
          "output_type": "stream",
          "text": [
            "\n",
            " Epoch 10, lr 0.01\n"
          ],
          "name": "stdout"
        },
        {
          "output_type": "stream",
          "text": [
            "\r  0%|          | 0/469 [00:00<?, ?it/s]"
          ],
          "name": "stderr"
        },
        {
          "output_type": "stream",
          "text": [
            "\n",
            "Test set: Average loss: 0.0330, Accuracy: 9899/10000 (98.99%)\n",
            "\n"
          ],
          "name": "stdout"
        },
        {
          "output_type": "stream",
          "text": [
            "Loss=0.14426776766777039 Batch_id=468 Accuracy=97.86: 100%|██████████| 469/469 [02:26<00:00,  3.19it/s]\n"
          ],
          "name": "stderr"
        },
        {
          "output_type": "stream",
          "text": [
            "\n",
            " Epoch 11, lr 0.01\n"
          ],
          "name": "stdout"
        },
        {
          "output_type": "stream",
          "text": [
            "\r  0%|          | 0/469 [00:00<?, ?it/s]"
          ],
          "name": "stderr"
        },
        {
          "output_type": "stream",
          "text": [
            "\n",
            "Test set: Average loss: 0.0331, Accuracy: 9892/10000 (98.92%)\n",
            "\n"
          ],
          "name": "stdout"
        },
        {
          "output_type": "stream",
          "text": [
            "Loss=0.028463024646043777 Batch_id=468 Accuracy=98.01: 100%|██████████| 469/469 [02:27<00:00,  3.19it/s]\n"
          ],
          "name": "stderr"
        },
        {
          "output_type": "stream",
          "text": [
            "\n",
            " Epoch 12, lr 0.01\n"
          ],
          "name": "stdout"
        },
        {
          "output_type": "stream",
          "text": [
            "\r  0%|          | 0/469 [00:00<?, ?it/s]"
          ],
          "name": "stderr"
        },
        {
          "output_type": "stream",
          "text": [
            "\n",
            "Test set: Average loss: 0.0257, Accuracy: 9924/10000 (99.24%)\n",
            "\n"
          ],
          "name": "stdout"
        },
        {
          "output_type": "stream",
          "text": [
            "Loss=0.1265212595462799 Batch_id=468 Accuracy=98.03: 100%|██████████| 469/469 [02:26<00:00,  3.20it/s]\n"
          ],
          "name": "stderr"
        },
        {
          "output_type": "stream",
          "text": [
            "\n",
            " Epoch 13, lr 0.01\n"
          ],
          "name": "stdout"
        },
        {
          "output_type": "stream",
          "text": [
            "\r  0%|          | 0/469 [00:00<?, ?it/s]"
          ],
          "name": "stderr"
        },
        {
          "output_type": "stream",
          "text": [
            "\n",
            "Test set: Average loss: 0.0256, Accuracy: 9918/10000 (99.18%)\n",
            "\n"
          ],
          "name": "stdout"
        },
        {
          "output_type": "stream",
          "text": [
            "Loss=0.04172612726688385 Batch_id=468 Accuracy=98.12: 100%|██████████| 469/469 [02:26<00:00,  3.21it/s]\n"
          ],
          "name": "stderr"
        },
        {
          "output_type": "stream",
          "text": [
            "\n",
            " Epoch 14, lr 0.01\n"
          ],
          "name": "stdout"
        },
        {
          "output_type": "stream",
          "text": [
            "\r  0%|          | 0/469 [00:00<?, ?it/s]"
          ],
          "name": "stderr"
        },
        {
          "output_type": "stream",
          "text": [
            "\n",
            "Test set: Average loss: 0.0292, Accuracy: 9909/10000 (99.09%)\n",
            "\n"
          ],
          "name": "stdout"
        },
        {
          "output_type": "stream",
          "text": [
            "Loss=0.12779174745082855 Batch_id=468 Accuracy=98.04: 100%|██████████| 469/469 [02:26<00:00,  3.20it/s]\n"
          ],
          "name": "stderr"
        },
        {
          "output_type": "stream",
          "text": [
            "\n",
            " Epoch 15, lr 0.01\n"
          ],
          "name": "stdout"
        },
        {
          "output_type": "stream",
          "text": [
            "\r  0%|          | 0/469 [00:00<?, ?it/s]"
          ],
          "name": "stderr"
        },
        {
          "output_type": "stream",
          "text": [
            "\n",
            "Test set: Average loss: 0.0272, Accuracy: 9912/10000 (99.12%)\n",
            "\n"
          ],
          "name": "stdout"
        },
        {
          "output_type": "stream",
          "text": [
            "Loss=0.06110382825136185 Batch_id=468 Accuracy=98.16: 100%|██████████| 469/469 [02:27<00:00,  3.18it/s]\n"
          ],
          "name": "stderr"
        },
        {
          "output_type": "stream",
          "text": [
            "\n",
            " Epoch 16, lr 0.01\n"
          ],
          "name": "stdout"
        },
        {
          "output_type": "stream",
          "text": [
            "\r  0%|          | 0/469 [00:00<?, ?it/s]"
          ],
          "name": "stderr"
        },
        {
          "output_type": "stream",
          "text": [
            "\n",
            "Test set: Average loss: 0.0224, Accuracy: 9930/10000 (99.30%)\n",
            "\n"
          ],
          "name": "stdout"
        },
        {
          "output_type": "stream",
          "text": [
            "Loss=0.058428213000297546 Batch_id=468 Accuracy=98.20: 100%|██████████| 469/469 [02:25<00:00,  3.21it/s]\n"
          ],
          "name": "stderr"
        },
        {
          "output_type": "stream",
          "text": [
            "\n",
            " Epoch 17, lr 0.01\n"
          ],
          "name": "stdout"
        },
        {
          "output_type": "stream",
          "text": [
            "\r  0%|          | 0/469 [00:00<?, ?it/s]"
          ],
          "name": "stderr"
        },
        {
          "output_type": "stream",
          "text": [
            "\n",
            "Test set: Average loss: 0.0255, Accuracy: 9913/10000 (99.13%)\n",
            "\n"
          ],
          "name": "stdout"
        },
        {
          "output_type": "stream",
          "text": [
            "Loss=0.1601795107126236 Batch_id=468 Accuracy=98.25: 100%|██████████| 469/469 [02:23<00:00,  3.27it/s]\n"
          ],
          "name": "stderr"
        },
        {
          "output_type": "stream",
          "text": [
            "\n",
            " Epoch 18, lr 0.01\n"
          ],
          "name": "stdout"
        },
        {
          "output_type": "stream",
          "text": [
            "\r  0%|          | 0/469 [00:00<?, ?it/s]"
          ],
          "name": "stderr"
        },
        {
          "output_type": "stream",
          "text": [
            "\n",
            "Test set: Average loss: 0.0234, Accuracy: 9920/10000 (99.20%)\n",
            "\n"
          ],
          "name": "stdout"
        },
        {
          "output_type": "stream",
          "text": [
            "Loss=0.10289578884840012 Batch_id=468 Accuracy=98.14: 100%|██████████| 469/469 [02:23<00:00,  3.27it/s]\n"
          ],
          "name": "stderr"
        },
        {
          "output_type": "stream",
          "text": [
            "\n",
            " Epoch 19, lr 0.01\n"
          ],
          "name": "stdout"
        },
        {
          "output_type": "stream",
          "text": [
            "\r  0%|          | 0/469 [00:00<?, ?it/s]"
          ],
          "name": "stderr"
        },
        {
          "output_type": "stream",
          "text": [
            "\n",
            "Test set: Average loss: 0.0318, Accuracy: 9898/10000 (98.98%)\n",
            "\n"
          ],
          "name": "stdout"
        },
        {
          "output_type": "stream",
          "text": [
            "Loss=0.0894220620393753 Batch_id=468 Accuracy=98.27: 100%|██████████| 469/469 [02:26<00:00,  3.20it/s]\n"
          ],
          "name": "stderr"
        },
        {
          "output_type": "stream",
          "text": [
            "\n",
            " Epoch 20, lr 0.01\n"
          ],
          "name": "stdout"
        },
        {
          "output_type": "stream",
          "text": [
            "\r  0%|          | 0/469 [00:00<?, ?it/s]"
          ],
          "name": "stderr"
        },
        {
          "output_type": "stream",
          "text": [
            "\n",
            "Test set: Average loss: 0.0263, Accuracy: 9910/10000 (99.10%)\n",
            "\n"
          ],
          "name": "stdout"
        },
        {
          "output_type": "stream",
          "text": [
            "Loss=0.10561162233352661 Batch_id=468 Accuracy=98.28: 100%|██████████| 469/469 [02:24<00:00,  3.25it/s]\n"
          ],
          "name": "stderr"
        },
        {
          "output_type": "stream",
          "text": [
            "\n",
            " Epoch 21, lr 0.01\n"
          ],
          "name": "stdout"
        },
        {
          "output_type": "stream",
          "text": [
            "\r  0%|          | 0/469 [00:00<?, ?it/s]"
          ],
          "name": "stderr"
        },
        {
          "output_type": "stream",
          "text": [
            "\n",
            "Test set: Average loss: 0.0226, Accuracy: 9919/10000 (99.19%)\n",
            "\n"
          ],
          "name": "stdout"
        },
        {
          "output_type": "stream",
          "text": [
            "Loss=0.08377278596162796 Batch_id=468 Accuracy=98.28: 100%|██████████| 469/469 [02:23<00:00,  3.26it/s]\n"
          ],
          "name": "stderr"
        },
        {
          "output_type": "stream",
          "text": [
            "\n",
            " Epoch 22, lr 0.01\n"
          ],
          "name": "stdout"
        },
        {
          "output_type": "stream",
          "text": [
            "\r  0%|          | 0/469 [00:00<?, ?it/s]"
          ],
          "name": "stderr"
        },
        {
          "output_type": "stream",
          "text": [
            "\n",
            "Test set: Average loss: 0.0192, Accuracy: 9935/10000 (99.35%)\n",
            "\n"
          ],
          "name": "stdout"
        },
        {
          "output_type": "stream",
          "text": [
            "Loss=0.0887703225016594 Batch_id=468 Accuracy=98.26: 100%|██████████| 469/469 [02:24<00:00,  3.25it/s]\n"
          ],
          "name": "stderr"
        },
        {
          "output_type": "stream",
          "text": [
            "\n",
            " Epoch 23, lr 0.01\n"
          ],
          "name": "stdout"
        },
        {
          "output_type": "stream",
          "text": [
            "\r  0%|          | 0/469 [00:00<?, ?it/s]"
          ],
          "name": "stderr"
        },
        {
          "output_type": "stream",
          "text": [
            "\n",
            "Test set: Average loss: 0.0240, Accuracy: 9918/10000 (99.18%)\n",
            "\n"
          ],
          "name": "stdout"
        },
        {
          "output_type": "stream",
          "text": [
            "Loss=0.06243101879954338 Batch_id=468 Accuracy=98.32: 100%|██████████| 469/469 [02:26<00:00,  3.19it/s]\n"
          ],
          "name": "stderr"
        },
        {
          "output_type": "stream",
          "text": [
            "\n",
            " Epoch 24, lr 0.01\n",
            "\n",
            "Test set: Average loss: 0.0201, Accuracy: 9929/10000 (99.29%)\n",
            "\n"
          ],
          "name": "stdout"
        }
      ]
    },
    {
      "cell_type": "markdown",
      "metadata": {
        "id": "IRKkFm9Ie-IM",
        "colab_type": "text"
      },
      "source": [
        "2. with L2 + BN\n"
      ]
    },
    {
      "cell_type": "code",
      "metadata": {
        "id": "5WyjgXUsfOGc",
        "colab_type": "code",
        "colab": {
          "base_uri": "https://localhost:8080/",
          "height": 1000
        },
        "outputId": "78f71531-df99-4e6b-d8ce-7e510ecc9441"
      },
      "source": [
        "# with L2 and BN\n",
        "initiate_training(model, device, train_loader, EPOCHS, False, None, True)\n",
        "\n",
        "total_losses.extend([test_losses])\n",
        "test_losses = []\n",
        "\n",
        "total_accuracies.extend([test_acc])\n",
        "test_acc = []"
      ],
      "execution_count": 25,
      "outputs": [
        {
          "output_type": "stream",
          "text": [
            "Loss=0.055639903992414474 Batch_id=468 Accuracy=98.41: 100%|██████████| 469/469 [02:25<00:00,  3.22it/s]\n"
          ],
          "name": "stderr"
        },
        {
          "output_type": "stream",
          "text": [
            "\n",
            " Epoch 0, lr 0.01\n"
          ],
          "name": "stdout"
        },
        {
          "output_type": "stream",
          "text": [
            "\r  0%|          | 0/469 [00:00<?, ?it/s]"
          ],
          "name": "stderr"
        },
        {
          "output_type": "stream",
          "text": [
            "\n",
            "Test set: Average loss: 0.0251, Accuracy: 9917/10000 (99.17%)\n",
            "\n"
          ],
          "name": "stdout"
        },
        {
          "output_type": "stream",
          "text": [
            "Loss=0.0171810369938612 Batch_id=468 Accuracy=98.36: 100%|██████████| 469/469 [02:25<00:00,  3.23it/s]\n"
          ],
          "name": "stderr"
        },
        {
          "output_type": "stream",
          "text": [
            "\n",
            " Epoch 1, lr 0.01\n"
          ],
          "name": "stdout"
        },
        {
          "output_type": "stream",
          "text": [
            "\r  0%|          | 0/469 [00:00<?, ?it/s]"
          ],
          "name": "stderr"
        },
        {
          "output_type": "stream",
          "text": [
            "\n",
            "Test set: Average loss: 0.0204, Accuracy: 9930/10000 (99.30%)\n",
            "\n"
          ],
          "name": "stdout"
        },
        {
          "output_type": "stream",
          "text": [
            "Loss=0.025036608800292015 Batch_id=468 Accuracy=98.45: 100%|██████████| 469/469 [02:26<00:00,  3.20it/s]\n"
          ],
          "name": "stderr"
        },
        {
          "output_type": "stream",
          "text": [
            "\n",
            " Epoch 2, lr 0.01\n"
          ],
          "name": "stdout"
        },
        {
          "output_type": "stream",
          "text": [
            "\r  0%|          | 0/469 [00:00<?, ?it/s]"
          ],
          "name": "stderr"
        },
        {
          "output_type": "stream",
          "text": [
            "\n",
            "Test set: Average loss: 0.0222, Accuracy: 9927/10000 (99.27%)\n",
            "\n"
          ],
          "name": "stdout"
        },
        {
          "output_type": "stream",
          "text": [
            "Loss=0.030438123270869255 Batch_id=468 Accuracy=98.39: 100%|██████████| 469/469 [02:28<00:00,  3.16it/s]\n"
          ],
          "name": "stderr"
        },
        {
          "output_type": "stream",
          "text": [
            "\n",
            " Epoch 3, lr 0.01\n"
          ],
          "name": "stdout"
        },
        {
          "output_type": "stream",
          "text": [
            "\r  0%|          | 0/469 [00:00<?, ?it/s]"
          ],
          "name": "stderr"
        },
        {
          "output_type": "stream",
          "text": [
            "\n",
            "Test set: Average loss: 0.0227, Accuracy: 9934/10000 (99.34%)\n",
            "\n"
          ],
          "name": "stdout"
        },
        {
          "output_type": "stream",
          "text": [
            "Loss=0.01743868738412857 Batch_id=468 Accuracy=98.41: 100%|██████████| 469/469 [02:27<00:00,  3.19it/s]\n"
          ],
          "name": "stderr"
        },
        {
          "output_type": "stream",
          "text": [
            "\n",
            " Epoch 4, lr 0.01\n"
          ],
          "name": "stdout"
        },
        {
          "output_type": "stream",
          "text": [
            "\r  0%|          | 0/469 [00:00<?, ?it/s]"
          ],
          "name": "stderr"
        },
        {
          "output_type": "stream",
          "text": [
            "\n",
            "Test set: Average loss: 0.0221, Accuracy: 9929/10000 (99.29%)\n",
            "\n"
          ],
          "name": "stdout"
        },
        {
          "output_type": "stream",
          "text": [
            "Loss=0.0661054328083992 Batch_id=468 Accuracy=98.38: 100%|██████████| 469/469 [02:26<00:00,  3.21it/s]\n"
          ],
          "name": "stderr"
        },
        {
          "output_type": "stream",
          "text": [
            "\n",
            " Epoch 5, lr 0.01\n"
          ],
          "name": "stdout"
        },
        {
          "output_type": "stream",
          "text": [
            "\r  0%|          | 0/469 [00:00<?, ?it/s]"
          ],
          "name": "stderr"
        },
        {
          "output_type": "stream",
          "text": [
            "\n",
            "Test set: Average loss: 0.0193, Accuracy: 9934/10000 (99.34%)\n",
            "\n"
          ],
          "name": "stdout"
        },
        {
          "output_type": "stream",
          "text": [
            "Loss=0.06798385083675385 Batch_id=468 Accuracy=98.41: 100%|██████████| 469/469 [02:26<00:00,  3.21it/s]\n"
          ],
          "name": "stderr"
        },
        {
          "output_type": "stream",
          "text": [
            "\n",
            " Epoch 6, lr 0.01\n"
          ],
          "name": "stdout"
        },
        {
          "output_type": "stream",
          "text": [
            "\r  0%|          | 0/469 [00:00<?, ?it/s]"
          ],
          "name": "stderr"
        },
        {
          "output_type": "stream",
          "text": [
            "\n",
            "Test set: Average loss: 0.0209, Accuracy: 9930/10000 (99.30%)\n",
            "\n"
          ],
          "name": "stdout"
        },
        {
          "output_type": "stream",
          "text": [
            "Loss=0.05949684977531433 Batch_id=468 Accuracy=98.51: 100%|██████████| 469/469 [02:28<00:00,  3.16it/s]\n"
          ],
          "name": "stderr"
        },
        {
          "output_type": "stream",
          "text": [
            "\n",
            " Epoch 7, lr 0.01\n"
          ],
          "name": "stdout"
        },
        {
          "output_type": "stream",
          "text": [
            "\r  0%|          | 0/469 [00:00<?, ?it/s]"
          ],
          "name": "stderr"
        },
        {
          "output_type": "stream",
          "text": [
            "\n",
            "Test set: Average loss: 0.0201, Accuracy: 9931/10000 (99.31%)\n",
            "\n"
          ],
          "name": "stdout"
        },
        {
          "output_type": "stream",
          "text": [
            "Loss=0.022733865305781364 Batch_id=468 Accuracy=98.41: 100%|██████████| 469/469 [02:25<00:00,  3.22it/s]\n"
          ],
          "name": "stderr"
        },
        {
          "output_type": "stream",
          "text": [
            "\n",
            " Epoch 8, lr 0.01\n"
          ],
          "name": "stdout"
        },
        {
          "output_type": "stream",
          "text": [
            "\r  0%|          | 0/469 [00:00<?, ?it/s]"
          ],
          "name": "stderr"
        },
        {
          "output_type": "stream",
          "text": [
            "\n",
            "Test set: Average loss: 0.0226, Accuracy: 9929/10000 (99.29%)\n",
            "\n"
          ],
          "name": "stdout"
        },
        {
          "output_type": "stream",
          "text": [
            "Loss=0.029572447761893272 Batch_id=468 Accuracy=98.46: 100%|██████████| 469/469 [02:25<00:00,  3.23it/s]\n"
          ],
          "name": "stderr"
        },
        {
          "output_type": "stream",
          "text": [
            "\n",
            " Epoch 9, lr 0.01\n"
          ],
          "name": "stdout"
        },
        {
          "output_type": "stream",
          "text": [
            "\r  0%|          | 0/469 [00:00<?, ?it/s]"
          ],
          "name": "stderr"
        },
        {
          "output_type": "stream",
          "text": [
            "\n",
            "Test set: Average loss: 0.0190, Accuracy: 9935/10000 (99.35%)\n",
            "\n"
          ],
          "name": "stdout"
        },
        {
          "output_type": "stream",
          "text": [
            "Loss=0.061909403651952744 Batch_id=468 Accuracy=98.40: 100%|██████████| 469/469 [02:25<00:00,  3.22it/s]\n"
          ],
          "name": "stderr"
        },
        {
          "output_type": "stream",
          "text": [
            "\n",
            " Epoch 10, lr 0.01\n"
          ],
          "name": "stdout"
        },
        {
          "output_type": "stream",
          "text": [
            "\r  0%|          | 0/469 [00:00<?, ?it/s]"
          ],
          "name": "stderr"
        },
        {
          "output_type": "stream",
          "text": [
            "\n",
            "Test set: Average loss: 0.0212, Accuracy: 9931/10000 (99.31%)\n",
            "\n"
          ],
          "name": "stdout"
        },
        {
          "output_type": "stream",
          "text": [
            "Loss=0.013325507752597332 Batch_id=468 Accuracy=98.40: 100%|██████████| 469/469 [02:27<00:00,  3.18it/s]\n"
          ],
          "name": "stderr"
        },
        {
          "output_type": "stream",
          "text": [
            "\n",
            " Epoch 11, lr 0.01\n"
          ],
          "name": "stdout"
        },
        {
          "output_type": "stream",
          "text": [
            "\r  0%|          | 0/469 [00:00<?, ?it/s]"
          ],
          "name": "stderr"
        },
        {
          "output_type": "stream",
          "text": [
            "\n",
            "Test set: Average loss: 0.0204, Accuracy: 9931/10000 (99.31%)\n",
            "\n"
          ],
          "name": "stdout"
        },
        {
          "output_type": "stream",
          "text": [
            "Loss=0.038324300199747086 Batch_id=468 Accuracy=98.42: 100%|██████████| 469/469 [02:27<00:00,  3.19it/s]\n"
          ],
          "name": "stderr"
        },
        {
          "output_type": "stream",
          "text": [
            "\n",
            " Epoch 12, lr 0.01\n"
          ],
          "name": "stdout"
        },
        {
          "output_type": "stream",
          "text": [
            "\r  0%|          | 0/469 [00:00<?, ?it/s]"
          ],
          "name": "stderr"
        },
        {
          "output_type": "stream",
          "text": [
            "\n",
            "Test set: Average loss: 0.0184, Accuracy: 9941/10000 (99.41%)\n",
            "\n"
          ],
          "name": "stdout"
        },
        {
          "output_type": "stream",
          "text": [
            "Loss=0.049048956483602524 Batch_id=468 Accuracy=98.57: 100%|██████████| 469/469 [02:26<00:00,  3.20it/s]\n"
          ],
          "name": "stderr"
        },
        {
          "output_type": "stream",
          "text": [
            "\n",
            " Epoch 13, lr 0.01\n"
          ],
          "name": "stdout"
        },
        {
          "output_type": "stream",
          "text": [
            "\r  0%|          | 0/469 [00:00<?, ?it/s]"
          ],
          "name": "stderr"
        },
        {
          "output_type": "stream",
          "text": [
            "\n",
            "Test set: Average loss: 0.0203, Accuracy: 9927/10000 (99.27%)\n",
            "\n"
          ],
          "name": "stdout"
        },
        {
          "output_type": "stream",
          "text": [
            "Loss=0.17053572833538055 Batch_id=468 Accuracy=98.43: 100%|██████████| 469/469 [02:27<00:00,  3.19it/s]\n"
          ],
          "name": "stderr"
        },
        {
          "output_type": "stream",
          "text": [
            "\n",
            " Epoch 14, lr 0.01\n"
          ],
          "name": "stdout"
        },
        {
          "output_type": "stream",
          "text": [
            "\r  0%|          | 0/469 [00:00<?, ?it/s]"
          ],
          "name": "stderr"
        },
        {
          "output_type": "stream",
          "text": [
            "\n",
            "Test set: Average loss: 0.0211, Accuracy: 9933/10000 (99.33%)\n",
            "\n"
          ],
          "name": "stdout"
        },
        {
          "output_type": "stream",
          "text": [
            "Loss=0.0904553011059761 Batch_id=468 Accuracy=98.51: 100%|██████████| 469/469 [02:29<00:00,  3.13it/s]\n"
          ],
          "name": "stderr"
        },
        {
          "output_type": "stream",
          "text": [
            "\n",
            " Epoch 15, lr 0.01\n"
          ],
          "name": "stdout"
        },
        {
          "output_type": "stream",
          "text": [
            "\r  0%|          | 0/469 [00:00<?, ?it/s]"
          ],
          "name": "stderr"
        },
        {
          "output_type": "stream",
          "text": [
            "\n",
            "Test set: Average loss: 0.0174, Accuracy: 9947/10000 (99.47%)\n",
            "\n"
          ],
          "name": "stdout"
        },
        {
          "output_type": "stream",
          "text": [
            "Loss=0.030186934396624565 Batch_id=468 Accuracy=98.61: 100%|██████████| 469/469 [02:28<00:00,  3.16it/s]\n"
          ],
          "name": "stderr"
        },
        {
          "output_type": "stream",
          "text": [
            "\n",
            " Epoch 16, lr 0.01\n"
          ],
          "name": "stdout"
        },
        {
          "output_type": "stream",
          "text": [
            "\r  0%|          | 0/469 [00:00<?, ?it/s]"
          ],
          "name": "stderr"
        },
        {
          "output_type": "stream",
          "text": [
            "\n",
            "Test set: Average loss: 0.0212, Accuracy: 9929/10000 (99.29%)\n",
            "\n"
          ],
          "name": "stdout"
        },
        {
          "output_type": "stream",
          "text": [
            "Loss=0.018321799114346504 Batch_id=468 Accuracy=98.52: 100%|██████████| 469/469 [02:29<00:00,  3.14it/s]\n"
          ],
          "name": "stderr"
        },
        {
          "output_type": "stream",
          "text": [
            "\n",
            " Epoch 17, lr 0.01\n"
          ],
          "name": "stdout"
        },
        {
          "output_type": "stream",
          "text": [
            "\r  0%|          | 0/469 [00:00<?, ?it/s]"
          ],
          "name": "stderr"
        },
        {
          "output_type": "stream",
          "text": [
            "\n",
            "Test set: Average loss: 0.0221, Accuracy: 9929/10000 (99.29%)\n",
            "\n"
          ],
          "name": "stdout"
        },
        {
          "output_type": "stream",
          "text": [
            "Loss=0.10948453098535538 Batch_id=468 Accuracy=98.53: 100%|██████████| 469/469 [02:31<00:00,  3.09it/s]\n"
          ],
          "name": "stderr"
        },
        {
          "output_type": "stream",
          "text": [
            "\n",
            " Epoch 18, lr 0.01\n"
          ],
          "name": "stdout"
        },
        {
          "output_type": "stream",
          "text": [
            "\r  0%|          | 0/469 [00:00<?, ?it/s]"
          ],
          "name": "stderr"
        },
        {
          "output_type": "stream",
          "text": [
            "\n",
            "Test set: Average loss: 0.0192, Accuracy: 9940/10000 (99.40%)\n",
            "\n"
          ],
          "name": "stdout"
        },
        {
          "output_type": "stream",
          "text": [
            "Loss=0.020479390397667885 Batch_id=468 Accuracy=98.53: 100%|██████████| 469/469 [02:50<00:00,  2.75it/s]\n"
          ],
          "name": "stderr"
        },
        {
          "output_type": "stream",
          "text": [
            "\n",
            " Epoch 19, lr 0.01\n"
          ],
          "name": "stdout"
        },
        {
          "output_type": "stream",
          "text": [
            "\r  0%|          | 0/469 [00:00<?, ?it/s]"
          ],
          "name": "stderr"
        },
        {
          "output_type": "stream",
          "text": [
            "\n",
            "Test set: Average loss: 0.0187, Accuracy: 9937/10000 (99.37%)\n",
            "\n"
          ],
          "name": "stdout"
        },
        {
          "output_type": "stream",
          "text": [
            "Loss=0.055654410272836685 Batch_id=468 Accuracy=98.64: 100%|██████████| 469/469 [02:36<00:00,  3.00it/s]\n"
          ],
          "name": "stderr"
        },
        {
          "output_type": "stream",
          "text": [
            "\n",
            " Epoch 20, lr 0.01\n"
          ],
          "name": "stdout"
        },
        {
          "output_type": "stream",
          "text": [
            "\r  0%|          | 0/469 [00:00<?, ?it/s]"
          ],
          "name": "stderr"
        },
        {
          "output_type": "stream",
          "text": [
            "\n",
            "Test set: Average loss: 0.0192, Accuracy: 9938/10000 (99.38%)\n",
            "\n"
          ],
          "name": "stdout"
        },
        {
          "output_type": "stream",
          "text": [
            "Loss=0.04296468198299408 Batch_id=468 Accuracy=98.62: 100%|██████████| 469/469 [02:30<00:00,  3.12it/s]\n"
          ],
          "name": "stderr"
        },
        {
          "output_type": "stream",
          "text": [
            "\n",
            " Epoch 21, lr 0.01\n"
          ],
          "name": "stdout"
        },
        {
          "output_type": "stream",
          "text": [
            "\r  0%|          | 0/469 [00:00<?, ?it/s]"
          ],
          "name": "stderr"
        },
        {
          "output_type": "stream",
          "text": [
            "\n",
            "Test set: Average loss: 0.0180, Accuracy: 9940/10000 (99.40%)\n",
            "\n"
          ],
          "name": "stdout"
        },
        {
          "output_type": "stream",
          "text": [
            "Loss=0.025548050180077553 Batch_id=468 Accuracy=98.61: 100%|██████████| 469/469 [02:29<00:00,  3.13it/s]\n"
          ],
          "name": "stderr"
        },
        {
          "output_type": "stream",
          "text": [
            "\n",
            " Epoch 22, lr 0.01\n"
          ],
          "name": "stdout"
        },
        {
          "output_type": "stream",
          "text": [
            "\r  0%|          | 0/469 [00:00<?, ?it/s]"
          ],
          "name": "stderr"
        },
        {
          "output_type": "stream",
          "text": [
            "\n",
            "Test set: Average loss: 0.0216, Accuracy: 9927/10000 (99.27%)\n",
            "\n"
          ],
          "name": "stdout"
        },
        {
          "output_type": "stream",
          "text": [
            "Loss=0.014163522981107235 Batch_id=468 Accuracy=98.58: 100%|██████████| 469/469 [02:31<00:00,  3.10it/s]\n"
          ],
          "name": "stderr"
        },
        {
          "output_type": "stream",
          "text": [
            "\n",
            " Epoch 23, lr 0.01\n"
          ],
          "name": "stdout"
        },
        {
          "output_type": "stream",
          "text": [
            "\r  0%|          | 0/469 [00:00<?, ?it/s]"
          ],
          "name": "stderr"
        },
        {
          "output_type": "stream",
          "text": [
            "\n",
            "Test set: Average loss: 0.0196, Accuracy: 9936/10000 (99.36%)\n",
            "\n"
          ],
          "name": "stdout"
        },
        {
          "output_type": "stream",
          "text": [
            "Loss=0.02446986921131611 Batch_id=468 Accuracy=98.61: 100%|██████████| 469/469 [02:28<00:00,  3.17it/s]\n"
          ],
          "name": "stderr"
        },
        {
          "output_type": "stream",
          "text": [
            "\n",
            " Epoch 24, lr 0.01\n",
            "\n",
            "Test set: Average loss: 0.0196, Accuracy: 9931/10000 (99.31%)\n",
            "\n"
          ],
          "name": "stdout"
        }
      ]
    },
    {
      "cell_type": "markdown",
      "metadata": {
        "id": "1NtUmV5QfDHk",
        "colab_type": "text"
      },
      "source": [
        "3. with L1 and L2 with BN\n"
      ]
    },
    {
      "cell_type": "code",
      "metadata": {
        "id": "CUh9bKuSf1sj",
        "colab_type": "code",
        "colab": {
          "base_uri": "https://localhost:8080/",
          "height": 1000
        },
        "outputId": "484b86b1-69f8-4634-e713-532f971c17a1"
      },
      "source": [
        "# with L1, L2 and BN\n",
        "initiate_training(model, device, train_loader, EPOCHS, True, 1e-5, True)\n",
        "\n",
        "total_losses.extend([test_losses])\n",
        "test_losses = []\n",
        "\n",
        "total_accuracies.extend([test_acc])\n",
        "test_acc = []"
      ],
      "execution_count": 26,
      "outputs": [
        {
          "output_type": "stream",
          "text": [
            "Loss=0.08596345037221909 Batch_id=468 Accuracy=98.61: 100%|██████████| 469/469 [02:29<00:00,  3.14it/s]\n"
          ],
          "name": "stderr"
        },
        {
          "output_type": "stream",
          "text": [
            "\n",
            " Epoch 0, lr 0.01\n"
          ],
          "name": "stdout"
        },
        {
          "output_type": "stream",
          "text": [
            "\r  0%|          | 0/469 [00:00<?, ?it/s]"
          ],
          "name": "stderr"
        },
        {
          "output_type": "stream",
          "text": [
            "\n",
            "Test set: Average loss: 0.0178, Accuracy: 9942/10000 (99.42%)\n",
            "\n"
          ],
          "name": "stdout"
        },
        {
          "output_type": "stream",
          "text": [
            "Loss=0.0515928715467453 Batch_id=468 Accuracy=98.64: 100%|██████████| 469/469 [02:28<00:00,  3.17it/s]\n"
          ],
          "name": "stderr"
        },
        {
          "output_type": "stream",
          "text": [
            "\n",
            " Epoch 1, lr 0.01\n"
          ],
          "name": "stdout"
        },
        {
          "output_type": "stream",
          "text": [
            "\r  0%|          | 0/469 [00:00<?, ?it/s]"
          ],
          "name": "stderr"
        },
        {
          "output_type": "stream",
          "text": [
            "\n",
            "Test set: Average loss: 0.0220, Accuracy: 9936/10000 (99.36%)\n",
            "\n"
          ],
          "name": "stdout"
        },
        {
          "output_type": "stream",
          "text": [
            "Loss=0.04574887454509735 Batch_id=468 Accuracy=98.65: 100%|██████████| 469/469 [02:29<00:00,  3.13it/s]\n"
          ],
          "name": "stderr"
        },
        {
          "output_type": "stream",
          "text": [
            "\n",
            " Epoch 2, lr 0.01\n"
          ],
          "name": "stdout"
        },
        {
          "output_type": "stream",
          "text": [
            "\r  0%|          | 0/469 [00:00<?, ?it/s]"
          ],
          "name": "stderr"
        },
        {
          "output_type": "stream",
          "text": [
            "\n",
            "Test set: Average loss: 0.0203, Accuracy: 9937/10000 (99.37%)\n",
            "\n"
          ],
          "name": "stdout"
        },
        {
          "output_type": "stream",
          "text": [
            "Loss=0.11084309220314026 Batch_id=468 Accuracy=98.64: 100%|██████████| 469/469 [02:27<00:00,  3.17it/s]\n"
          ],
          "name": "stderr"
        },
        {
          "output_type": "stream",
          "text": [
            "\n",
            " Epoch 3, lr 0.01\n"
          ],
          "name": "stdout"
        },
        {
          "output_type": "stream",
          "text": [
            "\r  0%|          | 0/469 [00:00<?, ?it/s]"
          ],
          "name": "stderr"
        },
        {
          "output_type": "stream",
          "text": [
            "\n",
            "Test set: Average loss: 0.0179, Accuracy: 9937/10000 (99.37%)\n",
            "\n"
          ],
          "name": "stdout"
        },
        {
          "output_type": "stream",
          "text": [
            "Loss=0.09272671490907669 Batch_id=468 Accuracy=98.59: 100%|██████████| 469/469 [02:27<00:00,  3.18it/s]\n"
          ],
          "name": "stderr"
        },
        {
          "output_type": "stream",
          "text": [
            "\n",
            " Epoch 4, lr 0.001\n"
          ],
          "name": "stdout"
        },
        {
          "output_type": "stream",
          "text": [
            "\r  0%|          | 0/469 [00:00<?, ?it/s]"
          ],
          "name": "stderr"
        },
        {
          "output_type": "stream",
          "text": [
            "\n",
            "Test set: Average loss: 0.0191, Accuracy: 9943/10000 (99.43%)\n",
            "\n"
          ],
          "name": "stdout"
        },
        {
          "output_type": "stream",
          "text": [
            "Loss=0.04923921823501587 Batch_id=468 Accuracy=98.77: 100%|██████████| 469/469 [02:27<00:00,  3.19it/s]\n"
          ],
          "name": "stderr"
        },
        {
          "output_type": "stream",
          "text": [
            "\n",
            " Epoch 5, lr 0.001\n"
          ],
          "name": "stdout"
        },
        {
          "output_type": "stream",
          "text": [
            "\r  0%|          | 0/469 [00:00<?, ?it/s]"
          ],
          "name": "stderr"
        },
        {
          "output_type": "stream",
          "text": [
            "\n",
            "Test set: Average loss: 0.0170, Accuracy: 9946/10000 (99.46%)\n",
            "\n"
          ],
          "name": "stdout"
        },
        {
          "output_type": "stream",
          "text": [
            "Loss=0.04496332257986069 Batch_id=468 Accuracy=98.84: 100%|██████████| 469/469 [02:30<00:00,  3.11it/s]\n"
          ],
          "name": "stderr"
        },
        {
          "output_type": "stream",
          "text": [
            "\n",
            " Epoch 6, lr 0.001\n"
          ],
          "name": "stdout"
        },
        {
          "output_type": "stream",
          "text": [
            "\r  0%|          | 0/469 [00:00<?, ?it/s]"
          ],
          "name": "stderr"
        },
        {
          "output_type": "stream",
          "text": [
            "\n",
            "Test set: Average loss: 0.0165, Accuracy: 9946/10000 (99.46%)\n",
            "\n"
          ],
          "name": "stdout"
        },
        {
          "output_type": "stream",
          "text": [
            "Loss=0.04247492551803589 Batch_id=468 Accuracy=98.84: 100%|██████████| 469/469 [02:27<00:00,  3.17it/s]\n"
          ],
          "name": "stderr"
        },
        {
          "output_type": "stream",
          "text": [
            "\n",
            " Epoch 7, lr 0.001\n"
          ],
          "name": "stdout"
        },
        {
          "output_type": "stream",
          "text": [
            "\r  0%|          | 0/469 [00:00<?, ?it/s]"
          ],
          "name": "stderr"
        },
        {
          "output_type": "stream",
          "text": [
            "\n",
            "Test set: Average loss: 0.0163, Accuracy: 9951/10000 (99.51%)\n",
            "\n"
          ],
          "name": "stdout"
        },
        {
          "output_type": "stream",
          "text": [
            "Loss=0.026370972394943237 Batch_id=468 Accuracy=98.85: 100%|██████████| 469/469 [02:27<00:00,  3.17it/s]\n"
          ],
          "name": "stderr"
        },
        {
          "output_type": "stream",
          "text": [
            "\n",
            " Epoch 8, lr 0.001\n"
          ],
          "name": "stdout"
        },
        {
          "output_type": "stream",
          "text": [
            "\r  0%|          | 0/469 [00:00<?, ?it/s]"
          ],
          "name": "stderr"
        },
        {
          "output_type": "stream",
          "text": [
            "\n",
            "Test set: Average loss: 0.0163, Accuracy: 9946/10000 (99.46%)\n",
            "\n"
          ],
          "name": "stdout"
        },
        {
          "output_type": "stream",
          "text": [
            "Loss=0.03927762061357498 Batch_id=468 Accuracy=98.86: 100%|██████████| 469/469 [02:27<00:00,  3.17it/s]\n"
          ],
          "name": "stderr"
        },
        {
          "output_type": "stream",
          "text": [
            "\n",
            " Epoch 9, lr 0.0001\n"
          ],
          "name": "stdout"
        },
        {
          "output_type": "stream",
          "text": [
            "\r  0%|          | 0/469 [00:00<?, ?it/s]"
          ],
          "name": "stderr"
        },
        {
          "output_type": "stream",
          "text": [
            "\n",
            "Test set: Average loss: 0.0167, Accuracy: 9947/10000 (99.47%)\n",
            "\n"
          ],
          "name": "stdout"
        },
        {
          "output_type": "stream",
          "text": [
            "Loss=0.10477827489376068 Batch_id=468 Accuracy=98.85: 100%|██████████| 469/469 [02:30<00:00,  3.12it/s]\n"
          ],
          "name": "stderr"
        },
        {
          "output_type": "stream",
          "text": [
            "\n",
            " Epoch 10, lr 0.0001\n"
          ],
          "name": "stdout"
        },
        {
          "output_type": "stream",
          "text": [
            "\r  0%|          | 0/469 [00:00<?, ?it/s]"
          ],
          "name": "stderr"
        },
        {
          "output_type": "stream",
          "text": [
            "\n",
            "Test set: Average loss: 0.0164, Accuracy: 9946/10000 (99.46%)\n",
            "\n"
          ],
          "name": "stdout"
        },
        {
          "output_type": "stream",
          "text": [
            "Loss=0.038820914924144745 Batch_id=468 Accuracy=98.79: 100%|██████████| 469/469 [02:27<00:00,  3.18it/s]\n"
          ],
          "name": "stderr"
        },
        {
          "output_type": "stream",
          "text": [
            "\n",
            " Epoch 11, lr 0.0001\n"
          ],
          "name": "stdout"
        },
        {
          "output_type": "stream",
          "text": [
            "\r  0%|          | 0/469 [00:00<?, ?it/s]"
          ],
          "name": "stderr"
        },
        {
          "output_type": "stream",
          "text": [
            "\n",
            "Test set: Average loss: 0.0165, Accuracy: 9946/10000 (99.46%)\n",
            "\n"
          ],
          "name": "stdout"
        },
        {
          "output_type": "stream",
          "text": [
            "Loss=0.0990365594625473 Batch_id=468 Accuracy=98.92: 100%|██████████| 469/469 [02:28<00:00,  3.17it/s]\n"
          ],
          "name": "stderr"
        },
        {
          "output_type": "stream",
          "text": [
            "\n",
            " Epoch 12, lr 0.0001\n"
          ],
          "name": "stdout"
        },
        {
          "output_type": "stream",
          "text": [
            "\r  0%|          | 0/469 [00:00<?, ?it/s]"
          ],
          "name": "stderr"
        },
        {
          "output_type": "stream",
          "text": [
            "\n",
            "Test set: Average loss: 0.0162, Accuracy: 9945/10000 (99.45%)\n",
            "\n"
          ],
          "name": "stdout"
        },
        {
          "output_type": "stream",
          "text": [
            "Loss=0.019604578614234924 Batch_id=468 Accuracy=98.86: 100%|██████████| 469/469 [02:29<00:00,  3.14it/s]\n"
          ],
          "name": "stderr"
        },
        {
          "output_type": "stream",
          "text": [
            "\n",
            " Epoch 13, lr 0.0001\n"
          ],
          "name": "stdout"
        },
        {
          "output_type": "stream",
          "text": [
            "\r  0%|          | 0/469 [00:00<?, ?it/s]"
          ],
          "name": "stderr"
        },
        {
          "output_type": "stream",
          "text": [
            "\n",
            "Test set: Average loss: 0.0168, Accuracy: 9944/10000 (99.44%)\n",
            "\n"
          ],
          "name": "stdout"
        },
        {
          "output_type": "stream",
          "text": [
            "Loss=0.018357641994953156 Batch_id=468 Accuracy=98.83: 100%|██████████| 469/469 [02:28<00:00,  3.15it/s]\n"
          ],
          "name": "stderr"
        },
        {
          "output_type": "stream",
          "text": [
            "\n",
            " Epoch 14, lr 1e-05\n"
          ],
          "name": "stdout"
        },
        {
          "output_type": "stream",
          "text": [
            "\r  0%|          | 0/469 [00:00<?, ?it/s]"
          ],
          "name": "stderr"
        },
        {
          "output_type": "stream",
          "text": [
            "\n",
            "Test set: Average loss: 0.0162, Accuracy: 9944/10000 (99.44%)\n",
            "\n"
          ],
          "name": "stdout"
        },
        {
          "output_type": "stream",
          "text": [
            "Loss=0.0664711594581604 Batch_id=468 Accuracy=98.84: 100%|██████████| 469/469 [02:28<00:00,  3.17it/s]\n"
          ],
          "name": "stderr"
        },
        {
          "output_type": "stream",
          "text": [
            "\n",
            " Epoch 15, lr 1e-05\n"
          ],
          "name": "stdout"
        },
        {
          "output_type": "stream",
          "text": [
            "\r  0%|          | 0/469 [00:00<?, ?it/s]"
          ],
          "name": "stderr"
        },
        {
          "output_type": "stream",
          "text": [
            "\n",
            "Test set: Average loss: 0.0161, Accuracy: 9944/10000 (99.44%)\n",
            "\n"
          ],
          "name": "stdout"
        },
        {
          "output_type": "stream",
          "text": [
            "Loss=0.060257215052843094 Batch_id=468 Accuracy=98.79: 100%|██████████| 469/469 [02:28<00:00,  3.17it/s]\n"
          ],
          "name": "stderr"
        },
        {
          "output_type": "stream",
          "text": [
            "\n",
            " Epoch 16, lr 1e-05\n"
          ],
          "name": "stdout"
        },
        {
          "output_type": "stream",
          "text": [
            "\r  0%|          | 0/469 [00:00<?, ?it/s]"
          ],
          "name": "stderr"
        },
        {
          "output_type": "stream",
          "text": [
            "\n",
            "Test set: Average loss: 0.0169, Accuracy: 9943/10000 (99.43%)\n",
            "\n"
          ],
          "name": "stdout"
        },
        {
          "output_type": "stream",
          "text": [
            "Loss=0.10205546766519547 Batch_id=468 Accuracy=98.81: 100%|██████████| 469/469 [02:32<00:00,  3.07it/s]\n"
          ],
          "name": "stderr"
        },
        {
          "output_type": "stream",
          "text": [
            "\n",
            " Epoch 17, lr 1e-05\n"
          ],
          "name": "stdout"
        },
        {
          "output_type": "stream",
          "text": [
            "\r  0%|          | 0/469 [00:00<?, ?it/s]"
          ],
          "name": "stderr"
        },
        {
          "output_type": "stream",
          "text": [
            "\n",
            "Test set: Average loss: 0.0163, Accuracy: 9944/10000 (99.44%)\n",
            "\n"
          ],
          "name": "stdout"
        },
        {
          "output_type": "stream",
          "text": [
            "Loss=0.018334034830331802 Batch_id=468 Accuracy=98.89: 100%|██████████| 469/469 [02:29<00:00,  3.14it/s]\n"
          ],
          "name": "stderr"
        },
        {
          "output_type": "stream",
          "text": [
            "\n",
            " Epoch 18, lr 1e-05\n"
          ],
          "name": "stdout"
        },
        {
          "output_type": "stream",
          "text": [
            "\r  0%|          | 0/469 [00:00<?, ?it/s]"
          ],
          "name": "stderr"
        },
        {
          "output_type": "stream",
          "text": [
            "\n",
            "Test set: Average loss: 0.0163, Accuracy: 9945/10000 (99.45%)\n",
            "\n"
          ],
          "name": "stdout"
        },
        {
          "output_type": "stream",
          "text": [
            "Loss=0.024528052657842636 Batch_id=468 Accuracy=98.86: 100%|██████████| 469/469 [02:29<00:00,  3.14it/s]\n"
          ],
          "name": "stderr"
        },
        {
          "output_type": "stream",
          "text": [
            "\n",
            " Epoch 19, lr 1.0000000000000002e-06\n"
          ],
          "name": "stdout"
        },
        {
          "output_type": "stream",
          "text": [
            "\r  0%|          | 0/469 [00:00<?, ?it/s]"
          ],
          "name": "stderr"
        },
        {
          "output_type": "stream",
          "text": [
            "\n",
            "Test set: Average loss: 0.0165, Accuracy: 9947/10000 (99.47%)\n",
            "\n"
          ],
          "name": "stdout"
        },
        {
          "output_type": "stream",
          "text": [
            "Loss=0.03430437296628952 Batch_id=468 Accuracy=98.89: 100%|██████████| 469/469 [02:29<00:00,  3.13it/s]\n"
          ],
          "name": "stderr"
        },
        {
          "output_type": "stream",
          "text": [
            "\n",
            " Epoch 20, lr 1.0000000000000002e-06\n"
          ],
          "name": "stdout"
        },
        {
          "output_type": "stream",
          "text": [
            "\r  0%|          | 0/469 [00:00<?, ?it/s]"
          ],
          "name": "stderr"
        },
        {
          "output_type": "stream",
          "text": [
            "\n",
            "Test set: Average loss: 0.0164, Accuracy: 9944/10000 (99.44%)\n",
            "\n"
          ],
          "name": "stdout"
        },
        {
          "output_type": "stream",
          "text": [
            "Loss=0.08804634213447571 Batch_id=468 Accuracy=98.85: 100%|██████████| 469/469 [02:34<00:00,  3.04it/s]\n"
          ],
          "name": "stderr"
        },
        {
          "output_type": "stream",
          "text": [
            "\n",
            " Epoch 21, lr 1.0000000000000002e-06\n"
          ],
          "name": "stdout"
        },
        {
          "output_type": "stream",
          "text": [
            "\r  0%|          | 0/469 [00:00<?, ?it/s]"
          ],
          "name": "stderr"
        },
        {
          "output_type": "stream",
          "text": [
            "\n",
            "Test set: Average loss: 0.0160, Accuracy: 9948/10000 (99.48%)\n",
            "\n"
          ],
          "name": "stdout"
        },
        {
          "output_type": "stream",
          "text": [
            "Loss=0.03663286566734314 Batch_id=468 Accuracy=98.88: 100%|██████████| 469/469 [02:28<00:00,  3.15it/s]\n"
          ],
          "name": "stderr"
        },
        {
          "output_type": "stream",
          "text": [
            "\n",
            " Epoch 22, lr 1.0000000000000002e-06\n"
          ],
          "name": "stdout"
        },
        {
          "output_type": "stream",
          "text": [
            "\r  0%|          | 0/469 [00:00<?, ?it/s]"
          ],
          "name": "stderr"
        },
        {
          "output_type": "stream",
          "text": [
            "\n",
            "Test set: Average loss: 0.0163, Accuracy: 9945/10000 (99.45%)\n",
            "\n"
          ],
          "name": "stdout"
        },
        {
          "output_type": "stream",
          "text": [
            "Loss=0.03036842681467533 Batch_id=468 Accuracy=98.91: 100%|██████████| 469/469 [02:27<00:00,  3.18it/s]\n"
          ],
          "name": "stderr"
        },
        {
          "output_type": "stream",
          "text": [
            "\n",
            " Epoch 23, lr 1.0000000000000002e-06\n"
          ],
          "name": "stdout"
        },
        {
          "output_type": "stream",
          "text": [
            "\r  0%|          | 0/469 [00:00<?, ?it/s]"
          ],
          "name": "stderr"
        },
        {
          "output_type": "stream",
          "text": [
            "\n",
            "Test set: Average loss: 0.0163, Accuracy: 9943/10000 (99.43%)\n",
            "\n"
          ],
          "name": "stdout"
        },
        {
          "output_type": "stream",
          "text": [
            "Loss=0.056530650705099106 Batch_id=468 Accuracy=98.87: 100%|██████████| 469/469 [02:28<00:00,  3.17it/s]\n"
          ],
          "name": "stderr"
        },
        {
          "output_type": "stream",
          "text": [
            "\n",
            " Epoch 24, lr 1.0000000000000002e-07\n",
            "\n",
            "Test set: Average loss: 0.0164, Accuracy: 9944/10000 (99.44%)\n",
            "\n"
          ],
          "name": "stdout"
        }
      ]
    },
    {
      "cell_type": "markdown",
      "metadata": {
        "id": "B4WXB_n6gS_z",
        "colab_type": "text"
      },
      "source": [
        "Create the model with Ghost BatchNormalization"
      ]
    },
    {
      "cell_type": "code",
      "metadata": {
        "id": "lRJNyPCkgFVN",
        "colab_type": "code",
        "colab": {
          "base_uri": "https://localhost:8080/",
          "height": 638
        },
        "outputId": "17c171ba-b4ed-405e-ed6f-3b5779fcdb24"
      },
      "source": [
        "model = create_model(device, gbn_en=True)\n",
        "model_name_gbn = \"EVA5:Submission-Session_6_Model-GhostBatchNormalization.pt\"\n",
        "save_path_gbn = F\"/content/gdrive/My Drive/Colab Notebooks/EVA5/{model_name_gbn}\"\n",
        "torch.save(model.state_dict(), save_path_gbn)\n",
        "print(\"Model Saved: {}\".format(model_name_gbn))"
      ],
      "execution_count": 27,
      "outputs": [
        {
          "output_type": "stream",
          "text": [
            "Create the instance of the Net class with GBN = True\n",
            "----------------------------------------------------------------\n",
            "        Layer (type)               Output Shape         Param #\n",
            "================================================================\n",
            "            Conv2d-1           [-1, 32, 28, 28]             320\n",
            "    GhostBatchNorm-2           [-1, 32, 28, 28]              64\n",
            "              ReLU-3           [-1, 32, 28, 28]               0\n",
            "            Conv2d-4           [-1, 16, 26, 26]           4,624\n",
            "    GhostBatchNorm-5           [-1, 16, 26, 26]              32\n",
            "              ReLU-6           [-1, 16, 26, 26]               0\n",
            "         MaxPool2d-7           [-1, 16, 13, 13]               0\n",
            "            Conv2d-8            [-1, 8, 13, 13]             136\n",
            "    GhostBatchNorm-9            [-1, 8, 13, 13]              16\n",
            "             ReLU-10            [-1, 8, 13, 13]               0\n",
            "          Dropout-11            [-1, 8, 13, 13]               0\n",
            "           Conv2d-12           [-1, 16, 11, 11]           1,168\n",
            "   GhostBatchNorm-13           [-1, 16, 11, 11]              32\n",
            "             ReLU-14           [-1, 16, 11, 11]               0\n",
            "           Conv2d-15             [-1, 14, 9, 9]           2,030\n",
            "   GhostBatchNorm-16             [-1, 14, 9, 9]              28\n",
            "             ReLU-17             [-1, 14, 9, 9]               0\n",
            "           Conv2d-18             [-1, 10, 7, 7]           1,270\n",
            "   GhostBatchNorm-19             [-1, 10, 7, 7]              20\n",
            "             ReLU-20             [-1, 10, 7, 7]               0\n",
            "           Conv2d-21             [-1, 10, 7, 7]             110\n",
            "        AvgPool2d-22             [-1, 10, 1, 1]               0\n",
            "================================================================\n",
            "Total params: 9,850\n",
            "Trainable params: 9,850\n",
            "Non-trainable params: 0\n",
            "----------------------------------------------------------------\n",
            "Input size (MB): 0.00\n",
            "Forward/backward pass size (MB): 0.97\n",
            "Params size (MB): 0.04\n",
            "Estimated Total Size (MB): 1.01\n",
            "----------------------------------------------------------------\n",
            "Model Saved: EVA5:Submission-Session_6_Model-GhostBatchNormalization.pt\n"
          ],
          "name": "stdout"
        }
      ]
    },
    {
      "cell_type": "markdown",
      "metadata": {
        "id": "6LpFmoRHfGTE",
        "colab_type": "text"
      },
      "source": [
        "4. with GBN"
      ]
    },
    {
      "cell_type": "code",
      "metadata": {
        "id": "FBL551u6g0Ad",
        "colab_type": "code",
        "colab": {
          "base_uri": "https://localhost:8080/",
          "height": 1000
        },
        "outputId": "2070f753-17a6-42a2-f036-ba62a3ddc834"
      },
      "source": [
        "train_loader, test_loader = initialize_train_test_loader(256)\n",
        "\n",
        "# with L1 and GBN\n",
        "initiate_training(model, device, train_loader, EPOCHS, False, 1e-5, False)\n",
        "\n",
        "total_losses.extend([test_losses])\n",
        "test_losses = []\n",
        "\n",
        "total_accuracies.extend([test_acc])\n",
        "test_acc = []"
      ],
      "execution_count": 28,
      "outputs": [
        {
          "output_type": "stream",
          "text": [
            "\r  0%|          | 0/235 [00:00<?, ?it/s]"
          ],
          "name": "stderr"
        },
        {
          "output_type": "stream",
          "text": [
            "\n",
            " Initialize train and test loader with Batch Size:256\n"
          ],
          "name": "stdout"
        },
        {
          "output_type": "stream",
          "text": [
            "Loss=1.0669801235198975 Batch_id=234 Accuracy=42.83: 100%|██████████| 235/235 [02:25<00:00,  1.62it/s]\n"
          ],
          "name": "stderr"
        },
        {
          "output_type": "stream",
          "text": [
            "\n",
            " Epoch 0, lr 0.01\n"
          ],
          "name": "stdout"
        },
        {
          "output_type": "stream",
          "text": [
            "\r  0%|          | 0/235 [00:00<?, ?it/s]"
          ],
          "name": "stderr"
        },
        {
          "output_type": "stream",
          "text": [
            "\n",
            "Test set: Average loss: 0.9414, Accuracy: 6982/10000 (69.82%)\n",
            "\n"
          ],
          "name": "stdout"
        },
        {
          "output_type": "stream",
          "text": [
            "Loss=0.35111546516418457 Batch_id=234 Accuracy=85.48: 100%|██████████| 235/235 [02:21<00:00,  1.66it/s]\n"
          ],
          "name": "stderr"
        },
        {
          "output_type": "stream",
          "text": [
            "\n",
            " Epoch 1, lr 0.01\n"
          ],
          "name": "stdout"
        },
        {
          "output_type": "stream",
          "text": [
            "\r  0%|          | 0/235 [00:00<?, ?it/s]"
          ],
          "name": "stderr"
        },
        {
          "output_type": "stream",
          "text": [
            "\n",
            "Test set: Average loss: 0.1816, Accuracy: 9647/10000 (96.47%)\n",
            "\n"
          ],
          "name": "stdout"
        },
        {
          "output_type": "stream",
          "text": [
            "Loss=0.28040623664855957 Batch_id=234 Accuracy=93.14: 100%|██████████| 235/235 [02:21<00:00,  1.66it/s]\n"
          ],
          "name": "stderr"
        },
        {
          "output_type": "stream",
          "text": [
            "\n",
            " Epoch 2, lr 0.01\n"
          ],
          "name": "stdout"
        },
        {
          "output_type": "stream",
          "text": [
            "\r  0%|          | 0/235 [00:00<?, ?it/s]"
          ],
          "name": "stderr"
        },
        {
          "output_type": "stream",
          "text": [
            "\n",
            "Test set: Average loss: 0.1068, Accuracy: 9761/10000 (97.61%)\n",
            "\n"
          ],
          "name": "stdout"
        },
        {
          "output_type": "stream",
          "text": [
            "Loss=0.12047819793224335 Batch_id=234 Accuracy=95.24: 100%|██████████| 235/235 [02:21<00:00,  1.66it/s]\n"
          ],
          "name": "stderr"
        },
        {
          "output_type": "stream",
          "text": [
            "\n",
            " Epoch 3, lr 0.01\n"
          ],
          "name": "stdout"
        },
        {
          "output_type": "stream",
          "text": [
            "\r  0%|          | 0/235 [00:00<?, ?it/s]"
          ],
          "name": "stderr"
        },
        {
          "output_type": "stream",
          "text": [
            "\n",
            "Test set: Average loss: 0.1177, Accuracy: 9668/10000 (96.68%)\n",
            "\n"
          ],
          "name": "stdout"
        },
        {
          "output_type": "stream",
          "text": [
            "Loss=0.21055252850055695 Batch_id=234 Accuracy=95.95: 100%|██████████| 235/235 [02:23<00:00,  1.64it/s]\n"
          ],
          "name": "stderr"
        },
        {
          "output_type": "stream",
          "text": [
            "\n",
            " Epoch 4, lr 0.01\n"
          ],
          "name": "stdout"
        },
        {
          "output_type": "stream",
          "text": [
            "\r  0%|          | 0/235 [00:00<?, ?it/s]"
          ],
          "name": "stderr"
        },
        {
          "output_type": "stream",
          "text": [
            "\n",
            "Test set: Average loss: 0.0641, Accuracy: 9837/10000 (98.37%)\n",
            "\n"
          ],
          "name": "stdout"
        },
        {
          "output_type": "stream",
          "text": [
            "Loss=0.16934631764888763 Batch_id=234 Accuracy=96.35: 100%|██████████| 235/235 [02:21<00:00,  1.66it/s]\n"
          ],
          "name": "stderr"
        },
        {
          "output_type": "stream",
          "text": [
            "\n",
            " Epoch 5, lr 0.01\n"
          ],
          "name": "stdout"
        },
        {
          "output_type": "stream",
          "text": [
            "\r  0%|          | 0/235 [00:00<?, ?it/s]"
          ],
          "name": "stderr"
        },
        {
          "output_type": "stream",
          "text": [
            "\n",
            "Test set: Average loss: 0.0569, Accuracy: 9836/10000 (98.36%)\n",
            "\n"
          ],
          "name": "stdout"
        },
        {
          "output_type": "stream",
          "text": [
            "Loss=0.17426234483718872 Batch_id=234 Accuracy=96.76: 100%|██████████| 235/235 [02:22<00:00,  1.65it/s]\n"
          ],
          "name": "stderr"
        },
        {
          "output_type": "stream",
          "text": [
            "\n",
            " Epoch 6, lr 0.01\n"
          ],
          "name": "stdout"
        },
        {
          "output_type": "stream",
          "text": [
            "\r  0%|          | 0/235 [00:00<?, ?it/s]"
          ],
          "name": "stderr"
        },
        {
          "output_type": "stream",
          "text": [
            "\n",
            "Test set: Average loss: 0.0487, Accuracy: 9854/10000 (98.54%)\n",
            "\n"
          ],
          "name": "stdout"
        },
        {
          "output_type": "stream",
          "text": [
            "Loss=0.13099269568920135 Batch_id=234 Accuracy=96.94: 100%|██████████| 235/235 [02:22<00:00,  1.65it/s]\n"
          ],
          "name": "stderr"
        },
        {
          "output_type": "stream",
          "text": [
            "\n",
            " Epoch 7, lr 0.01\n"
          ],
          "name": "stdout"
        },
        {
          "output_type": "stream",
          "text": [
            "\r  0%|          | 0/235 [00:00<?, ?it/s]"
          ],
          "name": "stderr"
        },
        {
          "output_type": "stream",
          "text": [
            "\n",
            "Test set: Average loss: 0.0410, Accuracy: 9882/10000 (98.82%)\n",
            "\n"
          ],
          "name": "stdout"
        },
        {
          "output_type": "stream",
          "text": [
            "Loss=0.07934097945690155 Batch_id=234 Accuracy=97.14: 100%|██████████| 235/235 [02:25<00:00,  1.62it/s]\n"
          ],
          "name": "stderr"
        },
        {
          "output_type": "stream",
          "text": [
            "\n",
            " Epoch 8, lr 0.01\n"
          ],
          "name": "stdout"
        },
        {
          "output_type": "stream",
          "text": [
            "\r  0%|          | 0/235 [00:00<?, ?it/s]"
          ],
          "name": "stderr"
        },
        {
          "output_type": "stream",
          "text": [
            "\n",
            "Test set: Average loss: 0.0404, Accuracy: 9879/10000 (98.79%)\n",
            "\n"
          ],
          "name": "stdout"
        },
        {
          "output_type": "stream",
          "text": [
            "Loss=0.0492698960006237 Batch_id=234 Accuracy=97.29: 100%|██████████| 235/235 [02:22<00:00,  1.65it/s]\n"
          ],
          "name": "stderr"
        },
        {
          "output_type": "stream",
          "text": [
            "\n",
            " Epoch 9, lr 0.01\n"
          ],
          "name": "stdout"
        },
        {
          "output_type": "stream",
          "text": [
            "\r  0%|          | 0/235 [00:00<?, ?it/s]"
          ],
          "name": "stderr"
        },
        {
          "output_type": "stream",
          "text": [
            "\n",
            "Test set: Average loss: 0.0378, Accuracy: 9889/10000 (98.89%)\n",
            "\n"
          ],
          "name": "stdout"
        },
        {
          "output_type": "stream",
          "text": [
            "Loss=0.12096796184778214 Batch_id=234 Accuracy=97.45: 100%|██████████| 235/235 [02:22<00:00,  1.65it/s]\n"
          ],
          "name": "stderr"
        },
        {
          "output_type": "stream",
          "text": [
            "\n",
            " Epoch 10, lr 0.01\n"
          ],
          "name": "stdout"
        },
        {
          "output_type": "stream",
          "text": [
            "\r  0%|          | 0/235 [00:00<?, ?it/s]"
          ],
          "name": "stderr"
        },
        {
          "output_type": "stream",
          "text": [
            "\n",
            "Test set: Average loss: 0.0352, Accuracy: 9893/10000 (98.93%)\n",
            "\n"
          ],
          "name": "stdout"
        },
        {
          "output_type": "stream",
          "text": [
            "Loss=0.06004364788532257 Batch_id=234 Accuracy=97.53: 100%|██████████| 235/235 [02:22<00:00,  1.65it/s]\n"
          ],
          "name": "stderr"
        },
        {
          "output_type": "stream",
          "text": [
            "\n",
            " Epoch 11, lr 0.01\n"
          ],
          "name": "stdout"
        },
        {
          "output_type": "stream",
          "text": [
            "\r  0%|          | 0/235 [00:00<?, ?it/s]"
          ],
          "name": "stderr"
        },
        {
          "output_type": "stream",
          "text": [
            "\n",
            "Test set: Average loss: 0.0426, Accuracy: 9868/10000 (98.68%)\n",
            "\n"
          ],
          "name": "stdout"
        },
        {
          "output_type": "stream",
          "text": [
            "Loss=0.09606479108333588 Batch_id=234 Accuracy=97.64: 100%|██████████| 235/235 [02:22<00:00,  1.65it/s]\n"
          ],
          "name": "stderr"
        },
        {
          "output_type": "stream",
          "text": [
            "\n",
            " Epoch 12, lr 0.01\n"
          ],
          "name": "stdout"
        },
        {
          "output_type": "stream",
          "text": [
            "\r  0%|          | 0/235 [00:00<?, ?it/s]"
          ],
          "name": "stderr"
        },
        {
          "output_type": "stream",
          "text": [
            "\n",
            "Test set: Average loss: 0.0342, Accuracy: 9902/10000 (99.02%)\n",
            "\n"
          ],
          "name": "stdout"
        },
        {
          "output_type": "stream",
          "text": [
            "Loss=0.11838331073522568 Batch_id=234 Accuracy=97.56: 100%|██████████| 235/235 [02:24<00:00,  1.62it/s]\n"
          ],
          "name": "stderr"
        },
        {
          "output_type": "stream",
          "text": [
            "\n",
            " Epoch 13, lr 0.01\n"
          ],
          "name": "stdout"
        },
        {
          "output_type": "stream",
          "text": [
            "\r  0%|          | 0/235 [00:00<?, ?it/s]"
          ],
          "name": "stderr"
        },
        {
          "output_type": "stream",
          "text": [
            "\n",
            "Test set: Average loss: 0.0348, Accuracy: 9901/10000 (99.01%)\n",
            "\n"
          ],
          "name": "stdout"
        },
        {
          "output_type": "stream",
          "text": [
            "Loss=0.0759323313832283 Batch_id=234 Accuracy=97.60: 100%|██████████| 235/235 [02:24<00:00,  1.63it/s]\n"
          ],
          "name": "stderr"
        },
        {
          "output_type": "stream",
          "text": [
            "\n",
            " Epoch 14, lr 0.01\n"
          ],
          "name": "stdout"
        },
        {
          "output_type": "stream",
          "text": [
            "\r  0%|          | 0/235 [00:00<?, ?it/s]"
          ],
          "name": "stderr"
        },
        {
          "output_type": "stream",
          "text": [
            "\n",
            "Test set: Average loss: 0.0305, Accuracy: 9898/10000 (98.98%)\n",
            "\n"
          ],
          "name": "stdout"
        },
        {
          "output_type": "stream",
          "text": [
            "Loss=0.03586895018815994 Batch_id=234 Accuracy=97.81: 100%|██████████| 235/235 [02:22<00:00,  1.65it/s]\n"
          ],
          "name": "stderr"
        },
        {
          "output_type": "stream",
          "text": [
            "\n",
            " Epoch 15, lr 0.01\n"
          ],
          "name": "stdout"
        },
        {
          "output_type": "stream",
          "text": [
            "\r  0%|          | 0/235 [00:00<?, ?it/s]"
          ],
          "name": "stderr"
        },
        {
          "output_type": "stream",
          "text": [
            "\n",
            "Test set: Average loss: 0.0291, Accuracy: 9913/10000 (99.13%)\n",
            "\n"
          ],
          "name": "stdout"
        },
        {
          "output_type": "stream",
          "text": [
            "Loss=0.09551358222961426 Batch_id=234 Accuracy=97.89: 100%|██████████| 235/235 [02:23<00:00,  1.64it/s]\n"
          ],
          "name": "stderr"
        },
        {
          "output_type": "stream",
          "text": [
            "\n",
            " Epoch 16, lr 0.01\n"
          ],
          "name": "stdout"
        },
        {
          "output_type": "stream",
          "text": [
            "\r  0%|          | 0/235 [00:00<?, ?it/s]"
          ],
          "name": "stderr"
        },
        {
          "output_type": "stream",
          "text": [
            "\n",
            "Test set: Average loss: 0.0275, Accuracy: 9913/10000 (99.13%)\n",
            "\n"
          ],
          "name": "stdout"
        },
        {
          "output_type": "stream",
          "text": [
            "Loss=0.09833601862192154 Batch_id=234 Accuracy=97.80: 100%|██████████| 235/235 [02:24<00:00,  1.63it/s]\n"
          ],
          "name": "stderr"
        },
        {
          "output_type": "stream",
          "text": [
            "\n",
            " Epoch 17, lr 0.01\n"
          ],
          "name": "stdout"
        },
        {
          "output_type": "stream",
          "text": [
            "\r  0%|          | 0/235 [00:00<?, ?it/s]"
          ],
          "name": "stderr"
        },
        {
          "output_type": "stream",
          "text": [
            "\n",
            "Test set: Average loss: 0.0291, Accuracy: 9910/10000 (99.10%)\n",
            "\n"
          ],
          "name": "stdout"
        },
        {
          "output_type": "stream",
          "text": [
            "Loss=0.09132172912359238 Batch_id=234 Accuracy=97.89: 100%|██████████| 235/235 [02:22<00:00,  1.65it/s]\n"
          ],
          "name": "stderr"
        },
        {
          "output_type": "stream",
          "text": [
            "\n",
            " Epoch 18, lr 0.01\n"
          ],
          "name": "stdout"
        },
        {
          "output_type": "stream",
          "text": [
            "\r  0%|          | 0/235 [00:00<?, ?it/s]"
          ],
          "name": "stderr"
        },
        {
          "output_type": "stream",
          "text": [
            "\n",
            "Test set: Average loss: 0.0286, Accuracy: 9915/10000 (99.15%)\n",
            "\n"
          ],
          "name": "stdout"
        },
        {
          "output_type": "stream",
          "text": [
            "Loss=0.06045548617839813 Batch_id=234 Accuracy=97.92: 100%|██████████| 235/235 [02:23<00:00,  1.64it/s]\n"
          ],
          "name": "stderr"
        },
        {
          "output_type": "stream",
          "text": [
            "\n",
            " Epoch 19, lr 0.01\n"
          ],
          "name": "stdout"
        },
        {
          "output_type": "stream",
          "text": [
            "\r  0%|          | 0/235 [00:00<?, ?it/s]"
          ],
          "name": "stderr"
        },
        {
          "output_type": "stream",
          "text": [
            "\n",
            "Test set: Average loss: 0.0300, Accuracy: 9906/10000 (99.06%)\n",
            "\n"
          ],
          "name": "stdout"
        },
        {
          "output_type": "stream",
          "text": [
            "Loss=0.06493641436100006 Batch_id=234 Accuracy=97.95: 100%|██████████| 235/235 [02:23<00:00,  1.64it/s]\n"
          ],
          "name": "stderr"
        },
        {
          "output_type": "stream",
          "text": [
            "\n",
            " Epoch 20, lr 0.01\n"
          ],
          "name": "stdout"
        },
        {
          "output_type": "stream",
          "text": [
            "\r  0%|          | 0/235 [00:00<?, ?it/s]"
          ],
          "name": "stderr"
        },
        {
          "output_type": "stream",
          "text": [
            "\n",
            "Test set: Average loss: 0.0307, Accuracy: 9900/10000 (99.00%)\n",
            "\n"
          ],
          "name": "stdout"
        },
        {
          "output_type": "stream",
          "text": [
            "Loss=0.06335325539112091 Batch_id=234 Accuracy=97.90: 100%|██████████| 235/235 [02:25<00:00,  1.62it/s]\n"
          ],
          "name": "stderr"
        },
        {
          "output_type": "stream",
          "text": [
            "\n",
            " Epoch 21, lr 0.01\n"
          ],
          "name": "stdout"
        },
        {
          "output_type": "stream",
          "text": [
            "\r  0%|          | 0/235 [00:00<?, ?it/s]"
          ],
          "name": "stderr"
        },
        {
          "output_type": "stream",
          "text": [
            "\n",
            "Test set: Average loss: 0.0288, Accuracy: 9903/10000 (99.03%)\n",
            "\n"
          ],
          "name": "stdout"
        },
        {
          "output_type": "stream",
          "text": [
            "Loss=0.03646806627511978 Batch_id=234 Accuracy=98.00: 100%|██████████| 235/235 [02:22<00:00,  1.64it/s]\n"
          ],
          "name": "stderr"
        },
        {
          "output_type": "stream",
          "text": [
            "\n",
            " Epoch 22, lr 0.01\n"
          ],
          "name": "stdout"
        },
        {
          "output_type": "stream",
          "text": [
            "\r  0%|          | 0/235 [00:00<?, ?it/s]"
          ],
          "name": "stderr"
        },
        {
          "output_type": "stream",
          "text": [
            "\n",
            "Test set: Average loss: 0.0256, Accuracy: 9921/10000 (99.21%)\n",
            "\n"
          ],
          "name": "stdout"
        },
        {
          "output_type": "stream",
          "text": [
            "Loss=0.05650339648127556 Batch_id=234 Accuracy=98.10: 100%|██████████| 235/235 [02:23<00:00,  1.64it/s]\n"
          ],
          "name": "stderr"
        },
        {
          "output_type": "stream",
          "text": [
            "\n",
            " Epoch 23, lr 0.01\n"
          ],
          "name": "stdout"
        },
        {
          "output_type": "stream",
          "text": [
            "\r  0%|          | 0/235 [00:00<?, ?it/s]"
          ],
          "name": "stderr"
        },
        {
          "output_type": "stream",
          "text": [
            "\n",
            "Test set: Average loss: 0.0256, Accuracy: 9919/10000 (99.19%)\n",
            "\n"
          ],
          "name": "stdout"
        },
        {
          "output_type": "stream",
          "text": [
            "Loss=0.1909923106431961 Batch_id=234 Accuracy=98.02: 100%|██████████| 235/235 [02:23<00:00,  1.64it/s]\n"
          ],
          "name": "stderr"
        },
        {
          "output_type": "stream",
          "text": [
            "\n",
            " Epoch 24, lr 0.01\n",
            "\n",
            "Test set: Average loss: 0.0342, Accuracy: 9890/10000 (98.90%)\n",
            "\n"
          ],
          "name": "stdout"
        }
      ]
    },
    {
      "cell_type": "markdown",
      "metadata": {
        "id": "pqVoR-i4fJcj",
        "colab_type": "text"
      },
      "source": [
        "5. with L1 and L2 with GBN"
      ]
    },
    {
      "cell_type": "code",
      "metadata": {
        "id": "CiJlIXDJg_dN",
        "colab_type": "code",
        "colab": {
          "base_uri": "https://localhost:8080/",
          "height": 1000
        },
        "outputId": "8cbe7258-79a4-4ac5-ecfc-23951c3d6e34"
      },
      "source": [
        "# with L1, L2 and GBN\n",
        "initiate_training(model, device, train_loader, EPOCHS, True, 1e-5, True)\n",
        "\n",
        "total_losses.extend([test_losses])\n",
        "test_losses = []\n",
        "\n",
        "total_accuracies.extend([test_acc])\n",
        "test_acc = []"
      ],
      "execution_count": 29,
      "outputs": [
        {
          "output_type": "stream",
          "text": [
            "Loss=0.14000307023525238 Batch_id=234 Accuracy=98.11: 100%|██████████| 235/235 [02:25<00:00,  1.61it/s]\n"
          ],
          "name": "stderr"
        },
        {
          "output_type": "stream",
          "text": [
            "\n",
            " Epoch 0, lr 0.01\n"
          ],
          "name": "stdout"
        },
        {
          "output_type": "stream",
          "text": [
            "\r  0%|          | 0/235 [00:00<?, ?it/s]"
          ],
          "name": "stderr"
        },
        {
          "output_type": "stream",
          "text": [
            "\n",
            "Test set: Average loss: 0.0268, Accuracy: 9922/10000 (99.22%)\n",
            "\n"
          ],
          "name": "stdout"
        },
        {
          "output_type": "stream",
          "text": [
            "Loss=0.17350107431411743 Batch_id=234 Accuracy=98.18: 100%|██████████| 235/235 [02:23<00:00,  1.64it/s]\n"
          ],
          "name": "stderr"
        },
        {
          "output_type": "stream",
          "text": [
            "\n",
            " Epoch 1, lr 0.01\n"
          ],
          "name": "stdout"
        },
        {
          "output_type": "stream",
          "text": [
            "\r  0%|          | 0/235 [00:00<?, ?it/s]"
          ],
          "name": "stderr"
        },
        {
          "output_type": "stream",
          "text": [
            "\n",
            "Test set: Average loss: 0.0247, Accuracy: 9922/10000 (99.22%)\n",
            "\n"
          ],
          "name": "stdout"
        },
        {
          "output_type": "stream",
          "text": [
            "Loss=0.047834351658821106 Batch_id=234 Accuracy=98.14: 100%|██████████| 235/235 [02:24<00:00,  1.63it/s]\n"
          ],
          "name": "stderr"
        },
        {
          "output_type": "stream",
          "text": [
            "\n",
            " Epoch 2, lr 0.01\n"
          ],
          "name": "stdout"
        },
        {
          "output_type": "stream",
          "text": [
            "\r  0%|          | 0/235 [00:00<?, ?it/s]"
          ],
          "name": "stderr"
        },
        {
          "output_type": "stream",
          "text": [
            "\n",
            "Test set: Average loss: 0.0254, Accuracy: 9922/10000 (99.22%)\n",
            "\n"
          ],
          "name": "stdout"
        },
        {
          "output_type": "stream",
          "text": [
            "Loss=0.05608818680047989 Batch_id=234 Accuracy=98.19: 100%|██████████| 235/235 [02:23<00:00,  1.64it/s]\n"
          ],
          "name": "stderr"
        },
        {
          "output_type": "stream",
          "text": [
            "\n",
            " Epoch 3, lr 0.01\n"
          ],
          "name": "stdout"
        },
        {
          "output_type": "stream",
          "text": [
            "\r  0%|          | 0/235 [00:00<?, ?it/s]"
          ],
          "name": "stderr"
        },
        {
          "output_type": "stream",
          "text": [
            "\n",
            "Test set: Average loss: 0.0277, Accuracy: 9913/10000 (99.13%)\n",
            "\n"
          ],
          "name": "stdout"
        },
        {
          "output_type": "stream",
          "text": [
            "Loss=0.07378754019737244 Batch_id=234 Accuracy=98.14: 100%|██████████| 235/235 [02:25<00:00,  1.62it/s]\n"
          ],
          "name": "stderr"
        },
        {
          "output_type": "stream",
          "text": [
            "\n",
            " Epoch 4, lr 0.001\n"
          ],
          "name": "stdout"
        },
        {
          "output_type": "stream",
          "text": [
            "\r  0%|          | 0/235 [00:00<?, ?it/s]"
          ],
          "name": "stderr"
        },
        {
          "output_type": "stream",
          "text": [
            "\n",
            "Test set: Average loss: 0.0299, Accuracy: 9899/10000 (98.99%)\n",
            "\n"
          ],
          "name": "stdout"
        },
        {
          "output_type": "stream",
          "text": [
            "Loss=0.05040300637483597 Batch_id=234 Accuracy=98.30: 100%|██████████| 235/235 [02:22<00:00,  1.65it/s]\n"
          ],
          "name": "stderr"
        },
        {
          "output_type": "stream",
          "text": [
            "\n",
            " Epoch 5, lr 0.001\n"
          ],
          "name": "stdout"
        },
        {
          "output_type": "stream",
          "text": [
            "\r  0%|          | 0/235 [00:00<?, ?it/s]"
          ],
          "name": "stderr"
        },
        {
          "output_type": "stream",
          "text": [
            "\n",
            "Test set: Average loss: 0.0213, Accuracy: 9935/10000 (99.35%)\n",
            "\n"
          ],
          "name": "stdout"
        },
        {
          "output_type": "stream",
          "text": [
            "Loss=0.05639996752142906 Batch_id=234 Accuracy=98.35: 100%|██████████| 235/235 [02:23<00:00,  1.63it/s]\n"
          ],
          "name": "stderr"
        },
        {
          "output_type": "stream",
          "text": [
            "\n",
            " Epoch 6, lr 0.001\n"
          ],
          "name": "stdout"
        },
        {
          "output_type": "stream",
          "text": [
            "\r  0%|          | 0/235 [00:00<?, ?it/s]"
          ],
          "name": "stderr"
        },
        {
          "output_type": "stream",
          "text": [
            "\n",
            "Test set: Average loss: 0.0213, Accuracy: 9929/10000 (99.29%)\n",
            "\n"
          ],
          "name": "stdout"
        },
        {
          "output_type": "stream",
          "text": [
            "Loss=0.03008466586470604 Batch_id=234 Accuracy=98.43: 100%|██████████| 235/235 [02:23<00:00,  1.64it/s]\n"
          ],
          "name": "stderr"
        },
        {
          "output_type": "stream",
          "text": [
            "\n",
            " Epoch 7, lr 0.001\n"
          ],
          "name": "stdout"
        },
        {
          "output_type": "stream",
          "text": [
            "\r  0%|          | 0/235 [00:00<?, ?it/s]"
          ],
          "name": "stderr"
        },
        {
          "output_type": "stream",
          "text": [
            "\n",
            "Test set: Average loss: 0.0217, Accuracy: 9933/10000 (99.33%)\n",
            "\n"
          ],
          "name": "stdout"
        },
        {
          "output_type": "stream",
          "text": [
            "Loss=0.053199462592601776 Batch_id=234 Accuracy=98.41: 100%|██████████| 235/235 [02:28<00:00,  1.59it/s]\n"
          ],
          "name": "stderr"
        },
        {
          "output_type": "stream",
          "text": [
            "\n",
            " Epoch 8, lr 0.001\n"
          ],
          "name": "stdout"
        },
        {
          "output_type": "stream",
          "text": [
            "\r  0%|          | 0/235 [00:00<?, ?it/s]"
          ],
          "name": "stderr"
        },
        {
          "output_type": "stream",
          "text": [
            "\n",
            "Test set: Average loss: 0.0215, Accuracy: 9930/10000 (99.30%)\n",
            "\n"
          ],
          "name": "stdout"
        },
        {
          "output_type": "stream",
          "text": [
            "Loss=0.06276807188987732 Batch_id=234 Accuracy=98.51: 100%|██████████| 235/235 [02:23<00:00,  1.64it/s]\n"
          ],
          "name": "stderr"
        },
        {
          "output_type": "stream",
          "text": [
            "\n",
            " Epoch 9, lr 0.0001\n"
          ],
          "name": "stdout"
        },
        {
          "output_type": "stream",
          "text": [
            "\r  0%|          | 0/235 [00:00<?, ?it/s]"
          ],
          "name": "stderr"
        },
        {
          "output_type": "stream",
          "text": [
            "\n",
            "Test set: Average loss: 0.0217, Accuracy: 9932/10000 (99.32%)\n",
            "\n"
          ],
          "name": "stdout"
        },
        {
          "output_type": "stream",
          "text": [
            "Loss=0.08104562759399414 Batch_id=234 Accuracy=98.53: 100%|██████████| 235/235 [02:23<00:00,  1.64it/s]\n"
          ],
          "name": "stderr"
        },
        {
          "output_type": "stream",
          "text": [
            "\n",
            " Epoch 10, lr 0.0001\n"
          ],
          "name": "stdout"
        },
        {
          "output_type": "stream",
          "text": [
            "\r  0%|          | 0/235 [00:00<?, ?it/s]"
          ],
          "name": "stderr"
        },
        {
          "output_type": "stream",
          "text": [
            "\n",
            "Test set: Average loss: 0.0215, Accuracy: 9931/10000 (99.31%)\n",
            "\n"
          ],
          "name": "stdout"
        },
        {
          "output_type": "stream",
          "text": [
            "Loss=0.0384456068277359 Batch_id=234 Accuracy=98.49: 100%|██████████| 235/235 [02:22<00:00,  1.65it/s]\n"
          ],
          "name": "stderr"
        },
        {
          "output_type": "stream",
          "text": [
            "\n",
            " Epoch 11, lr 0.0001\n"
          ],
          "name": "stdout"
        },
        {
          "output_type": "stream",
          "text": [
            "\r  0%|          | 0/235 [00:00<?, ?it/s]"
          ],
          "name": "stderr"
        },
        {
          "output_type": "stream",
          "text": [
            "\n",
            "Test set: Average loss: 0.0217, Accuracy: 9931/10000 (99.31%)\n",
            "\n"
          ],
          "name": "stdout"
        },
        {
          "output_type": "stream",
          "text": [
            "Loss=0.14375244081020355 Batch_id=234 Accuracy=98.43: 100%|██████████| 235/235 [02:25<00:00,  1.62it/s]\n"
          ],
          "name": "stderr"
        },
        {
          "output_type": "stream",
          "text": [
            "\n",
            " Epoch 12, lr 0.0001\n"
          ],
          "name": "stdout"
        },
        {
          "output_type": "stream",
          "text": [
            "\r  0%|          | 0/235 [00:00<?, ?it/s]"
          ],
          "name": "stderr"
        },
        {
          "output_type": "stream",
          "text": [
            "\n",
            "Test set: Average loss: 0.0215, Accuracy: 9932/10000 (99.32%)\n",
            "\n"
          ],
          "name": "stdout"
        },
        {
          "output_type": "stream",
          "text": [
            "Loss=0.07730316370725632 Batch_id=234 Accuracy=98.42: 100%|██████████| 235/235 [02:22<00:00,  1.65it/s]\n"
          ],
          "name": "stderr"
        },
        {
          "output_type": "stream",
          "text": [
            "\n",
            " Epoch 13, lr 0.0001\n"
          ],
          "name": "stdout"
        },
        {
          "output_type": "stream",
          "text": [
            "\r  0%|          | 0/235 [00:00<?, ?it/s]"
          ],
          "name": "stderr"
        },
        {
          "output_type": "stream",
          "text": [
            "\n",
            "Test set: Average loss: 0.0213, Accuracy: 9932/10000 (99.32%)\n",
            "\n"
          ],
          "name": "stdout"
        },
        {
          "output_type": "stream",
          "text": [
            "Loss=0.0740806832909584 Batch_id=234 Accuracy=98.43: 100%|██████████| 235/235 [02:23<00:00,  1.64it/s]\n"
          ],
          "name": "stderr"
        },
        {
          "output_type": "stream",
          "text": [
            "\n",
            " Epoch 14, lr 1e-05\n"
          ],
          "name": "stdout"
        },
        {
          "output_type": "stream",
          "text": [
            "\r  0%|          | 0/235 [00:00<?, ?it/s]"
          ],
          "name": "stderr"
        },
        {
          "output_type": "stream",
          "text": [
            "\n",
            "Test set: Average loss: 0.0213, Accuracy: 9932/10000 (99.32%)\n",
            "\n"
          ],
          "name": "stdout"
        },
        {
          "output_type": "stream",
          "text": [
            "Loss=0.04283708333969116 Batch_id=234 Accuracy=98.50: 100%|██████████| 235/235 [02:21<00:00,  1.66it/s]\n"
          ],
          "name": "stderr"
        },
        {
          "output_type": "stream",
          "text": [
            "\n",
            " Epoch 15, lr 1e-05\n"
          ],
          "name": "stdout"
        },
        {
          "output_type": "stream",
          "text": [
            "\r  0%|          | 0/235 [00:00<?, ?it/s]"
          ],
          "name": "stderr"
        },
        {
          "output_type": "stream",
          "text": [
            "\n",
            "Test set: Average loss: 0.0216, Accuracy: 9931/10000 (99.31%)\n",
            "\n"
          ],
          "name": "stdout"
        },
        {
          "output_type": "stream",
          "text": [
            "Loss=0.07100188732147217 Batch_id=234 Accuracy=98.50: 100%|██████████| 235/235 [02:24<00:00,  1.62it/s]\n"
          ],
          "name": "stderr"
        },
        {
          "output_type": "stream",
          "text": [
            "\n",
            " Epoch 16, lr 1e-05\n"
          ],
          "name": "stdout"
        },
        {
          "output_type": "stream",
          "text": [
            "\r  0%|          | 0/235 [00:00<?, ?it/s]"
          ],
          "name": "stderr"
        },
        {
          "output_type": "stream",
          "text": [
            "\n",
            "Test set: Average loss: 0.0215, Accuracy: 9934/10000 (99.34%)\n",
            "\n"
          ],
          "name": "stdout"
        },
        {
          "output_type": "stream",
          "text": [
            "Loss=0.04815395548939705 Batch_id=234 Accuracy=98.48: 100%|██████████| 235/235 [02:22<00:00,  1.65it/s]\n"
          ],
          "name": "stderr"
        },
        {
          "output_type": "stream",
          "text": [
            "\n",
            " Epoch 17, lr 1e-05\n"
          ],
          "name": "stdout"
        },
        {
          "output_type": "stream",
          "text": [
            "\r  0%|          | 0/235 [00:00<?, ?it/s]"
          ],
          "name": "stderr"
        },
        {
          "output_type": "stream",
          "text": [
            "\n",
            "Test set: Average loss: 0.0215, Accuracy: 9931/10000 (99.31%)\n",
            "\n"
          ],
          "name": "stdout"
        },
        {
          "output_type": "stream",
          "text": [
            "Loss=0.07750071585178375 Batch_id=234 Accuracy=98.46: 100%|██████████| 235/235 [02:23<00:00,  1.64it/s]\n"
          ],
          "name": "stderr"
        },
        {
          "output_type": "stream",
          "text": [
            "\n",
            " Epoch 18, lr 1e-05\n"
          ],
          "name": "stdout"
        },
        {
          "output_type": "stream",
          "text": [
            "\r  0%|          | 0/235 [00:00<?, ?it/s]"
          ],
          "name": "stderr"
        },
        {
          "output_type": "stream",
          "text": [
            "\n",
            "Test set: Average loss: 0.0216, Accuracy: 9932/10000 (99.32%)\n",
            "\n"
          ],
          "name": "stdout"
        },
        {
          "output_type": "stream",
          "text": [
            "Loss=0.0922803282737732 Batch_id=234 Accuracy=98.38: 100%|██████████| 235/235 [02:24<00:00,  1.63it/s]\n"
          ],
          "name": "stderr"
        },
        {
          "output_type": "stream",
          "text": [
            "\n",
            " Epoch 19, lr 1.0000000000000002e-06\n"
          ],
          "name": "stdout"
        },
        {
          "output_type": "stream",
          "text": [
            "\r  0%|          | 0/235 [00:00<?, ?it/s]"
          ],
          "name": "stderr"
        },
        {
          "output_type": "stream",
          "text": [
            "\n",
            "Test set: Average loss: 0.0213, Accuracy: 9931/10000 (99.31%)\n",
            "\n"
          ],
          "name": "stdout"
        },
        {
          "output_type": "stream",
          "text": [
            "Loss=0.05669603496789932 Batch_id=234 Accuracy=98.49: 100%|██████████| 235/235 [02:26<00:00,  1.60it/s]\n"
          ],
          "name": "stderr"
        },
        {
          "output_type": "stream",
          "text": [
            "\n",
            " Epoch 20, lr 1.0000000000000002e-06\n"
          ],
          "name": "stdout"
        },
        {
          "output_type": "stream",
          "text": [
            "\r  0%|          | 0/235 [00:00<?, ?it/s]"
          ],
          "name": "stderr"
        },
        {
          "output_type": "stream",
          "text": [
            "\n",
            "Test set: Average loss: 0.0214, Accuracy: 9931/10000 (99.31%)\n",
            "\n"
          ],
          "name": "stdout"
        },
        {
          "output_type": "stream",
          "text": [
            "Loss=0.10640650242567062 Batch_id=234 Accuracy=98.43: 100%|██████████| 235/235 [02:23<00:00,  1.63it/s]\n"
          ],
          "name": "stderr"
        },
        {
          "output_type": "stream",
          "text": [
            "\n",
            " Epoch 21, lr 1.0000000000000002e-06\n"
          ],
          "name": "stdout"
        },
        {
          "output_type": "stream",
          "text": [
            "\r  0%|          | 0/235 [00:00<?, ?it/s]"
          ],
          "name": "stderr"
        },
        {
          "output_type": "stream",
          "text": [
            "\n",
            "Test set: Average loss: 0.0214, Accuracy: 9932/10000 (99.32%)\n",
            "\n"
          ],
          "name": "stdout"
        },
        {
          "output_type": "stream",
          "text": [
            "Loss=0.12003826349973679 Batch_id=234 Accuracy=98.45: 100%|██████████| 235/235 [02:24<00:00,  1.63it/s]\n"
          ],
          "name": "stderr"
        },
        {
          "output_type": "stream",
          "text": [
            "\n",
            " Epoch 22, lr 1.0000000000000002e-06\n"
          ],
          "name": "stdout"
        },
        {
          "output_type": "stream",
          "text": [
            "\r  0%|          | 0/235 [00:00<?, ?it/s]"
          ],
          "name": "stderr"
        },
        {
          "output_type": "stream",
          "text": [
            "\n",
            "Test set: Average loss: 0.0217, Accuracy: 9931/10000 (99.31%)\n",
            "\n"
          ],
          "name": "stdout"
        },
        {
          "output_type": "stream",
          "text": [
            "Loss=0.13829009234905243 Batch_id=234 Accuracy=98.50: 100%|██████████| 235/235 [02:24<00:00,  1.62it/s]\n"
          ],
          "name": "stderr"
        },
        {
          "output_type": "stream",
          "text": [
            "\n",
            " Epoch 23, lr 1.0000000000000002e-06\n"
          ],
          "name": "stdout"
        },
        {
          "output_type": "stream",
          "text": [
            "\r  0%|          | 0/235 [00:00<?, ?it/s]"
          ],
          "name": "stderr"
        },
        {
          "output_type": "stream",
          "text": [
            "\n",
            "Test set: Average loss: 0.0212, Accuracy: 9934/10000 (99.34%)\n",
            "\n"
          ],
          "name": "stdout"
        },
        {
          "output_type": "stream",
          "text": [
            "Loss=0.07565954327583313 Batch_id=234 Accuracy=98.50: 100%|██████████| 235/235 [02:25<00:00,  1.61it/s]\n"
          ],
          "name": "stderr"
        },
        {
          "output_type": "stream",
          "text": [
            "\n",
            " Epoch 24, lr 1.0000000000000002e-07\n",
            "\n",
            "Test set: Average loss: 0.0215, Accuracy: 9933/10000 (99.33%)\n",
            "\n"
          ],
          "name": "stdout"
        }
      ]
    },
    {
      "cell_type": "code",
      "metadata": {
        "id": "2C0gv5Uwqg2j",
        "colab_type": "code",
        "colab": {
          "base_uri": "https://localhost:8080/",
          "height": 698
        },
        "outputId": "6a443d03-ca6b-4f14-a964-e89850027f8a"
      },
      "source": [
        "# \n",
        "plot_stat(total_losses, 'Loss')"
      ],
      "execution_count": 30,
      "outputs": [
        {
          "output_type": "display_data",
          "data": {
            "image/png": "[encoded data removed]",
            "text/plain": [
              "<Figure size 1440x864 with 1 Axes>"
            ]
          },
          "metadata": {
            "tags": [],
            "needs_background": "light"
          }
        }
      ]
    },
    {
      "cell_type": "code",
      "metadata": {
        "id": "jrzeYvX3qmG8",
        "colab_type": "code",
        "colab": {
          "base_uri": "https://localhost:8080/",
          "height": 695
        },
        "outputId": "d87367ba-3d7e-49d4-8bb3-4c874489c046"
      },
      "source": [
        "# \n",
        "plot_stat(total_accuracies, 'Acc')"
      ],
      "execution_count": 31,
      "outputs": [
        {
          "output_type": "display_data",
          "data": {
            "image/png": "[encoded data removed]",
            "text/plain": [
              "<Figure size 1440x864 with 1 Axes>"
            ]
          },
          "metadata": {
            "tags": [],
            "needs_background": "light"
          }
        }
      ]
    },
    {
      "cell_type": "code",
      "metadata": {
        "id": "pcxNW_L44qzQ",
        "colab_type": "code",
        "colab": {
          "base_uri": "https://localhost:8080/",
          "height": 285
        },
        "outputId": "79ad90d7-bb93-4b29-dc17-c5d3ca2f85bb"
      },
      "source": [
        "find_misclassified_image(model, save_path_gbn, device, train_loader, EPOCHS, \"Ghost Batch Normalization\")"
      ],
      "execution_count": 32,
      "outputs": [
        {
          "output_type": "stream",
          "text": [
            "/usr/local/lib/python3.6/dist-packages/ipykernel_launcher.py:22: MatplotlibDeprecationWarning: Adding an axes using the same arguments as a previous axes currently reuses the earlier instance.  In a future version, a new instance will always be created and returned.  Meanwhile, this warning can be suppressed, and the future behavior ensured, by passing a unique label to each axes instance.\n"
          ],
          "name": "stderr"
        },
        {
          "output_type": "display_data",
          "data": {
            "image/png": "[encoded data removed]",
            "text/plain": [
              "<Figure size 432x288 with 25 Axes>"
            ]
          },
          "metadata": {
            "tags": [],
            "needs_background": "light"
          }
        }
      ]
    },
    {
      "cell_type": "markdown",
      "metadata": {
        "id": "DfKfRhnqO6mJ",
        "colab_type": "text"
      },
      "source": [
        "## Summary:\n",
        "\n",
        "A simple DNN with Total params=9,850 was created and trained for 25 epochs with L1, L2 Regularization, Batch Normalization and Ghost Batch Normalization. \n",
        "\n",
        "Following are the accuracy observed:\n",
        "\n",
        "> 1. with L1 + BN => **99.29%**\n",
        "2. with L2 + BN => **99.31%**\n",
        "3. with L1 and L2 with BN => **99.47%**\n",
        "4. with GBN => **98.9%**\n",
        "5. with L1 and L2 with GBN => **99.33%**\n",
        "\n",
        "Reference:\n",
        "* GBN:  https://github.com/apple/ml-cifar-10-faster/blob/master/utils.py\n",
        "\n"
      ]
    }
  ]
}