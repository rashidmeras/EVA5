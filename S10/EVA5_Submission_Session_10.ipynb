{
  "nbformat": 4,
  "nbformat_minor": 0,
  "metadata": {
    "colab": {
      "name": "EVA5: Submission - Session 10.ipynb",
      "provenance": [],
      "collapsed_sections": [],
      "authorship_tag": "ABX9TyMWFsV70Ky6VF4f96b7/qqB",
      "include_colab_link": true
    },
    "kernelspec": {
      "name": "python3",
      "display_name": "Python 3"
    },
    "accelerator": "GPU",
    "widgets": {
      "application/vnd.jupyter.widget-state+json": {
        "47596c26ade84be7a8ab3afc7e36af13": {
          "model_module": "@jupyter-widgets/controls",
          "model_name": "HBoxModel",
          "state": {
            "_view_name": "HBoxView",
            "_dom_classes": [],
            "_model_name": "HBoxModel",
            "_view_module": "@jupyter-widgets/controls",
            "_model_module_version": "1.5.0",
            "_view_count": null,
            "_view_module_version": "1.5.0",
            "box_style": "",
            "layout": "IPY_MODEL_668f75b755d4430d854440d5a6c391a1",
            "_model_module": "@jupyter-widgets/controls",
            "children": [
              "IPY_MODEL_06c2ca02322d4dc59c808dcaf060b5c5",
              "IPY_MODEL_f8dac64d51604893b8ae60621a9f7335"
            ]
          }
        },
        "668f75b755d4430d854440d5a6c391a1": {
          "model_module": "@jupyter-widgets/base",
          "model_name": "LayoutModel",
          "state": {
            "_view_name": "LayoutView",
            "grid_template_rows": null,
            "right": null,
            "justify_content": null,
            "_view_module": "@jupyter-widgets/base",
            "overflow": null,
            "_model_module_version": "1.2.0",
            "_view_count": null,
            "flex_flow": null,
            "width": null,
            "min_width": null,
            "border": null,
            "align_items": null,
            "bottom": null,
            "_model_module": "@jupyter-widgets/base",
            "top": null,
            "grid_column": null,
            "overflow_y": null,
            "overflow_x": null,
            "grid_auto_flow": null,
            "grid_area": null,
            "grid_template_columns": null,
            "flex": null,
            "_model_name": "LayoutModel",
            "justify_items": null,
            "grid_row": null,
            "max_height": null,
            "align_content": null,
            "visibility": null,
            "align_self": null,
            "height": null,
            "min_height": null,
            "padding": null,
            "grid_auto_rows": null,
            "grid_gap": null,
            "max_width": null,
            "order": null,
            "_view_module_version": "1.2.0",
            "grid_template_areas": null,
            "object_position": null,
            "object_fit": null,
            "grid_auto_columns": null,
            "margin": null,
            "display": null,
            "left": null
          }
        },
        "06c2ca02322d4dc59c808dcaf060b5c5": {
          "model_module": "@jupyter-widgets/controls",
          "model_name": "FloatProgressModel",
          "state": {
            "_view_name": "ProgressView",
            "style": "IPY_MODEL_2865b932a82b4555b26723748c1b3510",
            "_dom_classes": [],
            "description": "",
            "_model_name": "FloatProgressModel",
            "bar_style": "success",
            "max": 1,
            "_view_module": "@jupyter-widgets/controls",
            "_model_module_version": "1.5.0",
            "value": 1,
            "_view_count": null,
            "_view_module_version": "1.5.0",
            "orientation": "horizontal",
            "min": 0,
            "description_tooltip": null,
            "_model_module": "@jupyter-widgets/controls",
            "layout": "IPY_MODEL_d44bd9656ad143eebc34a8fb4f37f8dd"
          }
        },
        "f8dac64d51604893b8ae60621a9f7335": {
          "model_module": "@jupyter-widgets/controls",
          "model_name": "HTMLModel",
          "state": {
            "_view_name": "HTMLView",
            "style": "IPY_MODEL_5c2432af871f43ccafb09f867810d281",
            "_dom_classes": [],
            "description": "",
            "_model_name": "HTMLModel",
            "placeholder": "​",
            "_view_module": "@jupyter-widgets/controls",
            "_model_module_version": "1.5.0",
            "value": " 170500096/? [00:07&lt;00:00, 21402252.45it/s]",
            "_view_count": null,
            "_view_module_version": "1.5.0",
            "description_tooltip": null,
            "_model_module": "@jupyter-widgets/controls",
            "layout": "IPY_MODEL_19db8c5420864db09921a3879f8d9ae7"
          }
        },
        "2865b932a82b4555b26723748c1b3510": {
          "model_module": "@jupyter-widgets/controls",
          "model_name": "ProgressStyleModel",
          "state": {
            "_view_name": "StyleView",
            "_model_name": "ProgressStyleModel",
            "description_width": "initial",
            "_view_module": "@jupyter-widgets/base",
            "_model_module_version": "1.5.0",
            "_view_count": null,
            "_view_module_version": "1.2.0",
            "bar_color": null,
            "_model_module": "@jupyter-widgets/controls"
          }
        },
        "d44bd9656ad143eebc34a8fb4f37f8dd": {
          "model_module": "@jupyter-widgets/base",
          "model_name": "LayoutModel",
          "state": {
            "_view_name": "LayoutView",
            "grid_template_rows": null,
            "right": null,
            "justify_content": null,
            "_view_module": "@jupyter-widgets/base",
            "overflow": null,
            "_model_module_version": "1.2.0",
            "_view_count": null,
            "flex_flow": null,
            "width": null,
            "min_width": null,
            "border": null,
            "align_items": null,
            "bottom": null,
            "_model_module": "@jupyter-widgets/base",
            "top": null,
            "grid_column": null,
            "overflow_y": null,
            "overflow_x": null,
            "grid_auto_flow": null,
            "grid_area": null,
            "grid_template_columns": null,
            "flex": null,
            "_model_name": "LayoutModel",
            "justify_items": null,
            "grid_row": null,
            "max_height": null,
            "align_content": null,
            "visibility": null,
            "align_self": null,
            "height": null,
            "min_height": null,
            "padding": null,
            "grid_auto_rows": null,
            "grid_gap": null,
            "max_width": null,
            "order": null,
            "_view_module_version": "1.2.0",
            "grid_template_areas": null,
            "object_position": null,
            "object_fit": null,
            "grid_auto_columns": null,
            "margin": null,
            "display": null,
            "left": null
          }
        },
        "5c2432af871f43ccafb09f867810d281": {
          "model_module": "@jupyter-widgets/controls",
          "model_name": "DescriptionStyleModel",
          "state": {
            "_view_name": "StyleView",
            "_model_name": "DescriptionStyleModel",
            "description_width": "",
            "_view_module": "@jupyter-widgets/base",
            "_model_module_version": "1.5.0",
            "_view_count": null,
            "_view_module_version": "1.2.0",
            "_model_module": "@jupyter-widgets/controls"
          }
        },
        "19db8c5420864db09921a3879f8d9ae7": {
          "model_module": "@jupyter-widgets/base",
          "model_name": "LayoutModel",
          "state": {
            "_view_name": "LayoutView",
            "grid_template_rows": null,
            "right": null,
            "justify_content": null,
            "_view_module": "@jupyter-widgets/base",
            "overflow": null,
            "_model_module_version": "1.2.0",
            "_view_count": null,
            "flex_flow": null,
            "width": null,
            "min_width": null,
            "border": null,
            "align_items": null,
            "bottom": null,
            "_model_module": "@jupyter-widgets/base",
            "top": null,
            "grid_column": null,
            "overflow_y": null,
            "overflow_x": null,
            "grid_auto_flow": null,
            "grid_area": null,
            "grid_template_columns": null,
            "flex": null,
            "_model_name": "LayoutModel",
            "justify_items": null,
            "grid_row": null,
            "max_height": null,
            "align_content": null,
            "visibility": null,
            "align_self": null,
            "height": null,
            "min_height": null,
            "padding": null,
            "grid_auto_rows": null,
            "grid_gap": null,
            "max_width": null,
            "order": null,
            "_view_module_version": "1.2.0",
            "grid_template_areas": null,
            "object_position": null,
            "object_fit": null,
            "grid_auto_columns": null,
            "margin": null,
            "display": null,
            "left": null
          }
        },
        "630bf70d95154cb1bb9163cd37b1f1d2": {
          "model_module": "@jupyter-widgets/controls",
          "model_name": "HBoxModel",
          "state": {
            "_view_name": "HBoxView",
            "_dom_classes": [],
            "_model_name": "HBoxModel",
            "_view_module": "@jupyter-widgets/controls",
            "_model_module_version": "1.5.0",
            "_view_count": null,
            "_view_module_version": "1.5.0",
            "box_style": "",
            "layout": "IPY_MODEL_0bd65c7111154d3da09ffb386e18c8f8",
            "_model_module": "@jupyter-widgets/controls",
            "children": [
              "IPY_MODEL_05a4ad8c0ae94d018d1401e094c156dc",
              "IPY_MODEL_91696d85bcdc4af382049e2ce6954ee6"
            ]
          }
        },
        "0bd65c7111154d3da09ffb386e18c8f8": {
          "model_module": "@jupyter-widgets/base",
          "model_name": "LayoutModel",
          "state": {
            "_view_name": "LayoutView",
            "grid_template_rows": null,
            "right": null,
            "justify_content": null,
            "_view_module": "@jupyter-widgets/base",
            "overflow": null,
            "_model_module_version": "1.2.0",
            "_view_count": null,
            "flex_flow": null,
            "width": null,
            "min_width": null,
            "border": null,
            "align_items": null,
            "bottom": null,
            "_model_module": "@jupyter-widgets/base",
            "top": null,
            "grid_column": null,
            "overflow_y": null,
            "overflow_x": null,
            "grid_auto_flow": null,
            "grid_area": null,
            "grid_template_columns": null,
            "flex": null,
            "_model_name": "LayoutModel",
            "justify_items": null,
            "grid_row": null,
            "max_height": null,
            "align_content": null,
            "visibility": null,
            "align_self": null,
            "height": null,
            "min_height": null,
            "padding": null,
            "grid_auto_rows": null,
            "grid_gap": null,
            "max_width": null,
            "order": null,
            "_view_module_version": "1.2.0",
            "grid_template_areas": null,
            "object_position": null,
            "object_fit": null,
            "grid_auto_columns": null,
            "margin": null,
            "display": null,
            "left": null
          }
        },
        "05a4ad8c0ae94d018d1401e094c156dc": {
          "model_module": "@jupyter-widgets/controls",
          "model_name": "FloatProgressModel",
          "state": {
            "_view_name": "ProgressView",
            "style": "IPY_MODEL_d9c338829f664214a682e786654801d3",
            "_dom_classes": [],
            "description": "100%",
            "_model_name": "FloatProgressModel",
            "bar_style": "success",
            "max": 100,
            "_view_module": "@jupyter-widgets/controls",
            "_model_module_version": "1.5.0",
            "value": 100,
            "_view_count": null,
            "_view_module_version": "1.5.0",
            "orientation": "horizontal",
            "min": 0,
            "description_tooltip": null,
            "_model_module": "@jupyter-widgets/controls",
            "layout": "IPY_MODEL_e6a22b5a75c54caf96bb06a0121df835"
          }
        },
        "91696d85bcdc4af382049e2ce6954ee6": {
          "model_module": "@jupyter-widgets/controls",
          "model_name": "HTMLModel",
          "state": {
            "_view_name": "HTMLView",
            "style": "IPY_MODEL_96f4c09a1bb9486d8a503e2cf4391ac1",
            "_dom_classes": [],
            "description": "",
            "_model_name": "HTMLModel",
            "placeholder": "​",
            "_view_module": "@jupyter-widgets/controls",
            "_model_module_version": "1.5.0",
            "value": " 100/100 [00:02&lt;00:00, 46.36it/s]",
            "_view_count": null,
            "_view_module_version": "1.5.0",
            "description_tooltip": null,
            "_model_module": "@jupyter-widgets/controls",
            "layout": "IPY_MODEL_b64b5bb30cdd49208a8fd587ce555149"
          }
        },
        "d9c338829f664214a682e786654801d3": {
          "model_module": "@jupyter-widgets/controls",
          "model_name": "ProgressStyleModel",
          "state": {
            "_view_name": "StyleView",
            "_model_name": "ProgressStyleModel",
            "description_width": "initial",
            "_view_module": "@jupyter-widgets/base",
            "_model_module_version": "1.5.0",
            "_view_count": null,
            "_view_module_version": "1.2.0",
            "bar_color": null,
            "_model_module": "@jupyter-widgets/controls"
          }
        },
        "e6a22b5a75c54caf96bb06a0121df835": {
          "model_module": "@jupyter-widgets/base",
          "model_name": "LayoutModel",
          "state": {
            "_view_name": "LayoutView",
            "grid_template_rows": null,
            "right": null,
            "justify_content": null,
            "_view_module": "@jupyter-widgets/base",
            "overflow": null,
            "_model_module_version": "1.2.0",
            "_view_count": null,
            "flex_flow": null,
            "width": null,
            "min_width": null,
            "border": null,
            "align_items": null,
            "bottom": null,
            "_model_module": "@jupyter-widgets/base",
            "top": null,
            "grid_column": null,
            "overflow_y": null,
            "overflow_x": null,
            "grid_auto_flow": null,
            "grid_area": null,
            "grid_template_columns": null,
            "flex": null,
            "_model_name": "LayoutModel",
            "justify_items": null,
            "grid_row": null,
            "max_height": null,
            "align_content": null,
            "visibility": null,
            "align_self": null,
            "height": null,
            "min_height": null,
            "padding": null,
            "grid_auto_rows": null,
            "grid_gap": null,
            "max_width": null,
            "order": null,
            "_view_module_version": "1.2.0",
            "grid_template_areas": null,
            "object_position": null,
            "object_fit": null,
            "grid_auto_columns": null,
            "margin": null,
            "display": null,
            "left": null
          }
        },
        "96f4c09a1bb9486d8a503e2cf4391ac1": {
          "model_module": "@jupyter-widgets/controls",
          "model_name": "DescriptionStyleModel",
          "state": {
            "_view_name": "StyleView",
            "_model_name": "DescriptionStyleModel",
            "description_width": "",
            "_view_module": "@jupyter-widgets/base",
            "_model_module_version": "1.5.0",
            "_view_count": null,
            "_view_module_version": "1.2.0",
            "_model_module": "@jupyter-widgets/controls"
          }
        },
        "b64b5bb30cdd49208a8fd587ce555149": {
          "model_module": "@jupyter-widgets/base",
          "model_name": "LayoutModel",
          "state": {
            "_view_name": "LayoutView",
            "grid_template_rows": null,
            "right": null,
            "justify_content": null,
            "_view_module": "@jupyter-widgets/base",
            "overflow": null,
            "_model_module_version": "1.2.0",
            "_view_count": null,
            "flex_flow": null,
            "width": null,
            "min_width": null,
            "border": null,
            "align_items": null,
            "bottom": null,
            "_model_module": "@jupyter-widgets/base",
            "top": null,
            "grid_column": null,
            "overflow_y": null,
            "overflow_x": null,
            "grid_auto_flow": null,
            "grid_area": null,
            "grid_template_columns": null,
            "flex": null,
            "_model_name": "LayoutModel",
            "justify_items": null,
            "grid_row": null,
            "max_height": null,
            "align_content": null,
            "visibility": null,
            "align_self": null,
            "height": null,
            "min_height": null,
            "padding": null,
            "grid_auto_rows": null,
            "grid_gap": null,
            "max_width": null,
            "order": null,
            "_view_module_version": "1.2.0",
            "grid_template_areas": null,
            "object_position": null,
            "object_fit": null,
            "grid_auto_columns": null,
            "margin": null,
            "display": null,
            "left": null
          }
        }
      }
    }
  },
  "cells": [
    {
      "cell_type": "markdown",
      "metadata": {
        "id": "view-in-github",
        "colab_type": "text"
      },
      "source": [
        "<a href=\"https://colab.research.google.com/github/rashidmeras/EVA5/blob/master/S10/EVA5_Submission_Session_10.ipynb\" target=\"_parent\"><img src=\"https://colab.research.google.com/assets/colab-badge.svg\" alt=\"Open In Colab\"/></a>"
      ]
    },
    {
      "cell_type": "markdown",
      "metadata": {
        "id": "UfBYawbxEBwh"
      },
      "source": [
        "Objective:\n",
        "\n",
        "Pick your last code and Add CutOut. It should come from your transformations (albumentations)\n",
        "* Use this repo: https://github.com/davidtvs/pytorch-lr-finder\n",
        "* Move LR Finder code to your modules\n",
        "* Implement LR Finder (for SGD, not for ADAM)\n",
        "* Implement ReduceLROnPlatea: https://pytorch.org/docs/stable/optim.html#torch.optim.lr_scheduler.ReduceLROnPlateau\n",
        "* Find best LR to train your model\n",
        "* Use SDG with Momentum\n",
        "* Train for 50 Epochs. \n",
        "* Show Training and Test Accuracy curves\n",
        "* Target 88% Accuracy.\n",
        "* Run GradCAM on the any 25 misclassified images. Make sure you mention what is the prediction and what was the ground truth label.\n",
        "\n",
        "Submitted By: \n",
        "* `Meras Pillai Rashid`\n",
        "* `Samir Prasad`"
      ]
    },
    {
      "cell_type": "markdown",
      "metadata": {
        "id": "RwZthjMtVgM-"
      },
      "source": [
        "## Setup"
      ]
    },
    {
      "cell_type": "markdown",
      "metadata": {
        "id": "2FBxnsHrE-Dh"
      },
      "source": [
        "Import `pytorch` libraries and modules:"
      ]
    },
    {
      "cell_type": "code",
      "metadata": {
        "id": "SD35M-SQSDAl"
      },
      "source": [
        "import torch\n",
        "import torchvision\n",
        "import torchvision.transforms as transforms"
      ],
      "execution_count": 1,
      "outputs": []
    },
    {
      "cell_type": "markdown",
      "metadata": {
        "id": "q5ugc3VBE1VZ"
      },
      "source": [
        "Clone the repo"
      ]
    },
    {
      "cell_type": "code",
      "metadata": {
        "id": "eBfnu0Lrhp8B",
        "outputId": "a9dcd8ae-ae03-4f29-d375-864232b3a5c9",
        "colab": {
          "base_uri": "https://localhost:8080/",
          "height": 134
        }
      },
      "source": [
        "!git clone https://github.com/albumentations-team/albumentations.git"
      ],
      "execution_count": 2,
      "outputs": [
        {
          "output_type": "stream",
          "text": [
            "Cloning into 'albumentations'...\n",
            "remote: Enumerating objects: 92, done.\u001b[K\n",
            "remote: Counting objects: 100% (92/92), done.\u001b[K\n",
            "remote: Compressing objects: 100% (69/69), done.\u001b[K\n",
            "remote: Total 4676 (delta 60), reused 40 (delta 23), pack-reused 4584\u001b[K\n",
            "Receiving objects: 100% (4676/4676), 99.17 MiB | 36.67 MiB/s, done.\n",
            "Resolving deltas: 100% (3155/3155), done.\n"
          ],
          "name": "stdout"
        }
      ]
    },
    {
      "cell_type": "code",
      "metadata": {
        "id": "PQVyASR3SHc3",
        "outputId": "7fadb909-12c4-4bfb-a70b-bbd30ffb469e",
        "colab": {
          "base_uri": "https://localhost:8080/",
          "height": 134
        }
      },
      "source": [
        "!git clone https://github.com/rashidmeras/EVA5.git"
      ],
      "execution_count": 3,
      "outputs": [
        {
          "output_type": "stream",
          "text": [
            "Cloning into 'EVA5'...\n",
            "remote: Enumerating objects: 176, done.\u001b[K\n",
            "remote: Counting objects: 100% (176/176), done.\u001b[K\n",
            "remote: Compressing objects: 100% (170/170), done.\u001b[K\n",
            "remote: Total 176 (delta 96), reused 0 (delta 0), pack-reused 0\u001b[K\n",
            "Receiving objects: 100% (176/176), 356.65 KiB | 7.59 MiB/s, done.\n",
            "Resolving deltas: 100% (96/96), done.\n"
          ],
          "name": "stdout"
        }
      ]
    },
    {
      "cell_type": "markdown",
      "metadata": {
        "id": "n5_h6urHFCjc"
      },
      "source": [
        "change the code such that it uses GPU"
      ]
    },
    {
      "cell_type": "code",
      "metadata": {
        "id": "EV3x1W0MSPNC",
        "outputId": "b9789fe3-807b-49d3-9cf1-4a697a78fff1",
        "colab": {
          "base_uri": "https://localhost:8080/",
          "height": 34
        }
      },
      "source": [
        "use_cuda = torch.cuda.is_available()\n",
        "device = torch.device(\"cuda\" if use_cuda else \"cpu\")\n",
        "print(\"Device : \", device)"
      ],
      "execution_count": 4,
      "outputs": [
        {
          "output_type": "stream",
          "text": [
            "Device :  cuda\n"
          ],
          "name": "stdout"
        }
      ]
    },
    {
      "cell_type": "markdown",
      "metadata": {
        "id": "FBIrrTVyUvQa"
      },
      "source": [
        "## Load"
      ]
    },
    {
      "cell_type": "code",
      "metadata": {
        "id": "UAWEN8zOh-X6"
      },
      "source": [
        "import albumentations as A\n",
        "from albumentations.pytorch.transforms import ToTensor\n",
        "from albumentations.augmentations.transforms import Normalize, RandomCrop, HorizontalFlip, HorizontalFlip, Rotate, VerticalFlip, Cutout\n",
        "\n",
        "class AlbumentationImageDataset():\n",
        "  \n",
        "    def __init__(self, mean, std):\n",
        "        self.mean = mean\n",
        "        self.std = std \n",
        "        self.aug = A.Compose([\n",
        "        HorizontalFlip(p=0.5),\n",
        "        Rotate(limit=(-10, 10)),\n",
        "        VerticalFlip(p=0.5),\n",
        "        Cutout(num_holes = 8, max_h_size = 8, max_w_size = 8),\n",
        "        Normalize(mean, std),\n",
        "        ToTensor()\n",
        "        ])\n",
        "             \n",
        "    def __call__(self, image):\n",
        "        return self.aug(image=np.array(image))['image'] \n",
        "\n",
        "\n",
        "def train_test_loader(batch_size = 4, num_workers=2):\n",
        "\n",
        "    print(\"\\n Initialize train and test loader with Batch Size:{}\".format(batch_size))\n",
        "\n",
        "    torch.manual_seed(22)\n",
        "\n",
        "    mean = (0.4914, 0.4822, 0.4465)\n",
        "    std  = (0.2023, 0.1994, 0.2010)\n",
        "\n",
        "    transform = transforms.Compose([\n",
        "                                    transforms.ToTensor(),\n",
        "                                    transforms.Normalize(mean, std)\n",
        "                                  ])   \n",
        "\n",
        "    train_set = torchvision.datasets.CIFAR10(root='./data', train=True, download=True, transform=AlbumentationImageDataset(mean, std))\n",
        "    train_loader = torch.utils.data.DataLoader(train_set, batch_size=batch_size, shuffle=True, num_workers=num_workers)\n",
        "\n",
        "    test_set = torchvision.datasets.CIFAR10(root='./data', train=False, download=True, transform=transform)\n",
        "    test_loader = torch.utils.data.DataLoader(test_set, batch_size=batch_size, shuffle=False, num_workers=num_workers)\n",
        "    \n",
        "    return train_loader, test_loader        "
      ],
      "execution_count": 5,
      "outputs": []
    },
    {
      "cell_type": "code",
      "metadata": {
        "id": "txfow0PbANK5",
        "outputId": "3956aff5-6b72-4776-e23e-62473d21b5b9",
        "colab": {
          "base_uri": "https://localhost:8080/",
          "height": 133,
          "referenced_widgets": [
            "47596c26ade84be7a8ab3afc7e36af13",
            "668f75b755d4430d854440d5a6c391a1",
            "06c2ca02322d4dc59c808dcaf060b5c5",
            "f8dac64d51604893b8ae60621a9f7335",
            "2865b932a82b4555b26723748c1b3510",
            "d44bd9656ad143eebc34a8fb4f37f8dd",
            "5c2432af871f43ccafb09f867810d281",
            "19db8c5420864db09921a3879f8d9ae7"
          ]
        }
      },
      "source": [
        "train_loader, test_loader = train_test_loader()\n",
        "classes = ('plane', 'car', 'bird', 'cat', 'deer', 'dog', 'frog', 'horse', 'ship', 'truck')"
      ],
      "execution_count": 6,
      "outputs": [
        {
          "output_type": "stream",
          "text": [
            "\n",
            " Initialize train and test loader with Batch Size:4\n",
            "Downloading https://www.cs.toronto.edu/~kriz/cifar-10-python.tar.gz to ./data/cifar-10-python.tar.gz\n"
          ],
          "name": "stdout"
        },
        {
          "output_type": "display_data",
          "data": {
            "application/vnd.jupyter.widget-view+json": {
              "model_id": "47596c26ade84be7a8ab3afc7e36af13",
              "version_minor": 0,
              "version_major": 2
            },
            "text/plain": [
              "HBox(children=(FloatProgress(value=1.0, bar_style='info', max=1.0), HTML(value='')))"
            ]
          },
          "metadata": {
            "tags": []
          }
        },
        {
          "output_type": "stream",
          "text": [
            "Extracting ./data/cifar-10-python.tar.gz to ./data\n",
            "Files already downloaded and verified\n"
          ],
          "name": "stdout"
        }
      ]
    },
    {
      "cell_type": "code",
      "metadata": {
        "id": "BedqwCnGRoz2",
        "outputId": "f05203f8-1e37-44b5-88ed-cc0a89a8b74d",
        "colab": {
          "base_uri": "https://localhost:8080/",
          "height": 189
        }
      },
      "source": [
        "import matplotlib.pyplot as plt\n",
        "import numpy as np\n",
        "\n",
        "# functions to show an image\n",
        "def imshow(img):\n",
        "    img = img / 2 + 0.5     # unnormalize\n",
        "    npimg = img.numpy()\n",
        "    plt.imshow(np.transpose(npimg, (1, 2, 0)))\n",
        "\n",
        "# get some random training images\n",
        "dataiter = iter(train_loader)\n",
        "images, labels = dataiter.next()\n",
        "\n",
        "# show images\n",
        "imshow(torchvision.utils.make_grid(images))\n",
        "\n",
        "# print labels\n",
        "print(' '.join('%5s' % classes[labels[j]] for j in range(4)))"
      ],
      "execution_count": 7,
      "outputs": [
        {
          "output_type": "stream",
          "text": [
            "Clipping input data to the valid range for imshow with RGB data ([0..1] for floats or [0..255] for integers).\n"
          ],
          "name": "stderr"
        },
        {
          "output_type": "stream",
          "text": [
            "horse   dog   cat plane\n"
          ],
          "name": "stdout"
        },
        {
          "output_type": "display_data",
          "data": {
            "image/png": "[encoded data removed]",
            "text/plain": [
              "<Figure size 432x288 with 1 Axes>"
            ]
          },
          "metadata": {
            "tags": [],
            "needs_background": "light"
          }
        },
        {
          "output_type": "stream",
          "text": [
            "\n"
          ],
          "name": "stdout"
        }
      ]
    },
    {
      "cell_type": "code",
      "metadata": {
        "id": "E8iuEXMASR34",
        "outputId": "33c9bac0-8ccf-40a4-b009-449099cd3e2a",
        "colab": {
          "base_uri": "https://localhost:8080/",
          "height": 34
        }
      },
      "source": [
        "from EVA5.Models import ResNet\n",
        "model = ResNet.ResNet18().to(device)\n",
        "print(\"Model Loaded Successfully \")"
      ],
      "execution_count": 8,
      "outputs": [
        {
          "output_type": "stream",
          "text": [
            "Model Loaded Successfully \n"
          ],
          "name": "stdout"
        }
      ]
    },
    {
      "cell_type": "code",
      "metadata": {
        "id": "gWu-jF364JoQ",
        "outputId": "8073ca28-8160-421a-9b17-3b784e49bfc1",
        "colab": {
          "base_uri": "https://localhost:8080/",
          "height": 1000
        }
      },
      "source": [
        "!pip install torchsummary\n",
        "from torchsummary import summary\n",
        "\n",
        "summary(model, input_size=(3, 32, 32))"
      ],
      "execution_count": 9,
      "outputs": [
        {
          "output_type": "stream",
          "text": [
            "Requirement already satisfied: torchsummary in /usr/local/lib/python3.6/dist-packages (1.5.1)\n",
            "----------------------------------------------------------------\n",
            "        Layer (type)               Output Shape         Param #\n",
            "================================================================\n",
            "            Conv2d-1           [-1, 64, 32, 32]           1,728\n",
            "       BatchNorm2d-2           [-1, 64, 32, 32]             128\n",
            "            Conv2d-3           [-1, 64, 32, 32]          36,864\n",
            "       BatchNorm2d-4           [-1, 64, 32, 32]             128\n",
            "            Conv2d-5           [-1, 64, 32, 32]          36,864\n",
            "       BatchNorm2d-6           [-1, 64, 32, 32]             128\n",
            "        BasicBlock-7           [-1, 64, 32, 32]               0\n",
            "            Conv2d-8           [-1, 64, 32, 32]          36,864\n",
            "       BatchNorm2d-9           [-1, 64, 32, 32]             128\n",
            "           Conv2d-10           [-1, 64, 32, 32]          36,864\n",
            "      BatchNorm2d-11           [-1, 64, 32, 32]             128\n",
            "       BasicBlock-12           [-1, 64, 32, 32]               0\n",
            "           Conv2d-13          [-1, 128, 16, 16]          73,728\n",
            "      BatchNorm2d-14          [-1, 128, 16, 16]             256\n",
            "           Conv2d-15          [-1, 128, 16, 16]         147,456\n",
            "      BatchNorm2d-16          [-1, 128, 16, 16]             256\n",
            "           Conv2d-17          [-1, 128, 16, 16]           8,192\n",
            "      BatchNorm2d-18          [-1, 128, 16, 16]             256\n",
            "       BasicBlock-19          [-1, 128, 16, 16]               0\n",
            "           Conv2d-20          [-1, 128, 16, 16]         147,456\n",
            "      BatchNorm2d-21          [-1, 128, 16, 16]             256\n",
            "           Conv2d-22          [-1, 128, 16, 16]         147,456\n",
            "      BatchNorm2d-23          [-1, 128, 16, 16]             256\n",
            "       BasicBlock-24          [-1, 128, 16, 16]               0\n",
            "           Conv2d-25            [-1, 256, 8, 8]         294,912\n",
            "      BatchNorm2d-26            [-1, 256, 8, 8]             512\n",
            "           Conv2d-27            [-1, 256, 8, 8]         589,824\n",
            "      BatchNorm2d-28            [-1, 256, 8, 8]             512\n",
            "           Conv2d-29            [-1, 256, 8, 8]          32,768\n",
            "      BatchNorm2d-30            [-1, 256, 8, 8]             512\n",
            "       BasicBlock-31            [-1, 256, 8, 8]               0\n",
            "           Conv2d-32            [-1, 256, 8, 8]         589,824\n",
            "      BatchNorm2d-33            [-1, 256, 8, 8]             512\n",
            "           Conv2d-34            [-1, 256, 8, 8]         589,824\n",
            "      BatchNorm2d-35            [-1, 256, 8, 8]             512\n",
            "       BasicBlock-36            [-1, 256, 8, 8]               0\n",
            "           Conv2d-37            [-1, 512, 4, 4]       1,179,648\n",
            "      BatchNorm2d-38            [-1, 512, 4, 4]           1,024\n",
            "           Conv2d-39            [-1, 512, 4, 4]       2,359,296\n",
            "      BatchNorm2d-40            [-1, 512, 4, 4]           1,024\n",
            "           Conv2d-41            [-1, 512, 4, 4]         131,072\n",
            "      BatchNorm2d-42            [-1, 512, 4, 4]           1,024\n",
            "       BasicBlock-43            [-1, 512, 4, 4]               0\n",
            "           Conv2d-44            [-1, 512, 4, 4]       2,359,296\n",
            "      BatchNorm2d-45            [-1, 512, 4, 4]           1,024\n",
            "           Conv2d-46            [-1, 512, 4, 4]       2,359,296\n",
            "      BatchNorm2d-47            [-1, 512, 4, 4]           1,024\n",
            "       BasicBlock-48            [-1, 512, 4, 4]               0\n",
            "           Linear-49                   [-1, 10]           5,130\n",
            "================================================================\n",
            "Total params: 11,173,962\n",
            "Trainable params: 11,173,962\n",
            "Non-trainable params: 0\n",
            "----------------------------------------------------------------\n",
            "Input size (MB): 0.01\n",
            "Forward/backward pass size (MB): 11.25\n",
            "Params size (MB): 42.63\n",
            "Estimated Total Size (MB): 53.89\n",
            "----------------------------------------------------------------\n"
          ],
          "name": "stdout"
        }
      ]
    },
    {
      "cell_type": "markdown",
      "metadata": {
        "id": "NEl4cLQaUqa3"
      },
      "source": [
        "## Train"
      ]
    },
    {
      "cell_type": "markdown",
      "metadata": {
        "id": "tyID57qTU-jm"
      },
      "source": [
        "Train for 40 Epochs"
      ]
    },
    {
      "cell_type": "code",
      "metadata": {
        "id": "LYoedB9tLvGo",
        "outputId": "205ebf1c-f576-4951-d675-2f88aa424635",
        "colab": {
          "base_uri": "https://localhost:8080/",
          "height": 418,
          "referenced_widgets": [
            "630bf70d95154cb1bb9163cd37b1f1d2",
            "0bd65c7111154d3da09ffb386e18c8f8",
            "05a4ad8c0ae94d018d1401e094c156dc",
            "91696d85bcdc4af382049e2ce6954ee6",
            "d9c338829f664214a682e786654801d3",
            "e6a22b5a75c54caf96bb06a0121df835",
            "96f4c09a1bb9486d8a503e2cf4391ac1",
            "b64b5bb30cdd49208a8fd587ce555149"
          ]
        }
      },
      "source": [
        "import torch.nn as nn\n",
        "import torch.optim as optim\n",
        "from EVA5.S10 import lr_finder\n",
        "\n",
        "optimizer = optim.SGD(model.parameters(), lr=0.01, momentum=0.9, dampening=0, weight_decay=1e-5, nesterov=False)\n",
        "criterion = nn.CrossEntropyLoss()\n",
        "\n",
        "lrfinder = lr_finder.LRFinder(model, optimizer , criterion , device = \"cuda\")\n",
        "lrfinder.range_test(train_loader , end_lr=0.1 , num_iter=100 , step_mode=\"linear\")\n",
        "lrfinder.plot()"
      ],
      "execution_count": 10,
      "outputs": [
        {
          "output_type": "display_data",
          "data": {
            "application/vnd.jupyter.widget-view+json": {
              "model_id": "630bf70d95154cb1bb9163cd37b1f1d2",
              "version_minor": 0,
              "version_major": 2
            },
            "text/plain": [
              "HBox(children=(FloatProgress(value=0.0), HTML(value='')))"
            ]
          },
          "metadata": {
            "tags": []
          }
        },
        {
          "output_type": "stream",
          "text": [
            "\n",
            "Learning rate search finished. See the graph with {finder_name}.plot()\n",
            "LR suggestion: steepest gradient\n",
            "Suggested LR: 5.55E-02\n"
          ],
          "name": "stdout"
        },
        {
          "output_type": "display_data",
          "data": {
            "image/png": "[encoded data removed]",
            "text/plain": [
              "<Figure size 432x288 with 1 Axes>"
            ]
          },
          "metadata": {
            "tags": [],
            "needs_background": "light"
          }
        },
        {
          "output_type": "execute_result",
          "data": {
            "text/plain": [
              "(<matplotlib.axes._subplots.AxesSubplot at 0x7f47281f69e8>,\n",
              " 0.055454545454545465)"
            ]
          },
          "metadata": {
            "tags": []
          },
          "execution_count": 10
        }
      ]
    },
    {
      "cell_type": "code",
      "metadata": {
        "id": "ydkn6rktP9SI"
      },
      "source": [
        "lrfinder.reset()\n",
        "LR_suggested = 5.55E-02"
      ],
      "execution_count": 11,
      "outputs": []
    },
    {
      "cell_type": "code",
      "metadata": {
        "id": "z_Qt4HMCoMVp",
        "outputId": "a33d9a7b-fcc0-4669-9e23-a75e74f15df4",
        "colab": {
          "base_uri": "https://localhost:8080/",
          "height": 890
        }
      },
      "source": [
        "from datetime import datetime\n",
        "start_time = datetime.now()\n",
        "\n",
        "from EVA5.S10 import trainingSetupCifar10\n",
        "trainingSetupCifar10.initiate_training(model, device, train_loader, LR_suggested, 50)\n",
        "\n",
        "print('Duration: {}'.format(datetime.now() - start_time))"
      ],
      "execution_count": 12,
      "outputs": [
        {
          "output_type": "stream",
          "text": [
            "(*)[1,  2000] loss: 2.338 (*)[1,  4000] loss: 2.111 (*)[1,  6000] loss: 2.011 (*)[1,  8000] loss: 1.908 (*)[1, 10000] loss: 1.821 (*)[1, 12000] loss: 1.773\n",
            "(*)[2,  2000] loss: 1.706 (*)[2,  4000] loss: 1.672 (*)[2,  6000] loss: 1.616 (*)[2,  8000] loss: 1.582 (*)[2, 10000] loss: 1.547 (*)[2, 12000] loss: 1.521\n",
            "(*)[3,  2000] loss: 1.463 (*)[3,  4000] loss: 1.429 (*)[3,  6000] loss: 1.412 (*)[3,  8000] loss: 1.393 (*)[3, 10000] loss: 1.315 (*)[3, 12000] loss: 1.317\n",
            "(*)[4,  2000] loss: 1.278 (*)[4,  4000] loss: 1.236 (*)[4,  6000] loss: 1.227 (*)[4,  8000] loss: 1.216 (*)[4, 10000] loss: 1.175 (*)[4, 12000] loss: 1.129\n",
            "(*)[5,  2000] loss: 1.116 (*)[5,  4000] loss: 1.086 (*)[5,  6000] loss: 1.095 (*)[5,  8000] loss: 1.083 (*)[5, 10000] loss: 1.059 (*)[5, 12000] loss: 1.040\n",
            "(*)[6,  2000] loss: 1.005 (*)[6,  4000] loss: 0.996 (*)[6,  6000] loss: 1.010 (*)[6,  8000] loss: 0.975 (*)[6, 10000] loss: 0.969 (*)[6, 12000] loss: 0.956\n",
            "(*)[7,  2000] loss: 0.931 (*)[7,  4000] loss: 0.932 (*)[7,  6000] loss: 0.905 (*)[7,  8000] loss: 0.892 (*)[7, 10000] loss: 0.885 (*)[7, 12000] loss: 0.891\n",
            "(*)[8,  2000] loss: 0.844 (*)[8,  4000] loss: 0.858 (*)[8,  6000] loss: 0.846 (*)[8,  8000] loss: 0.829 (*)[8, 10000] loss: 0.825 (*)[8, 12000] loss: 0.822\n",
            "(*)[9,  2000] loss: 0.795 (*)[9,  4000] loss: 0.794 (*)[9,  6000] loss: 0.789 (*)[9,  8000] loss: 0.781 (*)[9, 10000] loss: 0.775 (*)[9, 12000] loss: 0.777\n",
            "(*)[10,  2000] loss: 0.741 (*)[10,  4000] loss: 0.743 (*)[10,  6000] loss: 0.763 (*)[10,  8000] loss: 0.727 (*)[10, 10000] loss: 0.743 (*)[10, 12000] loss: 0.727\n",
            "(*)[11,  2000] loss: 0.713 (*)[11,  4000] loss: 0.701 (*)[11,  6000] loss: 0.704 (*)[11,  8000] loss: 0.705 (*)[11, 10000] loss: 0.684 (*)[11, 12000] loss: 0.705\n",
            "(*)[12,  2000] loss: 0.668 (*)[12,  4000] loss: 0.677 (*)[12,  6000] loss: 0.665 (*)[12,  8000] loss: 0.673 (*)[12, 10000] loss: 0.672 (*)[12, 12000] loss: 0.668\n",
            "(*)[13,  2000] loss: 0.638 (*)[13,  4000] loss: 0.651 (*)[13,  6000] loss: 0.649 (*)[13,  8000] loss: 0.616 (*)[13, 10000] loss: 0.649 (*)[13, 12000] loss: 0.619\n",
            "(*)[14,  2000] loss: 0.617 (*)[14,  4000] loss: 0.618 (*)[14,  6000] loss: 0.611 (*)[14,  8000] loss: 0.605 (*)[14, 10000] loss: 0.626 (*)[14, 12000] loss: 0.616\n",
            "(*)[15,  2000] loss: 0.587 (*)[15,  4000] loss: 0.608 (*)[15,  6000] loss: 0.582 (*)[15,  8000] loss: 0.609 (*)[15, 10000] loss: 0.585 (*)[15, 12000] loss: 0.574\n",
            "(*)[16,  2000] loss: 0.556 (*)[16,  4000] loss: 0.560 (*)[16,  6000] loss: 0.566 (*)[16,  8000] loss: 0.556 (*)[16, 10000] loss: 0.582 (*)[16, 12000] loss: 0.593\n",
            "(*)[17,  2000] loss: 0.551 (*)[17,  4000] loss: 0.538 (*)[17,  6000] loss: 0.555 (*)[17,  8000] loss: 0.551 (*)[17, 10000] loss: 0.548 (*)[17, 12000] loss: 0.541\n",
            "(*)[18,  2000] loss: 0.533 (*)[18,  4000] loss: 0.521 (*)[18,  6000] loss: 0.531 (*)[18,  8000] loss: 0.547 (*)[18, 10000] loss: 0.503 (*)[18, 12000] loss: 0.536\n",
            "(*)[19,  2000] loss: 0.515 (*)[19,  4000] loss: 0.504 (*)[19,  6000] loss: 0.502 (*)[19,  8000] loss: 0.514 (*)[19, 10000] loss: 0.512 (*)[19, 12000] loss: 0.507\n",
            "(*)[20,  2000] loss: 0.490 (*)[20,  4000] loss: 0.492 (*)[20,  6000] loss: 0.497 (*)[20,  8000] loss: 0.514 (*)[20, 10000] loss: 0.491 (*)[20, 12000] loss: 0.494\n",
            "(*)[21,  2000] loss: 0.487 (*)[21,  4000] loss: 0.464 (*)[21,  6000] loss: 0.487 (*)[21,  8000] loss: 0.481 (*)[21, 10000] loss: 0.490 (*)[21, 12000] loss: 0.465\n",
            "(*)[22,  2000] loss: 0.444 (*)[22,  4000] loss: 0.460 (*)[22,  6000] loss: 0.480 (*)[22,  8000] loss: 0.479 (*)[22, 10000] loss: 0.484 (*)[22, 12000] loss: 0.473\n",
            "(*)[23,  2000] loss: 0.441 (*)[23,  4000] loss: 0.469 (*)[23,  6000] loss: 0.440 (*)[23,  8000] loss: 0.468 (*)[23, 10000] loss: 0.461 (*)[23, 12000] loss: 0.466\n",
            "(*)[24,  2000] loss: 0.445 (*)[24,  4000] loss: 0.429 (*)[24,  6000] loss: 0.437 (*)[24,  8000] loss: 0.424 (*)[24, 10000] loss: 0.463 (*)[24, 12000] loss: 0.458\n",
            "(*)[25,  2000] loss: 0.422 (*)[25,  4000] loss: 0.413 (*)[25,  6000] loss: 0.445 (*)[25,  8000] loss: 0.423 (*)[25, 10000] loss: 0.445 (*)[25, 12000] loss: 0.439\n",
            "(*)[26,  2000] loss: 0.400 (*)[26,  4000] loss: 0.441 (*)[26,  6000] loss: 0.419 (*)[26,  8000] loss: 0.436 (*)[26, 10000] loss: 0.434 (*)[26, 12000] loss: 0.437\n",
            "(*)[27,  2000] loss: 0.403 (*)[27,  4000] loss: 0.402 (*)[27,  6000] loss: 0.412 (*)[27,  8000] loss: 0.412 (*)[27, 10000] loss: 0.417 (*)[27, 12000] loss: 0.434\n",
            "(*)[28,  2000] loss: 0.402 (*)[28,  4000] loss: 0.375 (*)[28,  6000] loss: 0.387 (*)[28,  8000] loss: 0.430 (*)[28, 10000] loss: 0.410 (*)[28, 12000] loss: 0.403\n",
            "(*)[29,  2000] loss: 0.368 (*)[29,  4000] loss: 0.396 (*)[29,  6000] loss: 0.392 (*)[29,  8000] loss: 0.395 (*)[29, 10000] loss: 0.404 (*)[29, 12000] loss: 0.418\n",
            "(*)[30,  2000] loss: 0.381 (*)[30,  4000] loss: 0.398 (*)[30,  6000] loss: 0.396 (*)[30,  8000] loss: 0.384 (*)[30, 10000] loss: 0.390 (*)[30, 12000] loss: 0.402\n",
            "(*)[31,  2000] loss: 0.390 (*)[31,  4000] loss: 0.371 (*)[31,  6000] loss: 0.374 (*)[31,  8000] loss: 0.380 (*)[31, 10000] loss: 0.393 (*)[31, 12000] loss: 0.374\n",
            "(*)[32,  2000] loss: 0.346 (*)[32,  4000] loss: 0.379 (*)[32,  6000] loss: 0.359 (*)[32,  8000] loss: 0.376 (*)[32, 10000] loss: 0.371 (*)[32, 12000] loss: 0.366\n",
            "(*)[33,  2000] loss: 0.354 (*)[33,  4000] loss: 0.367 (*)[33,  6000] loss: 0.372 (*)[33,  8000] loss: 0.356 (*)[33, 10000] loss: 0.361 (*)[33, 12000] loss: 0.368\n",
            "(*)[34,  2000] loss: 0.337 (*)[34,  4000] loss: 0.342 (*)[34,  6000] loss: 0.344 (*)[34,  8000] loss: 0.347 (*)[34, 10000] loss: 0.364 (*)[34, 12000] loss: 0.363\n",
            "(*)[35,  2000] loss: 0.332 (*)[35,  4000] loss: 0.333 (*)[35,  6000] loss: 0.371 (*)[35,  8000] loss: 0.352 (*)[35, 10000] loss: 0.350 (*)[35, 12000] loss: 0.362\n",
            "(*)[36,  2000] loss: 0.321 (*)[36,  4000] loss: 0.341 (*)[36,  6000] loss: 0.340 (*)[36,  8000] loss: 0.355 (*)[36, 10000] loss: 0.341 (*)[36, 12000] loss: 0.351\n",
            "(*)[37,  2000] loss: 0.322 (*)[37,  4000] loss: 0.331 (*)[37,  6000] loss: 0.329 (*)[37,  8000] loss: 0.353 (*)[37, 10000] loss: 0.336 (*)[37, 12000] loss: 0.335\n",
            "(*)[38,  2000] loss: 0.308 (*)[38,  4000] loss: 0.339 (*)[38,  6000] loss: 0.339 (*)[38,  8000] loss: 0.338 (*)[38, 10000] loss: 0.312 (*)[38, 12000] loss: 0.337\n",
            "(*)[39,  2000] loss: 0.322 (*)[39,  4000] loss: 0.326 (*)[39,  6000] loss: 0.345 (*)[39,  8000] loss: 0.333 (*)[39, 10000] loss: 0.330 (*)[39, 12000] loss: 0.328\n",
            "(*)[40,  2000] loss: 0.322 (*)[40,  4000] loss: 0.300 (*)[40,  6000] loss: 0.320 (*)[40,  8000] loss: 0.326 (*)[40, 10000] loss: 0.336 (*)[40, 12000] loss: 0.337\n",
            "(*)[41,  2000] loss: 0.308 (*)[41,  4000] loss: 0.315 (*)[41,  6000] loss: 0.326 (*)[41,  8000] loss: 0.319 (*)[41, 10000] loss: 0.321 (*)[41, 12000] loss: 0.328\n",
            "(*)[42,  2000] loss: 0.305 (*)[42,  4000] loss: 0.304 (*)[42,  6000] loss: 0.312 (*)[42,  8000] loss: 0.318 (*)[42, 10000] loss: 0.326 (*)[42, 12000] loss: 0.306\n",
            "(*)[43,  2000] loss: 0.293 (*)[43,  4000] loss: 0.309 (*)[43,  6000] loss: 0.303 (*)[43,  8000] loss: 0.321 (*)[43, 10000] loss: 0.323 (*)[43, 12000] loss: 0.304\n",
            "(*)[44,  2000] loss: 0.278 (*)[44,  4000] loss: 0.300 (*)[44,  6000] loss: 0.297 (*)[44,  8000] loss: 0.310 (*)[44, 10000] loss: 0.301 (*)[44, 12000] loss: 0.306\n",
            "(*)[45,  2000] loss: 0.282 (*)[45,  4000] loss: 0.279 (*)[45,  6000] loss: 0.315 (*)[45,  8000] loss: 0.286 (*)[45, 10000] loss: 0.301 (*)[45, 12000] loss: 0.309\n",
            "(*)[46,  2000] loss: 0.269 (*)[46,  4000] loss: 0.300 (*)[46,  6000] loss: 0.297 (*)[46,  8000] loss: 0.293 (*)[46, 10000] loss: 0.296 (*)[46, 12000] loss: 0.302\n",
            "(*)[47,  2000] loss: 0.279 (*)[47,  4000] loss: 0.284 (*)[47,  6000] loss: 0.284 (*)[47,  8000] loss: 0.298 (*)[47, 10000] loss: 0.289 (*)[47, 12000] loss: 0.284\n",
            "(*)[48,  2000] loss: 0.271 (*)[48,  4000] loss: 0.281 (*)[48,  6000] loss: 0.281 (*)[48,  8000] loss: 0.298 (*)[48, 10000] loss: 0.286 (*)[48, 12000] loss: 0.289\n",
            "(*)[49,  2000] loss: 0.272 (*)[49,  4000] loss: 0.277 (*)[49,  6000] loss: 0.290 (*)[49,  8000] loss: 0.290 (*)[49, 10000] loss: 0.278 (*)[49, 12000] loss: 0.299\n",
            "(*)[50,  2000] loss: 0.271 (*)[50,  4000] loss: 0.258 (*)[50,  6000] loss: 0.278 (*)[50,  8000] loss: 0.262 (*)[50, 10000] loss: 0.279 (*)[50, 12000] loss: 0.293\n",
            "Finished Training\n",
            "Duration: 2:58:23.908849\n"
          ],
          "name": "stdout"
        }
      ]
    },
    {
      "cell_type": "markdown",
      "metadata": {
        "id": "1s0zuqvaVXhy"
      },
      "source": [
        "## Accuracy"
      ]
    },
    {
      "cell_type": "code",
      "metadata": {
        "id": "zlH9DuWwg-_y",
        "outputId": "b096c0e6-d972-4678-c436-92cf66892538",
        "colab": {
          "base_uri": "https://localhost:8080/",
          "height": 172
        }
      },
      "source": [
        "dataiter = iter(test_loader)\n",
        "images, labels = dataiter.next()\n",
        "\n",
        "# print images\n",
        "imshow(torchvision.utils.make_grid(images))\n",
        "print('GroundTruth: ', ' '.join('%5s' % classes[labels[j]] for j in range(4)))"
      ],
      "execution_count": 13,
      "outputs": [
        {
          "output_type": "stream",
          "text": [
            "Clipping input data to the valid range for imshow with RGB data ([0..1] for floats or [0..255] for integers).\n"
          ],
          "name": "stderr"
        },
        {
          "output_type": "stream",
          "text": [
            "GroundTruth:    cat  ship  ship plane\n"
          ],
          "name": "stdout"
        },
        {
          "output_type": "display_data",
          "data": {
            "image/png": "[encoded data removed]",
            "text/plain": [
              "<Figure size 432x288 with 1 Axes>"
            ]
          },
          "metadata": {
            "tags": [],
            "needs_background": "light"
          }
        }
      ]
    },
    {
      "cell_type": "markdown",
      "metadata": {
        "id": "q27nBzpRhfem"
      },
      "source": [
        "Accuracy of the network on the 10000 test images"
      ]
    },
    {
      "cell_type": "code",
      "metadata": {
        "id": "ns-Bv2bU1Bqu",
        "outputId": "504018aa-7f40-40d7-95e5-ea50d3083b74",
        "colab": {
          "base_uri": "https://localhost:8080/",
          "height": 34
        }
      },
      "source": [
        "from EVA5.S7 import cifar10CheckLib\n",
        "cifar10CheckLib.check_test_accuracy(model, device, test_loader)"
      ],
      "execution_count": 14,
      "outputs": [
        {
          "output_type": "stream",
          "text": [
            "Accuracy of the network on the 10000 test images: 85 %\n"
          ],
          "name": "stdout"
        }
      ]
    },
    {
      "cell_type": "markdown",
      "metadata": {
        "id": "V1tA_cMQimor"
      },
      "source": [
        "Classwise evaluation"
      ]
    },
    {
      "cell_type": "code",
      "metadata": {
        "id": "B9QWK7l11i01",
        "outputId": "fe876076-8782-4b38-eac8-0d5f966ce426",
        "colab": {
          "base_uri": "https://localhost:8080/",
          "height": 185
        }
      },
      "source": [
        "cifar10CheckLib.check_classwise_accuracy(model, device, test_loader, classes)"
      ],
      "execution_count": 15,
      "outputs": [
        {
          "output_type": "stream",
          "text": [
            "Accuracy of plane : 89 %\n",
            "Accuracy of   car : 95 %\n",
            "Accuracy of  bird : 78 %\n",
            "Accuracy of   cat : 76 %\n",
            "Accuracy of  deer : 85 %\n",
            "Accuracy of   dog : 76 %\n",
            "Accuracy of  frog : 86 %\n",
            "Accuracy of horse : 89 %\n",
            "Accuracy of  ship : 89 %\n",
            "Accuracy of truck : 91 %\n"
          ],
          "name": "stdout"
        }
      ]
    },
    {
      "cell_type": "markdown",
      "metadata": {
        "id": "OVzkWbWUFONh"
      },
      "source": [
        "## Summary:\n",
        "\n",
        "A ResNet18 model was used and Albumination functions were imported to implement transformations including Cutout. LR finder was implemented and best LR was found and the network was trained for 50 epochs.\n",
        "\n",
        "* Total params: `11,173,962`\n",
        "* Accuracy of the network on the 10000 test images:  `85%`"
      ]
    }
  ]
}